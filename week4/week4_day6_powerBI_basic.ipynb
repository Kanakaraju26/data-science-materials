{
 "cells": [
  {
   "cell_type": "markdown",
   "id": "3d8eb233-a674-4459-b976-b773969eb74b",
   "metadata": {},
   "source": [
    "# # 📊 Basics of Power BI\n",
    "# This notebook documents foundational concepts, summaries, and links as part of the Power BI learning journey.\n"
   ]
  },
  {
   "cell_type": "markdown",
   "id": "b0801ec4",
   "metadata": {},
   "source": [
    "\n",
    "## 🔍 What is Power BI?\n",
    "\n",
    "Power BI is a business analytics service by Microsoft that provides tools for aggregating, analyzing, visualizing, and sharing data. \n",
    "\n",
    "**Main Components:**\n",
    "- Power BI Desktop\n",
    "- Power BI Service (Cloud)\n",
    "- Power BI Mobile\n",
    "- Power BI Report Server\n",
    "\n",
    "Power BI connects to various data sources and helps users create interactive dashboards and reports.\n",
    "\n",
    "Useful link: [Get started with Power BI](https://learn.microsoft.com/en-us/training/modules/get-started-power-bi/) \n",
    "\n"
   ]
  },
  {
   "cell_type": "markdown",
   "id": "14c85562",
   "metadata": {},
   "source": [
    "\n",
    "## 🖥️ Power BI Desktop vs ☁️ Power BI Service\n",
    "\n",
    "| Feature | Power BI Desktop | Power BI Service |\n",
    "|--------|------------------|------------------|\n",
    "| Purpose | Report creation | Report sharing & collaboration |\n",
    "| Platform | Windows App | Web |\n",
    "| Data Modeling | ✔️ | ❌ (view only) |\n",
    "| DAX/Measures | ✔️ | View only |\n",
    "| Scheduled Refresh | ❌ | ✔️ |\n",
    "| Licensing Needed | No | Pro or Premium |\n",
    "\n"
   ]
  },
  {
   "cell_type": "markdown",
   "id": "5c7dcad2",
   "metadata": {},
   "source": [
    "\n",
    "## 🧠 Key Concepts Summary\n",
    "\n",
    "- **Dataset**: Data source used in reports.\n",
    "- **Report**: A collection of visuals built using a dataset.\n",
    "- **Dashboard**: A high-level view made by pinning visuals from reports.\n",
    "- **Workspace**: A container to manage content (datasets, reports, dashboards).\n",
    "- **Dataflow**: Preprocessed data stored in the cloud (Power Query Online).\n",
    "\n"
   ]
  },
  {
   "cell_type": "markdown",
   "id": "3fc36235",
   "metadata": {},
   "source": [
    "\n",
    "## 🎥 Useful Videos\n",
    "- [Power BI Overview – Microsoft Learn](https://learn.microsoft.com/en-us/training/modules/get-started-power-bi/)\n",
    "- [Power BI Desktop Tour](https://learn.microsoft.com/en-us/training/modules/tour-power-bi-desktop/)\n",
    "- [Guy in a Cube – YouTube](https://www.youtube.com/@GuyinaCube)\n"
   ]
  }
 ],
 "metadata": {
  "kernelspec": {
   "display_name": "Python [conda env:base] *",
   "language": "python",
   "name": "conda-base-py"
  },
  "language_info": {
   "codemirror_mode": {
    "name": "ipython",
    "version": 3
   },
   "file_extension": ".py",
   "mimetype": "text/x-python",
   "name": "python",
   "nbconvert_exporter": "python",
   "pygments_lexer": "ipython3",
   "version": "3.12.7"
  }
 },
 "nbformat": 4,
 "nbformat_minor": 5
}
