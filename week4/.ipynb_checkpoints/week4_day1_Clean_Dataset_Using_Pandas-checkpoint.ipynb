{
 "cells": [
  {
   "cell_type": "code",
   "execution_count": 1,
   "id": "87a97ec6-da1c-4040-a7fc-34ec7668418c",
   "metadata": {},
   "outputs": [],
   "source": [
    "import pandas as pd"
   ]
  },
  {
   "cell_type": "code",
   "execution_count": 17,
   "id": "a644193d",
   "metadata": {},
   "outputs": [],
   "source": [
    "data = pd.read_csv(\"C:\\\\Users\\\\Home\\\\Downloads\\\\Documents\\\\covid_19_india.csv\")"
   ]
  },
  {
   "cell_type": "code",
   "execution_count": 18,
   "id": "75cd8342",
   "metadata": {},
   "outputs": [
    {
     "name": "stdout",
     "output_type": "stream",
     "text": [
      "     Unnamed: 0        Date       State/UT  Latitude  Longitude  Confirmed  \\\n",
      "942         942  2020/04/15         Odisha   20.9517    85.0985         60   \n",
      "943         943  2020/04/15     Puducherry   11.9416    79.8083          7   \n",
      "944         944  2020/04/15         Punjab   31.1471    75.3412        176   \n",
      "945         945  2020/04/15      Rajasthan   27.0238    74.2179        969   \n",
      "946         946  2020/04/15     Tamil Nadu   11.1271    78.6569       1204   \n",
      "947         947  2020/04/15      Telengana   18.1124    79.0193        624   \n",
      "948         948  2020/04/15        Tripura   23.9408    91.9882          2   \n",
      "949         949  2020/04/15  Uttar Pradesh   26.8467    80.9462        660   \n",
      "950         950  2020/04/15    Uttarakhand   30.0668    79.0193         37   \n",
      "951         951  2020/04/15    West Bengal   22.9868    87.8550        213   \n",
      "\n",
      "     Active  Deaths  Mortality rate  Cured  Recovery rate  \n",
      "942      41       1        0.016667     18       0.300000  \n",
      "943       6       0        0.000000      1       0.142857  \n",
      "944     150      12        0.068182     14       0.079545  \n",
      "945     819       3        0.003096    147       0.151703  \n",
      "946    1111      12        0.009967     81       0.067276  \n",
      "947     507      17        0.027244    100       0.160256  \n",
      "948       2       0        0.000000      0       0.000000  \n",
      "949     605       5        0.007576     50       0.075758  \n",
      "950      28       0        0.000000      9       0.243243  \n",
      "951     169       7        0.032864     37       0.173709  \n"
     ]
    }
   ],
   "source": [
    "print(data.tail(10))"
   ]
  },
  {
   "cell_type": "code",
   "execution_count": 22,
   "id": "359c958b",
   "metadata": {},
   "outputs": [
    {
     "ename": "KeyError",
     "evalue": "\"['unnamed'] not found in axis\"",
     "output_type": "error",
     "traceback": [
      "\u001b[1;31m---------------------------------------------------------------------------\u001b[0m",
      "\u001b[1;31mKeyError\u001b[0m                                  Traceback (most recent call last)",
      "Cell \u001b[1;32mIn[22], line 1\u001b[0m\n\u001b[1;32m----> 1\u001b[0m data\u001b[38;5;241m.\u001b[39mdrop(\u001b[38;5;124m'\u001b[39m\u001b[38;5;124munnamed\u001b[39m\u001b[38;5;124m'\u001b[39m, axis\u001b[38;5;241m=\u001b[39m\u001b[38;5;241m1\u001b[39m, inplace\u001b[38;5;241m=\u001b[39m\u001b[38;5;28;01mTrue\u001b[39;00m)\n",
      "File \u001b[1;32mc:\\Users\\Home\\anaconda3\\Lib\\site-packages\\pandas\\core\\frame.py:5581\u001b[0m, in \u001b[0;36mDataFrame.drop\u001b[1;34m(self, labels, axis, index, columns, level, inplace, errors)\u001b[0m\n\u001b[0;32m   5433\u001b[0m \u001b[38;5;28;01mdef\u001b[39;00m \u001b[38;5;21mdrop\u001b[39m(\n\u001b[0;32m   5434\u001b[0m     \u001b[38;5;28mself\u001b[39m,\n\u001b[0;32m   5435\u001b[0m     labels: IndexLabel \u001b[38;5;241m|\u001b[39m \u001b[38;5;28;01mNone\u001b[39;00m \u001b[38;5;241m=\u001b[39m \u001b[38;5;28;01mNone\u001b[39;00m,\n\u001b[1;32m   (...)\u001b[0m\n\u001b[0;32m   5442\u001b[0m     errors: IgnoreRaise \u001b[38;5;241m=\u001b[39m \u001b[38;5;124m\"\u001b[39m\u001b[38;5;124mraise\u001b[39m\u001b[38;5;124m\"\u001b[39m,\n\u001b[0;32m   5443\u001b[0m ) \u001b[38;5;241m-\u001b[39m\u001b[38;5;241m>\u001b[39m DataFrame \u001b[38;5;241m|\u001b[39m \u001b[38;5;28;01mNone\u001b[39;00m:\n\u001b[0;32m   5444\u001b[0m \u001b[38;5;250m    \u001b[39m\u001b[38;5;124;03m\"\"\"\u001b[39;00m\n\u001b[0;32m   5445\u001b[0m \u001b[38;5;124;03m    Drop specified labels from rows or columns.\u001b[39;00m\n\u001b[0;32m   5446\u001b[0m \n\u001b[1;32m   (...)\u001b[0m\n\u001b[0;32m   5579\u001b[0m \u001b[38;5;124;03m            weight  1.0     0.8\u001b[39;00m\n\u001b[0;32m   5580\u001b[0m \u001b[38;5;124;03m    \"\"\"\u001b[39;00m\n\u001b[1;32m-> 5581\u001b[0m     \u001b[38;5;28;01mreturn\u001b[39;00m \u001b[38;5;28msuper\u001b[39m()\u001b[38;5;241m.\u001b[39mdrop(\n\u001b[0;32m   5582\u001b[0m         labels\u001b[38;5;241m=\u001b[39mlabels,\n\u001b[0;32m   5583\u001b[0m         axis\u001b[38;5;241m=\u001b[39maxis,\n\u001b[0;32m   5584\u001b[0m         index\u001b[38;5;241m=\u001b[39mindex,\n\u001b[0;32m   5585\u001b[0m         columns\u001b[38;5;241m=\u001b[39mcolumns,\n\u001b[0;32m   5586\u001b[0m         level\u001b[38;5;241m=\u001b[39mlevel,\n\u001b[0;32m   5587\u001b[0m         inplace\u001b[38;5;241m=\u001b[39minplace,\n\u001b[0;32m   5588\u001b[0m         errors\u001b[38;5;241m=\u001b[39merrors,\n\u001b[0;32m   5589\u001b[0m     )\n",
      "File \u001b[1;32mc:\\Users\\Home\\anaconda3\\Lib\\site-packages\\pandas\\core\\generic.py:4788\u001b[0m, in \u001b[0;36mNDFrame.drop\u001b[1;34m(self, labels, axis, index, columns, level, inplace, errors)\u001b[0m\n\u001b[0;32m   4786\u001b[0m \u001b[38;5;28;01mfor\u001b[39;00m axis, labels \u001b[38;5;129;01min\u001b[39;00m axes\u001b[38;5;241m.\u001b[39mitems():\n\u001b[0;32m   4787\u001b[0m     \u001b[38;5;28;01mif\u001b[39;00m labels \u001b[38;5;129;01mis\u001b[39;00m \u001b[38;5;129;01mnot\u001b[39;00m \u001b[38;5;28;01mNone\u001b[39;00m:\n\u001b[1;32m-> 4788\u001b[0m         obj \u001b[38;5;241m=\u001b[39m obj\u001b[38;5;241m.\u001b[39m_drop_axis(labels, axis, level\u001b[38;5;241m=\u001b[39mlevel, errors\u001b[38;5;241m=\u001b[39merrors)\n\u001b[0;32m   4790\u001b[0m \u001b[38;5;28;01mif\u001b[39;00m inplace:\n\u001b[0;32m   4791\u001b[0m     \u001b[38;5;28mself\u001b[39m\u001b[38;5;241m.\u001b[39m_update_inplace(obj)\n",
      "File \u001b[1;32mc:\\Users\\Home\\anaconda3\\Lib\\site-packages\\pandas\\core\\generic.py:4830\u001b[0m, in \u001b[0;36mNDFrame._drop_axis\u001b[1;34m(self, labels, axis, level, errors, only_slice)\u001b[0m\n\u001b[0;32m   4828\u001b[0m         new_axis \u001b[38;5;241m=\u001b[39m axis\u001b[38;5;241m.\u001b[39mdrop(labels, level\u001b[38;5;241m=\u001b[39mlevel, errors\u001b[38;5;241m=\u001b[39merrors)\n\u001b[0;32m   4829\u001b[0m     \u001b[38;5;28;01melse\u001b[39;00m:\n\u001b[1;32m-> 4830\u001b[0m         new_axis \u001b[38;5;241m=\u001b[39m axis\u001b[38;5;241m.\u001b[39mdrop(labels, errors\u001b[38;5;241m=\u001b[39merrors)\n\u001b[0;32m   4831\u001b[0m     indexer \u001b[38;5;241m=\u001b[39m axis\u001b[38;5;241m.\u001b[39mget_indexer(new_axis)\n\u001b[0;32m   4833\u001b[0m \u001b[38;5;66;03m# Case for non-unique axis\u001b[39;00m\n\u001b[0;32m   4834\u001b[0m \u001b[38;5;28;01melse\u001b[39;00m:\n",
      "File \u001b[1;32mc:\\Users\\Home\\anaconda3\\Lib\\site-packages\\pandas\\core\\indexes\\base.py:7070\u001b[0m, in \u001b[0;36mIndex.drop\u001b[1;34m(self, labels, errors)\u001b[0m\n\u001b[0;32m   7068\u001b[0m \u001b[38;5;28;01mif\u001b[39;00m mask\u001b[38;5;241m.\u001b[39many():\n\u001b[0;32m   7069\u001b[0m     \u001b[38;5;28;01mif\u001b[39;00m errors \u001b[38;5;241m!=\u001b[39m \u001b[38;5;124m\"\u001b[39m\u001b[38;5;124mignore\u001b[39m\u001b[38;5;124m\"\u001b[39m:\n\u001b[1;32m-> 7070\u001b[0m         \u001b[38;5;28;01mraise\u001b[39;00m \u001b[38;5;167;01mKeyError\u001b[39;00m(\u001b[38;5;124mf\u001b[39m\u001b[38;5;124m\"\u001b[39m\u001b[38;5;132;01m{\u001b[39;00mlabels[mask]\u001b[38;5;241m.\u001b[39mtolist()\u001b[38;5;132;01m}\u001b[39;00m\u001b[38;5;124m not found in axis\u001b[39m\u001b[38;5;124m\"\u001b[39m)\n\u001b[0;32m   7071\u001b[0m     indexer \u001b[38;5;241m=\u001b[39m indexer[\u001b[38;5;241m~\u001b[39mmask]\n\u001b[0;32m   7072\u001b[0m \u001b[38;5;28;01mreturn\u001b[39;00m \u001b[38;5;28mself\u001b[39m\u001b[38;5;241m.\u001b[39mdelete(indexer)\n",
      "\u001b[1;31mKeyError\u001b[0m: \"['unnamed'] not found in axis\""
     ]
    }
   ],
   "source": [
    "data.drop('unnamed', axis=1, inplace=True)"
   ]
  },
  {
   "cell_type": "code",
   "execution_count": 24,
   "id": "79908c95",
   "metadata": {},
   "outputs": [
    {
     "name": "stdout",
     "output_type": "stream",
     "text": [
      "['Unnamed: 0', 'Date', 'State/UT', 'Latitude', 'Longitude', 'Confirmed', 'Active', 'Deaths', 'Mortality rate', 'Cured', 'Recovery rate']\n"
     ]
    }
   ],
   "source": [
    "print(data.columns.tolist())\n"
   ]
  },
  {
   "cell_type": "code",
   "execution_count": 25,
   "id": "4227be16",
   "metadata": {},
   "outputs": [],
   "source": [
    "data.drop(\"Unnamed: 0\", axis=1, inplace=True)\n"
   ]
  },
  {
   "cell_type": "code",
   "execution_count": 26,
   "id": "2e836627",
   "metadata": {},
   "outputs": [
    {
     "name": "stdout",
     "output_type": "stream",
     "text": [
      "           Date       State/UT  Latitude  Longitude  Confirmed  Active  \\\n",
      "0    2020/01/30         Kerala   10.8505    76.2711          1       1   \n",
      "1    2020/01/31         Kerala   10.8505    76.2711          1       1   \n",
      "2    2020/02/01         Kerala   10.8505    76.2711          2       2   \n",
      "3    2020/02/02         Kerala   10.8505    76.2711          3       3   \n",
      "4    2020/02/03         Kerala   10.8505    76.2711          3       3   \n",
      "..          ...            ...       ...        ...        ...     ...   \n",
      "947  2020/04/15      Telengana   18.1124    79.0193        624     507   \n",
      "948  2020/04/15        Tripura   23.9408    91.9882          2       2   \n",
      "949  2020/04/15  Uttar Pradesh   26.8467    80.9462        660     605   \n",
      "950  2020/04/15    Uttarakhand   30.0668    79.0193         37      28   \n",
      "951  2020/04/15    West Bengal   22.9868    87.8550        213     169   \n",
      "\n",
      "     Deaths  Mortality rate  Cured  Recovery rate  \n",
      "0         0        0.000000      0       0.000000  \n",
      "1         0        0.000000      0       0.000000  \n",
      "2         0        0.000000      0       0.000000  \n",
      "3         0        0.000000      0       0.000000  \n",
      "4         0        0.000000      0       0.000000  \n",
      "..      ...             ...    ...            ...  \n",
      "947      17        0.027244    100       0.160256  \n",
      "948       0        0.000000      0       0.000000  \n",
      "949       5        0.007576     50       0.075758  \n",
      "950       0        0.000000      9       0.243243  \n",
      "951       7        0.032864     37       0.173709  \n",
      "\n",
      "[952 rows x 10 columns]\n"
     ]
    }
   ],
   "source": [
    "print(data)"
   ]
  },
  {
   "cell_type": "code",
   "execution_count": 28,
   "id": "aaa50bbd",
   "metadata": {},
   "outputs": [
    {
     "data": {
      "text/plain": [
       "Date              0\n",
       "State/UT          0\n",
       "Latitude          0\n",
       "Longitude         0\n",
       "Confirmed         0\n",
       "Active            0\n",
       "Deaths            0\n",
       "Mortality rate    2\n",
       "Cured             0\n",
       "Recovery rate     2\n",
       "dtype: int64"
      ]
     },
     "execution_count": 28,
     "metadata": {},
     "output_type": "execute_result"
    }
   ],
   "source": [
    "data.isnull().sum()"
   ]
  },
  {
   "cell_type": "code",
   "execution_count": 31,
   "id": "93d59502",
   "metadata": {},
   "outputs": [
    {
     "data": {
      "text/plain": [
       "(0.02206910978134304, 0.0928798640050857)"
      ]
     },
     "execution_count": 31,
     "metadata": {},
     "output_type": "execute_result"
    }
   ],
   "source": [
    "data[\"Mortality rate\"].mean(), data[\"Recovery rate\"].mean()"
   ]
  },
  {
   "cell_type": "code",
   "execution_count": 33,
   "id": "53f82219",
   "metadata": {},
   "outputs": [
    {
     "data": {
      "text/plain": [
       "[37, 941]"
      ]
     },
     "execution_count": 33,
     "metadata": {},
     "output_type": "execute_result"
    }
   ],
   "source": [
    "nan_positions = data['Mortality rate'][data['Mortality rate'].isna()].index.tolist()\n",
    "nan_positions"
   ]
  },
  {
   "cell_type": "code",
   "execution_count": 38,
   "id": "aad55df9",
   "metadata": {},
   "outputs": [
    {
     "name": "stdout",
     "output_type": "stream",
     "text": [
      "nan\n",
      "nan\n"
     ]
    }
   ],
   "source": [
    "print(data.iat[37, 7])\n",
    "print(data.iat[941, 7])"
   ]
  },
  {
   "cell_type": "code",
   "execution_count": 39,
   "id": "8ca693bb",
   "metadata": {},
   "outputs": [],
   "source": [
    "data.iloc[37, 7] = (data.iat[36, 7] + data.iat[38, 7]) / 2\n"
   ]
  },
  {
   "cell_type": "code",
   "execution_count": 42,
   "id": "f15faf3a",
   "metadata": {},
   "outputs": [
    {
     "name": "stdout",
     "output_type": "stream",
     "text": [
      "0.0\n",
      "0.0\n",
      "0.0\n"
     ]
    }
   ],
   "source": [
    "print(data.iat[36, 7])  \n",
    "print(data.iat[38, 7])\n",
    "print(data.iat[37, 7])"
   ]
  },
  {
   "cell_type": "code",
   "execution_count": 43,
   "id": "ab3183a1",
   "metadata": {},
   "outputs": [
    {
     "data": {
      "text/plain": [
       "Date              0\n",
       "State/UT          0\n",
       "Latitude          0\n",
       "Longitude         0\n",
       "Confirmed         0\n",
       "Active            0\n",
       "Deaths            0\n",
       "Mortality rate    1\n",
       "Cured             0\n",
       "Recovery rate     2\n",
       "dtype: int64"
      ]
     },
     "execution_count": 43,
     "metadata": {},
     "output_type": "execute_result"
    }
   ],
   "source": [
    "data.isnull().sum()"
   ]
  },
  {
   "cell_type": "code",
   "execution_count": 45,
   "id": "5a5aea52",
   "metadata": {},
   "outputs": [
    {
     "name": "stdout",
     "output_type": "stream",
     "text": [
      "0.0\n",
      "0.0166666666666666\n"
     ]
    }
   ],
   "source": [
    "print(data.iat[940, 7])\n",
    "print(data.iat[942, 7])\n",
    "data.iloc[941, 7] = (data.iat[940, 7] + data.iat[942, 7]) / 2\n"
   ]
  },
  {
   "cell_type": "code",
   "execution_count": 46,
   "id": "297b1f7f",
   "metadata": {},
   "outputs": [
    {
     "name": "stdout",
     "output_type": "stream",
     "text": [
      "0.0083333333333333\n"
     ]
    },
    {
     "data": {
      "text/plain": [
       "Date              0\n",
       "State/UT          0\n",
       "Latitude          0\n",
       "Longitude         0\n",
       "Confirmed         0\n",
       "Active            0\n",
       "Deaths            0\n",
       "Mortality rate    0\n",
       "Cured             0\n",
       "Recovery rate     2\n",
       "dtype: int64"
      ]
     },
     "execution_count": 46,
     "metadata": {},
     "output_type": "execute_result"
    }
   ],
   "source": [
    "print(data.iat[941, 7])\n",
    "data.isnull().sum()"
   ]
  },
  {
   "cell_type": "code",
   "execution_count": 47,
   "id": "5417a126",
   "metadata": {},
   "outputs": [
    {
     "data": {
      "text/plain": [
       "[37, 941]"
      ]
     },
     "execution_count": 47,
     "metadata": {},
     "output_type": "execute_result"
    }
   ],
   "source": [
    "data['Recovery rate'][data['Recovery rate'].isna()].index.tolist()"
   ]
  },
  {
   "cell_type": "code",
   "execution_count": 51,
   "id": "305b1190",
   "metadata": {},
   "outputs": [
    {
     "name": "stdout",
     "output_type": "stream",
     "text": [
      "1.0\n",
      "0.0\n",
      "nan\n"
     ]
    }
   ],
   "source": [
    "print(data.iat[36, 9])  \n",
    "print(data.iat[38, 9])\n",
    "print(data.iat[37, 9])"
   ]
  },
  {
   "cell_type": "code",
   "execution_count": 52,
   "id": "42f85f6f",
   "metadata": {},
   "outputs": [],
   "source": [
    "data.iloc[37, 9] = (data.iat[36, 9] + data.iat[38, 9]) / 2"
   ]
  },
  {
   "cell_type": "code",
   "execution_count": 50,
   "id": "c6ac06e1",
   "metadata": {},
   "outputs": [
    {
     "name": "stdout",
     "output_type": "stream",
     "text": [
      "0.0166666666666666\n"
     ]
    }
   ],
   "source": [
    "print(data.loc[942, \"Mortality rate\"])"
   ]
  },
  {
   "cell_type": "code",
   "execution_count": 54,
   "id": "441b3d8d",
   "metadata": {},
   "outputs": [
    {
     "name": "stdout",
     "output_type": "stream",
     "text": [
      "0.0\n",
      "0.3\n",
      "nan\n"
     ]
    }
   ],
   "source": [
    "print(data.iat[940, 9])  \n",
    "print(data.iat[942, 9])\n",
    "print(data.iat[941, 9])"
   ]
  },
  {
   "cell_type": "code",
   "execution_count": 55,
   "id": "362977c9",
   "metadata": {},
   "outputs": [],
   "source": [
    "data.iloc[941, 9] = (data.iat[940, 9] + data.iat[942, 9]) / 2"
   ]
  },
  {
   "cell_type": "code",
   "execution_count": 57,
   "id": "b63fa3a7",
   "metadata": {},
   "outputs": [
    {
     "data": {
      "text/plain": [
       "Date              0\n",
       "State/UT          0\n",
       "Latitude          0\n",
       "Longitude         0\n",
       "Confirmed         0\n",
       "Active            0\n",
       "Deaths            0\n",
       "Mortality rate    0\n",
       "Cured             0\n",
       "Recovery rate     0\n",
       "dtype: int64"
      ]
     },
     "execution_count": 57,
     "metadata": {},
     "output_type": "execute_result"
    }
   ],
   "source": [
    "data.isnull().sum()"
   ]
  },
  {
   "cell_type": "code",
   "execution_count": 58,
   "id": "45b92e2f",
   "metadata": {},
   "outputs": [],
   "source": [
    "data.to_csv(\"covid_india_cleaned.csv\")"
   ]
  },
  {
   "cell_type": "code",
   "execution_count": null,
   "id": "ecc09c7d",
   "metadata": {},
   "outputs": [],
   "source": []
  }
 ],
 "metadata": {
  "kernelspec": {
   "display_name": "Python [conda env:base] *",
   "language": "python",
   "name": "conda-base-py"
  },
  "language_info": {
   "codemirror_mode": {
    "name": "ipython",
    "version": 3
   },
   "file_extension": ".py",
   "mimetype": "text/x-python",
   "name": "python",
   "nbconvert_exporter": "python",
   "pygments_lexer": "ipython3",
   "version": "3.12.7"
  }
 },
 "nbformat": 4,
 "nbformat_minor": 5
}
