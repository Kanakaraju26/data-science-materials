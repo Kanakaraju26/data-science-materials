{
 "cells": [
  {
   "cell_type": "markdown",
   "id": "a58860de-d4df-4fa9-a472-0ad3b36177c3",
   "metadata": {},
   "source": [
    "# 📊 Basic Charts in Power BI\n",
    "\n",
    "Power BI offers a wide range of visualization types. Below is a beginner-friendly guide to commonly used charts, their use cases, and key configuration tips.\n"
   ]
  },
  {
   "cell_type": "markdown",
   "id": "fac5217b",
   "metadata": {},
   "source": [
    "## 1. **Bar Chart / Column Chart**\n",
    "\n",
    "**Use Case:** Compare numerical values across categories.\n",
    "\n",
    "- **Bar Chart**: Horizontal bars\n",
    "- **Column Chart**: Vertical bars\n",
    "\n",
    "**Best for:**\n",
    "- Sales by region\n",
    "- Product revenue comparison\n",
    "\n",
    "**Tips:**\n",
    "- Use stacked bars for subcategories\n",
    "- Add data labels for clarity"
   ]
  },
  {
   "cell_type": "markdown",
   "id": "414c48ea",
   "metadata": {},
   "source": [
    "## 2. **Line Chart**\n",
    "\n",
    "**Use Case:** Show trends over time (time series).\n",
    "\n",
    "**Best for:**\n",
    "- Monthly sales\n",
    "- Website traffic over weeks\n",
    "\n",
    "**Tips:**\n",
    "- Use with a continuous date field\n",
    "- Add markers to emphasize key points"
   ]
  },
  {
   "cell_type": "markdown",
   "id": "e23aa43a",
   "metadata": {},
   "source": [
    "## 3. **Pie Chart / Donut Chart**\n",
    "\n",
    "**Use Case:** Show part-to-whole relationships.\n",
    "\n",
    "- **Pie Chart**: Circular, single-series\n",
    "- **Donut Chart**: Like a pie chart with a hole in the middle\n",
    "\n",
    "**Best for:**\n",
    "- Market share\n",
    "- Sales % by category\n",
    "\n",
    "**Tips:**\n",
    "- Avoid using more than 5–6 slices\n",
    "- Don’t use for comparisons over time"
   ]
  },
  {
   "cell_type": "markdown",
   "id": "4e16ce4e",
   "metadata": {},
   "source": [
    "## 4. **Table & Matrix**\n",
    "\n",
    "**Table**\n",
    "- Flat, Excel-like structure\n",
    "- Best for displaying raw data\n",
    "\n",
    "**Matrix**\n",
    "- Pivot table-like format\n",
    "- Shows data in a grouped layout\n",
    "\n",
    "**Best for:**\n",
    "- Detailed financials\n",
    "- Region-wise performance\n",
    "\n",
    "**Tips:**\n",
    "- Use conditional formatting\n",
    "- Expand/collapse rows in Matrix"
   ]
  },
  {
   "cell_type": "markdown",
   "id": "70bab9a0",
   "metadata": {},
   "source": [
    "## 5. **Scatter Plot**\n",
    "\n",
    "**Use Case:** Show relationships between two numerical values.\n",
    "\n",
    "**Best for:**\n",
    "- Correlation between marketing spend vs. revenue\n",
    "- Product pricing vs. units sold\n",
    "\n",
    "**Tips:**\n",
    "- Use different colors or bubble sizes for a third variable\n",
    "- Good for outlier detection"
   ]
  },
  {
   "cell_type": "markdown",
   "id": "5f1e65fa",
   "metadata": {},
   "source": [
    "## 6. **Area Chart**\n",
    "\n",
    "**Use Case:** Display trends over time with a filled area under the line.\n",
    "\n",
    "**Best for:**\n",
    "- Cumulative data like revenue\n",
    "- Stack multiple areas for comparison\n",
    "\n",
    "**Tips:**\n",
    "- Use sparingly; can get cluttered\n",
    "- Label directly if possible"
   ]
  },
  {
   "cell_type": "markdown",
   "id": "91878ee8",
   "metadata": {},
   "source": [
    "## 7. **Combo Chart (Line and Bar)**\n",
    "\n",
    "**Use Case:** Compare two types of values with different scales.\n",
    "\n",
    "**Best for:**\n",
    "- Revenue (bar) vs. Growth rate % (line)\n",
    "- Expenses vs. Headcount over months\n",
    "\n",
    "**Tips:**\n",
    "- Set dual axis properly\n",
    "- Use legend and titles for clarity"
   ]
  },
  {
   "cell_type": "markdown",
   "id": "e879a264",
   "metadata": {},
   "source": [
    "## 8. **Card / Multi-Row Card**\n",
    "\n",
    "**Card**\n",
    "- Displays a single number (KPI)\n",
    "\n",
    "**Multi-Row Card**\n",
    "- Displays multiple KPIs in a list format\n",
    "\n",
    "**Best for:**\n",
    "- Showing Total Sales, Units Sold, Profit Margin at a glance\n",
    "\n",
    "**Tips:**\n",
    "- Use with DAX measures\n",
    "- Keep layout clean and aligned"
   ]
  },
  {
   "cell_type": "markdown",
   "id": "67b29f6f",
   "metadata": {},
   "source": [
    "\n",
    "## 9. **Gauge Chart**\n",
    "\n",
    "**Use Case:** Show progress toward a goal\n",
    "\n",
    "**Best for:**\n",
    "- Target completion metrics\n",
    "- % of sales goal achieved\n",
    "\n",
    "**Tips:**\n",
    "- Avoid overuse\n",
    "- Define min, max, and target values clearly"
   ]
  },
  {
   "cell_type": "markdown",
   "id": "8fa13171",
   "metadata": {},
   "source": [
    "## 10. **Treemap**\n",
    "\n",
    "**Use Case:** Visualize hierarchical data with nested rectangles\n",
    "\n",
    "**Best for:**\n",
    "- Sales by category/subcategory\n",
    "- Market share\n",
    "\n",
    "**Tips:**\n",
    "- Good alternative to pie charts\n",
    "- Use tooltips for detailed values"
   ]
  },
  {
   "cell_type": "markdown",
   "id": "519e3df5",
   "metadata": {},
   "source": [
    "\n",
    "## 11. **Funnel Chart**\n",
    "\n",
    "**Use Case:** Track stages in a process (like sales funnel)\n",
    "\n",
    "**Best for:**\n",
    "- Leads → Opportunities → Deals\n",
    "- Application stages\n",
    "\n",
    "**Tips:**\n",
    "- Highlight drop-off between stages\n",
    "- Limit stages to 5–6 for clarity"
   ]
  },
  {
   "cell_type": "markdown",
   "id": "2529b69e",
   "metadata": {},
   "source": [
    "\n",
    "## 12. **Decomposition Tree**\n",
    "\n",
    "**Use Case:** Drill down into data by dimensions\n",
    "\n",
    "**Best for:**\n",
    "- Exploring why KPIs changed\n",
    "- Root-cause analysis\n",
    "\n",
    "**Tips:**\n",
    "- Interactive for end-users\n",
    "- Only available in Power BI Service & Desktop (not Mobile)"
   ]
  },
  {
   "cell_type": "markdown",
   "id": "a255bcaf",
   "metadata": {},
   "source": [
    "\n",
    "## 12. **Decomposition Tree**\n",
    "\n",
    "**Use Case:** Drill down into data by dimensions\n",
    "\n",
    "**Best for:**\n",
    "- Exploring why KPIs changed\n",
    "- Root-cause analysis\n",
    "\n",
    "**Tips:**\n",
    "- Interactive for end-users\n",
    "- Only available in Power BI Service & Desktop (not Mobile)"
   ]
  },
  {
   "cell_type": "markdown",
   "id": "93584415",
   "metadata": {},
   "source": [
    "## 14. **Map Visuals**\n",
    "- **Map**: Shows data using bubble sizes on geographical locations\n",
    "- **Filled Map**: Colors regions (country, state) based on data values\n",
    "\n",
    "**Best for:**\n",
    "- Regional sales\n",
    "- Geo-distribution of KPIs\n",
    "\n",
    "**Tips:**\n",
    "- Ensure geographical fields are categorized correctly (State, Country)\n",
    "- Check for map licensing and privacy settings"
   ]
  },
  {
   "cell_type": "markdown",
   "id": "b28f2b65",
   "metadata": {},
   "source": [
    "## ⚙️ General Tips for All Charts\n",
    "\n",
    "- Always use meaningful **titles**, **legends**, and **tooltips**\n",
    "- Leverage **bookmarks** and **slicers** for interactivity\n",
    "- Use **themes** to ensure consistent formatting\n",
    "- Apply **conditional formatting** for added emphasis"
   ]
  },
  {
   "cell_type": "markdown",
   "id": "0fbd018b",
   "metadata": {},
   "source": [
    "## ✅ Summary Table\n",
    "\n",
    "| Chart Type       | Use Case                             | Notes                                   |\n",
    "|------------------|---------------------------------------|------------------------------------------|\n",
    "| Bar/Column       | Compare categories                   | Horizontal (Bar), Vertical (Column)     |\n",
    "| Line             | Trends over time                     | Time-based visuals                      |\n",
    "| Pie/Donut        | Part of a whole                      | Avoid overuse                           |\n",
    "| Table/Matrix     | Show raw or grouped data             | Add conditional formatting              |\n",
    "| Scatter          | Correlation between numbers          | Add size/color for third metric         |\n",
    "| Area             | Cumulative trends                    | Use with line chart                     |\n",
    "| Combo            | Dual-axis comparison                 | For different value types               |\n",
    "| Card             | KPIs (single value)                  | Clean layout                            |\n",
    "| Gauge            | Goal completion                      | Don’t overuse                           |\n",
    "| Treemap          | Hierarchical part-to-whole           | Great for drill-down                    |\n",
    "| Funnel           | Stages in a process                  | Sales or conversion funnel              |\n",
    "| Decomposition    | Drill-down by fields                 | Interactive filtering                   |\n",
    "| Waterfall        | Change breakdown to total            | Good for profit variance                |\n",
    "| Map              | Geo-distribution                     | Configure location fields properly      |\n"
   ]
  },
  {
   "cell_type": "markdown",
   "id": "5f25e0d0",
   "metadata": {},
   "source": [
    "## 📚 References\n",
    "\n",
    "- [Power BI Visualizations Overview](https://learn.microsoft.com/en-us/power-bi/visuals/power-bi-visualization-types-for-reports-and-q-and-a)\n",
    "- [Guy in a Cube - Visuals Playlist](https://www.youtube.com/@GuyInACube)"
   ]
  }
 ],
 "metadata": {
  "kernelspec": {
   "display_name": "",
   "name": ""
  },
  "language_info": {
   "name": ""
  }
 },
 "nbformat": 4,
 "nbformat_minor": 5
}
