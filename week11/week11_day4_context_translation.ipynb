{
 "cells": [
  {
   "cell_type": "markdown",
   "id": "aa0d8e47",
   "metadata": {},
   "source": [
    "# Day 18: Context Transition in DAX\n",
    "\n",
    "## 1. Row Context\n",
    "- Row context exists when DAX evaluates **row by row** (like in a calculated column or using `SUMX`, `FILTER`).  \n",
    "- Example:  \n",
    "```\n",
    "Profit Margin = Sales[Profit] / Sales[Sales]\n",
    "Each row calculates its own profit margin using its row’s Sales and Profit values."
   ]
  },
  {
   "cell_type": "markdown",
   "id": "c053e6f6",
   "metadata": {},
   "source": [
    "## 2. Filter Context\n",
    "\n",
    "- Filter context is created by filters, slicers, visuals, or CALCULATE.\n",
    "- It determines which rows are considered when a measure is calculated.\n",
    "\n",
    "- Example:\n",
    "```\n",
    "Total Sales East = CALCULATE(SUM(Sales[Sales]), Sales[Region] = \"East\")\n",
    "Only rows where Region = East are summed.\n"
   ]
  },
  {
   "cell_type": "markdown",
   "id": "f1b67f55",
   "metadata": {},
   "source": [
    "## 3. Context Transition\n",
    "\n",
    "- Context transition happens when row context is converted into filter context.\n",
    "- Triggered by CALCULATE or CALCULATETABLE.\n",
    "- Example:\n",
    "```\n",
    "RowTotal = CALCULATE(SUM(Sales[Sales]))\n",
    "In a calculated column, CALCULATE converts the row context into a filter context."
   ]
  },
  {
   "cell_type": "markdown",
   "id": "d068187c",
   "metadata": {},
   "source": [
    "## 4. EARLIER\n",
    "\n",
    "- Used in calculated columns when you have nested row contexts.\n",
    "- Think of it as: “Remember the value from the outer row while looping through other rows.”\n",
    "- Example: Rank sales within each customer:\n",
    "```\n",
    "Sales Rank by Customer =\n",
    "CALCULATE(\n",
    "    COUNTROWS(Sales),\n",
    "    FILTER(\n",
    "        Sales,\n",
    "        Sales[Sales] > EARLIER(Sales[Sales]) &&\n",
    "        Sales[Customer ID] = EARLIER(Sales[Customer ID])\n",
    "    )\n",
    ") + 1\n",
    "EARLIER(Sales[Sales]) → the current row’s sales\n",
    "EARLIER(Sales[Customer ID]) → the current row’s customer\n",
    "FILTER compares this row with all other rows of the same customer to calculate rank.\n",
    "```\n",
    "- ***Important:*** EARLIER does not refer to the previous row in the table. It refers to the outer row context value while inside a nested calculation."
   ]
  },
  {
   "cell_type": "markdown",
   "id": "7e8c5daf",
   "metadata": {},
   "source": [
    "## 5. REMOVEFILTERS\n",
    "\n",
    "- Clears filters on a column or table to calculate values without certain filters.\n",
    "- Example: Calculate % of total sales:\n",
    "```\n",
    "% of Total Sales =\n",
    "DIVIDE(\n",
    "    SUM(Sales[Sales]),\n",
    "    CALCULATE(SUM(Sales[Sales]), REMOVEFILTERS(Sales))\n",
    ")\n",
    "Removes all filters on the Sales table to get total sales, then divides row sales by total sales.\n",
    "```"
   ]
  },
  {
   "cell_type": "markdown",
   "id": "58fbd30c",
   "metadata": {},
   "source": [
    "### Summary\n",
    "\n",
    "- Row Context: row-by-row calculation\n",
    "\n",
    "- Filter Context: filters applied by visuals, slicers, or CALCULATE\n",
    "\n",
    "- Context Transition: row context → filter context via CALCULATE\n",
    "\n",
    "- EARLIER: refers to outer row context inside nested row operations\n",
    "\n",
    "- REMOVEFILTERS: clears filter context to calculate totals or percentages"
   ]
  }
 ],
 "metadata": {
  "language_info": {
   "name": "python"
  }
 },
 "nbformat": 4,
 "nbformat_minor": 5
}
