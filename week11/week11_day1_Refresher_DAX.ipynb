{
 "cells": [
  {
   "cell_type": "markdown",
   "id": "73f10763",
   "metadata": {},
   "source": [
    "# What is DAX?\n",
    "\n",
    "- DAX = Data Analysis Expressions\n",
    "    - It’s the formula language in Power BI, Power Pivot, and SSAS Tabular.\n",
    "    - Think of it as Excel formulas on steroids – optimized for analyzing data models, handling aggregations, and building custom calculations.\n",
    "\n",
    "- Calculated Columns → Add new data to your model at the row level (stored in your table).\n",
    "- Measures → Calculations that happen at query time (lightweight, dynamic, respond to filters).\n",
    "<pre>   ✅ Best practice: Prefer measures over calculated columns for performance. </pre>"
   ]
  },
  {
   "cell_type": "markdown",
   "id": "63144d64",
   "metadata": {},
   "source": [
    "# Refresher Task\n",
    "- Revisit differences between:\n",
    "- Calculated Column Example: Profit = Sales[Revenue] – Sales[Cost]\n",
    "- Measure Example: Total Sales = SUM(Sales[Revenue])<br>\n",
    "(Notice: measures aggregate, columns calculate row-by-row.)"
   ]
  },
  {
   "cell_type": "code",
   "execution_count": 1,
   "id": "907fc780",
   "metadata": {},
   "outputs": [],
   "source": [
    "import pandas as pd\n",
    "\n",
    "df = pd.read_csv(\"data/train.csv\")"
   ]
  },
  {
   "cell_type": "code",
   "execution_count": null,
   "id": "5c0de93f",
   "metadata": {},
   "outputs": [
    {
     "name": "stdout",
     "output_type": "stream",
     "text": [
      "   Row ID        Order ID  Order Date   Ship Date       Ship Mode Customer ID  \\\n",
      "0       1  CA-2017-152156  08/11/2017  11/11/2017    Second Class    CG-12520   \n",
      "1       2  CA-2017-152156  08/11/2017  11/11/2017    Second Class    CG-12520   \n",
      "2       3  CA-2017-138688  12/06/2017  16/06/2017    Second Class    DV-13045   \n",
      "3       4  US-2016-108966  11/10/2016  18/10/2016  Standard Class    SO-20335   \n",
      "4       5  US-2016-108966  11/10/2016  18/10/2016  Standard Class    SO-20335   \n",
      "5       6  CA-2015-115812  09/06/2015  14/06/2015  Standard Class    BH-11710   \n",
      "6       7  CA-2015-115812  09/06/2015  14/06/2015  Standard Class    BH-11710   \n",
      "7       8  CA-2015-115812  09/06/2015  14/06/2015  Standard Class    BH-11710   \n",
      "8       9  CA-2015-115812  09/06/2015  14/06/2015  Standard Class    BH-11710   \n",
      "9      10  CA-2015-115812  09/06/2015  14/06/2015  Standard Class    BH-11710   \n",
      "\n",
      "     Customer Name    Segment        Country             City       State  \\\n",
      "0      Claire Gute   Consumer  United States        Henderson    Kentucky   \n",
      "1      Claire Gute   Consumer  United States        Henderson    Kentucky   \n",
      "2  Darrin Van Huff  Corporate  United States      Los Angeles  California   \n",
      "3   Sean O'Donnell   Consumer  United States  Fort Lauderdale     Florida   \n",
      "4   Sean O'Donnell   Consumer  United States  Fort Lauderdale     Florida   \n",
      "5  Brosina Hoffman   Consumer  United States      Los Angeles  California   \n",
      "6  Brosina Hoffman   Consumer  United States      Los Angeles  California   \n",
      "7  Brosina Hoffman   Consumer  United States      Los Angeles  California   \n",
      "8  Brosina Hoffman   Consumer  United States      Los Angeles  California   \n",
      "9  Brosina Hoffman   Consumer  United States      Los Angeles  California   \n",
      "\n",
      "   Postal Code Region       Product ID         Category Sub-Category  \\\n",
      "0      42420.0  South  FUR-BO-10001798        Furniture    Bookcases   \n",
      "1      42420.0  South  FUR-CH-10000454        Furniture       Chairs   \n",
      "2      90036.0   West  OFF-LA-10000240  Office Supplies       Labels   \n",
      "3      33311.0  South  FUR-TA-10000577        Furniture       Tables   \n",
      "4      33311.0  South  OFF-ST-10000760  Office Supplies      Storage   \n",
      "5      90032.0   West  FUR-FU-10001487        Furniture  Furnishings   \n",
      "6      90032.0   West  OFF-AR-10002833  Office Supplies          Art   \n",
      "7      90032.0   West  TEC-PH-10002275       Technology       Phones   \n",
      "8      90032.0   West  OFF-BI-10003910  Office Supplies      Binders   \n",
      "9      90032.0   West  OFF-AP-10002892  Office Supplies   Appliances   \n",
      "\n",
      "                                        Product Name     Sales  \n",
      "0                  Bush Somerset Collection Bookcase  261.9600  \n",
      "1  Hon Deluxe Fabric Upholstered Stacking Chairs,...  731.9400  \n",
      "2  Self-Adhesive Address Labels for Typewriters b...   14.6200  \n",
      "3      Bretford CR4500 Series Slim Rectangular Table  957.5775  \n",
      "4                     Eldon Fold 'N Roll Cart System   22.3680  \n",
      "5  Eldon Expressions Wood and Plastic Desk Access...   48.8600  \n",
      "6                                         Newell 322    7.2800  \n",
      "7                     Mitel 5320 IP Phone VoIP phone  907.1520  \n",
      "8  DXL Angle-View Binders with Locking Rings by S...   18.5040  \n",
      "9                   Belkin F5C206VTEL 6 Outlet Surge  114.9000  \n"
     ]
    },
    {
     "ename": "",
     "evalue": "",
     "output_type": "error",
     "traceback": [
      "\u001b[1;31mThe Kernel crashed while executing code in the current cell or a previous cell. \n",
      "\u001b[1;31mPlease review the code in the cell(s) to identify a possible cause of the failure. \n",
      "\u001b[1;31mClick <a href='https://aka.ms/vscodeJupyterKernelCrash'>here</a> for more info. \n",
      "\u001b[1;31mView Jupyter <a href='command:jupyter.viewOutput'>log</a> for further details."
     ]
    }
   ],
   "source": [
    "print(df.head(10))"
   ]
  }
 ],
 "metadata": {
  "kernelspec": {
   "display_name": "Python 3",
   "language": "python",
   "name": "python3"
  },
  "language_info": {
   "codemirror_mode": {
    "name": "ipython",
    "version": 3
   },
   "file_extension": ".py",
   "mimetype": "text/x-python",
   "name": "python",
   "nbconvert_exporter": "python",
   "pygments_lexer": "ipython3",
   "version": "3.12.10"
  }
 },
 "nbformat": 4,
 "nbformat_minor": 5
}
