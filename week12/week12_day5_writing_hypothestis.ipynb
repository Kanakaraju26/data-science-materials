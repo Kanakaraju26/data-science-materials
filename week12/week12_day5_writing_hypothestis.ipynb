{
 "cells": [
  {
   "cell_type": "markdown",
   "id": "85827004",
   "metadata": {},
   "source": [
    "# Your Hypotheses (with feedback)\n",
    "\n",
    "- <strong>At-risk retention customer may be more active when allow them discount</strong>\n",
    "- ✅ Good — you’re connecting retention bucket with discount.\n",
    "- 🔧 <strong>Refine</strong>: “At-risk customers are more likely to make a purchase when offered a discount.”\n",
    "- This makes it testable with data (compare at-risk customers who got discounts vs who didn’t).\n",
    "\n",
    "- <strong>Active customer may churn if they don't get discount frequently</strong>\n",
    "- ✅ Nice — thinking about loyalty erosion.\n",
    "- 🔧 <strong>Refine</strong>: “Active customers have a higher probability of churn if they do not receive discounts frequently.”\n",
    "-  You can test this by analyzing churned vs retained active customers and their discount history.\n",
    "\n",
    "- <strong>If we however increase AOV per customer then business profit might go up</strong>\n",
    "- ✅ Logical — AOV tied to profitability.\n",
    "- 🔧 <strong>Refine</strong>: “Customers with higher average order value contribute disproportionately to overall profit.”\n",
    "- Test by correlating AOV with profit margin.\n",
    "\n",
    "- <strong>Customer with order frequency of 6 month to 1 year are more likely to churn or lost</strong>\n",
    "- ✅ Excellent — recency/frequency is a classic churn driver.\n",
    "- 🔧 <strong>Refine</strong>: “Customers with an order frequency greater than 6 months are more likely to be lost compared to customers with shorter order frequency.”\n",
    "- → Directly testable using order_frequency and retention status.\n",
    "\n",
    "- <strong>At-risk customer if didn't give attention then they might lost</strong>\n",
    "- ✅ Good intuition, but it’s a bit tautological (by definition, at-risk can become lost).\n",
    "- 🔧 <strong>Refine</strong>: “At-risk customers have a significantly higher probability of transitioning to ‘Lost’ if not re-engaged within 3 months.”\n",
    "- → Now it’s measurable (time window + outcome)."
   ]
  }
 ],
 "metadata": {
  "language_info": {
   "name": "python"
  }
 },
 "nbformat": 4,
 "nbformat_minor": 5
}
