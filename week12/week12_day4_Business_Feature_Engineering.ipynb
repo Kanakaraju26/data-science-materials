{
 "cells": [
  {
   "cell_type": "markdown",
   "id": "76e69152",
   "metadata": {},
   "source": [
    "# 🌟 Step 1: Concept — What is Feature Engineering?\n",
    "\n",
    "- In machine learning, the model doesn’t magically understand your raw data.\n",
    "- It learns from features → numeric or categorical variables that describe the problem.\n",
    "\n",
    "### Example:\n",
    "- Raw column → \"Sales\"\n",
    "- Engineered feature → \"Average Order Value per Customer\"\n",
    "\n",
    "- Good features = better predictions.\n",
    "- Feature engineering is 80% of the work in ML.\n",
    "\n",
    "# 🌟 Step 2: Why Hypothesis Thinking?\n",
    "\n",
    "- When preparing features, you don’t just randomly create them. You think like a scientist:\n",
    "\n",
    "- Hypothesis: \"Customers who buy more frequently are more likely to churn less.\"\n",
    "    - So, we create order frequency.\n",
    "\n",
    "- Hypothesis: \"Customers with higher average order value bring more profit.\"\n",
    "    - So, we create AOV (Average Order Value).\n",
    "\n",
    "- This connects business intuition → features → ML performance."
   ]
  },
  {
   "cell_type": "code",
   "execution_count": 4,
   "id": "e954a031",
   "metadata": {},
   "outputs": [
    {
     "name": "stdout",
     "output_type": "stream",
     "text": [
      "<class 'pandas.core.frame.DataFrame'>\n",
      "RangeIndex: 9993 entries, 0 to 9992\n",
      "Data columns (total 21 columns):\n",
      " #   Column           Non-Null Count  Dtype         \n",
      "---  ------           --------------  -----         \n",
      " 0   Order ID         9993 non-null   object        \n",
      " 1   Order Date       9993 non-null   datetime64[ns]\n",
      " 2   Ship Date        9993 non-null   object        \n",
      " 3   Ship Mode        9993 non-null   object        \n",
      " 4   Customer ID      9993 non-null   object        \n",
      " 5   Customer Name    9993 non-null   object        \n",
      " 6   Segment          9993 non-null   object        \n",
      " 7   Country          9993 non-null   object        \n",
      " 8   City             9993 non-null   object        \n",
      " 9   State            9993 non-null   object        \n",
      " 10  Postal Code      9993 non-null   int64         \n",
      " 11  Region           9993 non-null   object        \n",
      " 12  Product ID       9993 non-null   object        \n",
      " 13  Category         9993 non-null   object        \n",
      " 14  Sub-Category     9993 non-null   object        \n",
      " 15  Product Name     9993 non-null   object        \n",
      " 16  Sales            9993 non-null   float64       \n",
      " 17  Quantity         9993 non-null   int64         \n",
      " 18  Discount         9993 non-null   float64       \n",
      " 19  Profit           9993 non-null   float64       \n",
      " 20  Profit Margin %  9993 non-null   float64       \n",
      "dtypes: datetime64[ns](1), float64(4), int64(2), object(14)\n",
      "memory usage: 1.6+ MB\n",
      "None\n",
      "         Order ID Order Date   Ship Date       Ship Mode Customer ID  \\\n",
      "0  CA-2019-103800 2019-01-03  2019-01-07  Standard Class    DP-13000   \n",
      "1  CA-2019-112326 2019-01-04  2019-01-08  Standard Class    PO-19195   \n",
      "2  CA-2019-112326 2019-01-04  2019-01-08  Standard Class    PO-19195   \n",
      "3  CA-2019-112326 2019-01-04  2019-01-08  Standard Class    PO-19195   \n",
      "4  CA-2019-141817 2019-01-05  2019-01-12  Standard Class    MB-18085   \n",
      "5  CA-2019-167199 2019-01-06  2019-01-10  Standard Class    ME-17320   \n",
      "6  CA-2019-167199 2019-01-06  2019-01-10  Standard Class    ME-17320   \n",
      "7  CA-2019-167199 2019-01-06  2019-01-10  Standard Class    ME-17320   \n",
      "8  CA-2019-106054 2019-01-06  2019-01-07     First Class    JO-15145   \n",
      "9  CA-2019-167199 2019-01-06  2019-01-10  Standard Class    ME-17320   \n",
      "\n",
      "   Customer Name      Segment        Country          City         State  ...  \\\n",
      "0  Darren Powers     Consumer  United States       Houston         Texas  ...   \n",
      "1  Phillina Ober  Home Office  United States    Naperville      Illinois  ...   \n",
      "2  Phillina Ober  Home Office  United States    Naperville      Illinois  ...   \n",
      "3  Phillina Ober  Home Office  United States    Naperville      Illinois  ...   \n",
      "4     Mick Brown     Consumer  United States  Philadelphia  Pennsylvania  ...   \n",
      "5  Maria Etezadi  Home Office  United States     Henderson      Kentucky  ...   \n",
      "6  Maria Etezadi  Home Office  United States     Henderson      Kentucky  ...   \n",
      "7  Maria Etezadi  Home Office  United States     Henderson      Kentucky  ...   \n",
      "8  Jack O'Briant    Corporate  United States        Athens       Georgia  ...   \n",
      "9  Maria Etezadi  Home Office  United States     Henderson      Kentucky  ...   \n",
      "\n",
      "    Region       Product ID         Category Sub-Category  \\\n",
      "0  Central  OFF-PA-10000174  Office Supplies        Paper   \n",
      "1  Central  OFF-LA-10003223  Office Supplies       Labels   \n",
      "2  Central  OFF-ST-10002743  Office Supplies      Storage   \n",
      "3  Central  OFF-BI-10004094  Office Supplies      Binders   \n",
      "4     East  OFF-AR-10003478  Office Supplies          Art   \n",
      "5    South  OFF-AR-10001662  Office Supplies          Art   \n",
      "6    South  FUR-CH-10004063        Furniture       Chairs   \n",
      "7    South  OFF-BI-10004632  Office Supplies      Binders   \n",
      "8    South  OFF-AR-10002399  Office Supplies          Art   \n",
      "9    South  TEC-PH-10004977       Technology       Phones   \n",
      "\n",
      "                                        Product Name     Sales  Quantity  \\\n",
      "0  Message Book, Wirebound, Four 5 1/2\" X 4\" Form...    16.448         2   \n",
      "1                                          Avery 508    11.784         3   \n",
      "2                      SAFCO Boltless Steel Shelving   272.736         3   \n",
      "3         GBC Standard Plastic Binding Systems Combs     3.540         2   \n",
      "4  Avery Hi-Liter EverBold Pen Style Fluorescent ...    19.536         3   \n",
      "5            Rogers Handheld Barrel Pencil Sharpener     5.480         2   \n",
      "6            Global Deluxe High-Back Manager's Chair  2573.820         9   \n",
      "7                Ibico Hi-Tech Manual Binding System   609.980         2   \n",
      "8  Dixon Prang Watercolor Pencils, 10-Color Set w...    12.780         3   \n",
      "9                                        GE 30524EE4   391.980         2   \n",
      "\n",
      "   Discount    Profit  Profit Margin %  \n",
      "0       0.2    5.5512            33.75  \n",
      "1       0.2    4.2717            36.25  \n",
      "2       0.2  -64.7748           -23.75  \n",
      "3       0.8   -5.4870          -155.00  \n",
      "4       0.2    4.8840            25.00  \n",
      "5       0.0    1.4796            27.00  \n",
      "6       0.0  746.4078            29.00  \n",
      "7       0.0  274.4910            45.00  \n",
      "8       0.0    5.2398            41.00  \n",
      "9       0.0  113.6742            29.00  \n",
      "\n",
      "[10 rows x 21 columns]\n"
     ]
    }
   ],
   "source": [
    "import pandas as pd\n",
    "\n",
    "df = pd.read_csv(\"data/superstore.csv\")\n",
    "df['Order Date'] = pd.to_datetime(df['Order Date'])\n",
    "print(df.info())\n",
    "print(df.head(10))"
   ]
  },
  {
   "cell_type": "markdown",
   "id": "9296ad24",
   "metadata": {},
   "source": [
    "## Average Order Value (AOV)\n",
    "\n",
    "#### In pandas:\n",
    "\n",
    "- .unique() → returns the array of unique values.\n",
    "- Example: df['Order ID'].unique() → gives you a list/array of all unique order IDs.\n",
    "- \n",
    "- .nunique() → returns the count of unique values (number of distinct entries).\n",
    "- Example: df['Order ID'].nunique() → gives you the number of unique order IDs."
   ]
  },
  {
   "cell_type": "code",
   "execution_count": null,
   "id": "3cf22470",
   "metadata": {},
   "outputs": [
    {
     "name": "stdout",
     "output_type": "stream",
     "text": [
      "             total_sales  total_orders          AOV\n",
      "Customer ID                                        \n",
      "AA-10315        5563.560             5  1112.712000\n",
      "AA-10375        1056.390             9   117.376667\n",
      "AA-10480        1790.512             4   447.628000\n",
      "AA-10645        5086.935             6   847.822500\n",
      "AB-10015         886.156             3   295.385333\n",
      "...                  ...           ...          ...\n",
      "XP-21865        2374.658            11   215.878000\n",
      "YC-21895        5454.350             5  1090.870000\n",
      "YS-21880        6720.444             8   840.055500\n",
      "ZC-21910        8025.707            13   617.362077\n",
      "ZD-21925        1493.944             5   298.788800\n",
      "\n",
      "[793 rows x 3 columns]\n"
     ]
    }
   ],
   "source": [
    "aov = df.groupby('Customer ID').agg(\n",
    "    total_sales=('Sales', 'sum'),\n",
    "    total_orders=('Order ID', 'nunique')\n",
    ")\n",
    "aov['AOV'] = aov['total_sales'] / aov['total_orders']"
   ]
  },
  {
   "cell_type": "markdown",
   "id": "0890b09f",
   "metadata": {},
   "source": [
    "## Order Frequency"
   ]
  },
  {
   "cell_type": "code",
   "execution_count": 8,
   "id": "d50f8624",
   "metadata": {},
   "outputs": [
    {
     "name": "stdout",
     "output_type": "stream",
     "text": [
      "            first_order last_order  total_orders  active_months  \\\n",
      "Customer ID                                                       \n",
      "AA-10315     2019-03-31 2022-06-29             5           39.5   \n",
      "AA-10375     2019-04-21 2022-12-11             9           44.3   \n",
      "AA-10480     2019-05-04 2022-04-15             4           35.9   \n",
      "AA-10645     2019-06-22 2022-11-05             6           41.1   \n",
      "AB-10015     2019-02-18 2021-11-10             3           33.2   \n",
      "...                 ...        ...           ...            ...   \n",
      "XP-21865     2019-01-20 2022-11-17            11           46.6   \n",
      "YC-21895     2019-11-17 2022-12-26             5           37.8   \n",
      "YS-21880     2020-01-12 2022-12-21             8           35.8   \n",
      "ZC-21910     2019-10-13 2022-11-06            13           37.3   \n",
      "ZD-21925     2019-08-27 2022-06-11             5           34.0   \n",
      "\n",
      "             order_frequency  \n",
      "Customer ID                   \n",
      "AA-10315            0.126582  \n",
      "AA-10375            0.203160  \n",
      "AA-10480            0.111421  \n",
      "AA-10645            0.145985  \n",
      "AB-10015            0.090361  \n",
      "...                      ...  \n",
      "XP-21865            0.236052  \n",
      "YC-21895            0.132275  \n",
      "YS-21880            0.223464  \n",
      "ZC-21910            0.348525  \n",
      "ZD-21925            0.147059  \n",
      "\n",
      "[793 rows x 5 columns]\n"
     ]
    }
   ],
   "source": [
    "customer_orders = df.groupby('Customer ID').agg(\n",
    "    first_order=('Order Date', 'min'),\n",
    "    last_order=('Order Date', 'max'),\n",
    "    total_orders=('Order ID', 'nunique')\n",
    ")\n",
    "customer_orders['active_months'] = ((customer_orders['last_order'] - customer_orders['first_order']).dt.days / 30).round(1)\n",
    "customer_orders['order_frequency'] = customer_orders['total_orders'] / customer_orders['active_months']\n",
    "print(customer_orders)"
   ]
  },
  {
   "cell_type": "markdown",
   "id": "c7407bf0",
   "metadata": {},
   "source": [
    "## Retention_Bucket"
   ]
  },
  {
   "cell_type": "code",
   "execution_count": 9,
   "id": "60d47f10",
   "metadata": {},
   "outputs": [
    {
     "name": "stdout",
     "output_type": "stream",
     "text": [
      "            first_order last_order  total_orders  active_months  \\\n",
      "Customer ID                                                       \n",
      "AA-10315     2019-03-31 2022-06-29             5           39.5   \n",
      "AA-10375     2019-04-21 2022-12-11             9           44.3   \n",
      "AA-10480     2019-05-04 2022-04-15             4           35.9   \n",
      "AA-10645     2019-06-22 2022-11-05             6           41.1   \n",
      "AB-10015     2019-02-18 2021-11-10             3           33.2   \n",
      "...                 ...        ...           ...            ...   \n",
      "XP-21865     2019-01-20 2022-11-17            11           46.6   \n",
      "YC-21895     2019-11-17 2022-12-26             5           37.8   \n",
      "YS-21880     2020-01-12 2022-12-21             8           35.8   \n",
      "ZC-21910     2019-10-13 2022-11-06            13           37.3   \n",
      "ZD-21925     2019-08-27 2022-06-11             5           34.0   \n",
      "\n",
      "             order_frequency  days_since_last_order Retention_Bucket  \n",
      "Customer ID                                                           \n",
      "AA-10315            0.126582                    184             Lost  \n",
      "AA-10375            0.203160                     19           Active  \n",
      "AA-10480            0.111421                    259             Lost  \n",
      "AA-10645            0.145985                     55           Active  \n",
      "AB-10015            0.090361                    415             Lost  \n",
      "...                      ...                    ...              ...  \n",
      "XP-21865            0.236052                     43           Active  \n",
      "YC-21895            0.132275                      4           Active  \n",
      "YS-21880            0.223464                      9           Active  \n",
      "ZC-21910            0.348525                     54           Active  \n",
      "ZD-21925            0.147059                    202             Lost  \n",
      "\n",
      "[793 rows x 7 columns]\n"
     ]
    }
   ],
   "source": [
    "max_date = df['Order Date'].max()\n",
    "customer_orders['days_since_last_order'] = (max_date - customer_orders['last_order']).dt.days\n",
    "\n",
    "def retention_status(days):\n",
    "    if days <= 90:\n",
    "        return \"Active\"\n",
    "    elif days <= 180:\n",
    "        return \"At-risk\"\n",
    "    else:\n",
    "        return \"Lost\"\n",
    "\n",
    "customer_orders['Retention_Bucket'] = customer_orders['days_since_last_order'].apply(retention_status)\n",
    "print(customer_orders)"
   ]
  },
  {
   "cell_type": "code",
   "execution_count": 12,
   "id": "89634f59",
   "metadata": {},
   "outputs": [
    {
     "name": "stdout",
     "output_type": "stream",
     "text": [
      "             total_sales  total_orders_x          AOV first_order last_order  \\\n",
      "Customer ID                                                                    \n",
      "AA-10315        5563.560               5  1112.712000  2019-03-31 2022-06-29   \n",
      "AA-10375        1056.390               9   117.376667  2019-04-21 2022-12-11   \n",
      "AA-10480        1790.512               4   447.628000  2019-05-04 2022-04-15   \n",
      "AA-10645        5086.935               6   847.822500  2019-06-22 2022-11-05   \n",
      "AB-10015         886.156               3   295.385333  2019-02-18 2021-11-10   \n",
      "\n",
      "             total_orders_y  active_months  order_frequency  \\\n",
      "Customer ID                                                   \n",
      "AA-10315                  5           39.5         0.126582   \n",
      "AA-10375                  9           44.3         0.203160   \n",
      "AA-10480                  4           35.9         0.111421   \n",
      "AA-10645                  6           41.1         0.145985   \n",
      "AB-10015                  3           33.2         0.090361   \n",
      "\n",
      "             days_since_last_order Retention_Bucket  \n",
      "Customer ID                                          \n",
      "AA-10315                       184             Lost  \n",
      "AA-10375                        19           Active  \n",
      "AA-10480                       259             Lost  \n",
      "AA-10645                        55           Active  \n",
      "AB-10015                       415             Lost  \n"
     ]
    }
   ],
   "source": [
    "# Merge features into one customer-level dataset\n",
    "final_features = aov.merge(customer_orders, left_index=True, right_index=True)\n",
    "\n",
    "# Save for ML\n",
    "final_features.to_csv(\"data/customer_features.csv\")\n",
    "print(final_features.head())"
   ]
  },
  {
   "cell_type": "code",
   "execution_count": null,
   "id": "2d2d7498",
   "metadata": {},
   "outputs": [],
   "source": []
  }
 ],
 "metadata": {
  "kernelspec": {
   "display_name": "Python 3",
   "language": "python",
   "name": "python3"
  },
  "language_info": {
   "codemirror_mode": {
    "name": "ipython",
    "version": 3
   },
   "file_extension": ".py",
   "mimetype": "text/x-python",
   "name": "python",
   "nbconvert_exporter": "python",
   "pygments_lexer": "ipython3",
   "version": "3.12.10"
  }
 },
 "nbformat": 4,
 "nbformat_minor": 5
}
