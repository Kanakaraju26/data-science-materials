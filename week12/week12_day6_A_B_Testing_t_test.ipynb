{
 "cells": [
  {
   "cell_type": "markdown",
   "id": "cb34930e",
   "metadata": {},
   "source": [
    "### What is an A/B Test?\n",
    "\n",
    "- Definition: Controlled experiment where you split data into two groups (A & B) and test if there’s a significant difference in their behavior.\n",
    "\n",
    "- Example: Website shows button in blue (Group A) vs red (Group B). Measure conversion rate difference.\n",
    "\n",
    "### Why is it important for ML?\n",
    "\n",
    "- ML models often assume patterns exist → before modeling, you test if a difference is real or just random chance.\n",
    "\n",
    "- Hypothesis testing = foundation of evaluating ML model performance (e.g., is Model A really better than Model B?).\n",
    "\n",
    "### Core Tools\n",
    "\n",
    "- Random splitting of data into groups (simulating experiment).\n",
    "\n",
    "- Metric to compare (conversion rate, profit, etc.).\n",
    "\n",
    "- Statistical test (like t-test) to check if observed difference is significant."
   ]
  },
  {
   "cell_type": "markdown",
   "id": "f7a7ee74",
   "metadata": {},
   "source": [
    "### 1. Do we need at least 2 groups?\n",
    "\n",
    "- Yes ✅ — classic A/B testing means comparing two groups (A vs B).\n",
    " \n",
    "- Group A → control (status quo)\n",
    "\n",
    "- Group B → treatment (change/experiment)\n",
    "\n",
    "- Without two groups, there’s nothing to compare.\n",
    "\n",
    "### 2. Can we have more than 2 groups?\n",
    "\n",
    "- Yes ✅ — that’s called A/B/n testing.\n",
    "\n",
    "- Example: Testing 3 ad designs:\n",
    " \n",
    "- Group A → Blue Button\n",
    " \n",
    "- Group B → Red Button\n",
    " \n",
    "- Group C → Green Button\n",
    "\n",
    "- 👉 Here you’re checking which of the 3 groups performs best.\n",
    "- 👉 Statistically, instead of a t-test, you’d usually use ANOVA (Analysis of Variance) or chi-square test if dealing with proportions.\n",
    "\n",
    "### 3. Can we have just 1 group?\n",
    "\n",
    "- Not really ❌ — because testing means comparison.\n",
    "- But… there are some workarounds:\n",
    "\n",
    "#### A/A Testing:\n",
    "\n",
    "- Split 1 group into two random halves (both see the same experience).\n",
    "\n",
    "- Purpose: Check if your randomization & metrics are working correctly.\n",
    " \n",
    "- If your system shows a difference when groups are identical → you know something’s wrong.\n",
    "\n",
    "#### Single-Group Pre/Post Testing (not exactly A/B):\n",
    "\n",
    "- Measure metric before a change vs after the change in the same group.\n",
    " \n",
    "- Example: Average sales per customer in July vs August after discount campaign.\n",
    "\n",
    "- Here you use a paired t-test, but it’s weaker than real A/B because external factors (season, economy, etc.) can affect results.\n",
    "\n",
    "### ✅ Recap\n",
    "\n",
    "- Minimum = 2 groups → true A/B testing.\n",
    "- \n",
    "- More than 2 groups → A/B/n testing (use ANOVA).\n",
    "- \n",
    "- 1 group only → not A/B testing, but you can simulate by splitting it (A/A) or doing before-vs-after comparisons."
   ]
  },
  {
   "cell_type": "markdown",
   "id": "91482cfa",
   "metadata": {},
   "source": [
    "### What is a t-test?\n",
    "\n",
    "- A t-test is a statistical hypothesis test used to determine if there’s a significant difference between the means of two groups.\n",
    "\n",
    "- Think of it like this:\n",
    "\n",
    "- 👉 You have two groups (A & B).\n",
    "- 👉 You measure something for both (e.g., Profit Margin %).\n",
    "- 👉 You ask: Are their averages different enough that it’s unlikely due to random chance?\n",
    "\n",
    "- That’s exactly what the t-test answers."
   ]
  },
  {
   "cell_type": "code",
   "execution_count": 1,
   "id": "e9e05389",
   "metadata": {},
   "outputs": [],
   "source": [
    "import pandas as pd\n",
    "import numpy as np\n",
    "\n",
    "df = pd.read_csv(\"data/superstore.csv\")"
   ]
  },
  {
   "cell_type": "code",
   "execution_count": 5,
   "id": "493b6d52",
   "metadata": {},
   "outputs": [],
   "source": [
    "# Random split of customers into groups\n",
    "np.random.seed(42)  # reproducibility\n",
    "df[\"Group\"] = np.where(np.random.rand(len(df)) > 0.5, \"A\", \"B\")"
   ]
  },
  {
   "cell_type": "code",
   "execution_count": null,
   "id": "c4728c1a",
   "metadata": {},
   "outputs": [
    {
     "name": "stdout",
     "output_type": "stream",
     "text": [
      "Group\n",
      "A    11.960930\n",
      "B    12.102947\n",
      "Name: Profit Margin %, dtype: float64\n",
      "12.033025825827847\n"
     ]
    }
   ],
   "source": [
    "group_means = df.groupby(\"Group\")[\"Profit Margin %\"].mean()\n",
    "print(group_means)"
   ]
  },
  {
   "cell_type": "code",
   "execution_count": 15,
   "id": "7346521b",
   "metadata": {},
   "outputs": [
    {
     "name": "stdout",
     "output_type": "stream",
     "text": [
      "t-statistic: -0.15211968466266354 p-value: 0.8790956103498591\n"
     ]
    }
   ],
   "source": [
    "from scipy.stats import ttest_ind\n",
    "\n",
    "group_a = df[df[\"Group\"]==\"A\"][\"Profit Margin %\"]\n",
    "group_b = df[df[\"Group\"]==\"B\"][\"Profit Margin %\"]\n",
    "\n",
    "t_stat, p_val = ttest_ind(group_a, group_b, equal_var=False)\n",
    "print(\"t-statistic:\", t_stat, \"p-value:\", p_val)\n"
   ]
  },
  {
   "cell_type": "code",
   "execution_count": 16,
   "id": "35725e54",
   "metadata": {},
   "outputs": [],
   "source": [
    "# If p < 0.05 → significant difference → your groups behave differently.\n",
    "# If p ≥ 0.05 → no significant difference → the split didn’t affect outcome."
   ]
  },
  {
   "cell_type": "code",
   "execution_count": 17,
   "id": "445335f4",
   "metadata": {},
   "outputs": [
    {
     "data": {
      "image/png": "[encoded data removed]",
      "text/plain": [
       "<Figure size 640x480 with 1 Axes>"
      ]
     },
     "metadata": {},
     "output_type": "display_data"
    }
   ],
   "source": [
    "import matplotlib.pyplot as plt\n",
    "\n",
    "df.boxplot(column=\"Profit Margin %\", by=\"Group\")\n",
    "plt.show()"
   ]
  },
  {
   "cell_type": "code",
   "execution_count": null,
   "id": "0b4a50db",
   "metadata": {},
   "outputs": [],
   "source": []
  }
 ],
 "metadata": {
  "kernelspec": {
   "display_name": "Python 3",
   "language": "python",
   "name": "python3"
  },
  "language_info": {
   "codemirror_mode": {
    "name": "ipython",
    "version": 3
   },
   "file_extension": ".py",
   "mimetype": "text/x-python",
   "name": "python",
   "nbconvert_exporter": "python",
   "pygments_lexer": "ipython3",
   "version": "3.12.10"
  }
 },
 "nbformat": 4,
 "nbformat_minor": 5
}
