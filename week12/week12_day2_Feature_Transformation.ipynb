{
 "cells": [
  {
   "cell_type": "markdown",
   "id": "7bfb177c",
   "metadata": {},
   "source": [
    "# Step 1: Understanding Today’s Topics\n",
    "## 1. Binning / Bucketing\n",
    "\n",
    "- What it is: Converting continuous values into categorical buckets.\n",
    "- Example: Sales values → Low, Medium, High.\n",
    "- Why: Some algorithms work better with categorized values; also useful for interpretation.\n",
    "#### Types:\n",
    "- Equal Width Binning: Divide the range into equal intervals (e.g., 0–100, 101–200, 201–300).\n",
    "- Equal Frequency Binning: Each bin has (roughly) the same number of observations.\n",
    "\n",
    "## 2. Scaling\n",
    "\n",
    "- What it is: Transforming numerical features so they’re on the same scale.\n",
    "- Why: Many ML algorithms (like KNN, Logistic Regression, Neural Nets) are sensitive to feature magnitudes.\n",
    "#### Common techniques:\n",
    "### - Min-Max Scaling (Normalization): Values between 0 and 1.\n",
    "- Formula: \n",
    "- - ( 𝑥 − 𝑚𝑖𝑛 ) / (𝑚𝑎𝑥 − 𝑚𝑖𝑛)\n",
    "\n",
    "### → Keeps distribution shape but compresses into [0,1].\n",
    "Standardization (Z-score): Mean = 0, Std Dev = 1.\n",
    "- Formula: \n",
    "- - (x−mean)/std\n",
    "- Good when data is normally distributed."
   ]
  },
  {
   "cell_type": "code",
   "execution_count": 13,
   "id": "6204bc24",
   "metadata": {},
   "outputs": [],
   "source": [
    "import pandas as pd\n",
    "from sklearn.preprocessing import MinMaxScaler, StandardScaler\n",
    "df = pd.read_csv(\"data/Sales.csv\")"
   ]
  },
  {
   "cell_type": "code",
   "execution_count": 14,
   "id": "a4b7c628",
   "metadata": {},
   "outputs": [
    {
     "name": "stdout",
     "output_type": "stream",
     "text": [
      "   Row ID        Order ID  Order Date   Ship Date       Ship Mode Customer ID  \\\n",
      "0       1  CA-2017-152156  08/11/2017  11/11/2017    Second Class    CG-12520   \n",
      "1       2  CA-2017-152156  08/11/2017  11/11/2017    Second Class    CG-12520   \n",
      "2       3  CA-2017-138688  12/06/2017  16/06/2017    Second Class    DV-13045   \n",
      "3       4  US-2016-108966  11/10/2016  18/10/2016  Standard Class    SO-20335   \n",
      "4       5  US-2016-108966  11/10/2016  18/10/2016  Standard Class    SO-20335   \n",
      "5       6  CA-2015-115812  09/06/2015  14/06/2015  Standard Class    BH-11710   \n",
      "6       7  CA-2015-115812  09/06/2015  14/06/2015  Standard Class    BH-11710   \n",
      "7       8  CA-2015-115812  09/06/2015  14/06/2015  Standard Class    BH-11710   \n",
      "8       9  CA-2015-115812  09/06/2015  14/06/2015  Standard Class    BH-11710   \n",
      "9      10  CA-2015-115812  09/06/2015  14/06/2015  Standard Class    BH-11710   \n",
      "\n",
      "     Customer Name    Segment        Country             City       State  \\\n",
      "0      Claire Gute   Consumer  United States        Henderson    Kentucky   \n",
      "1      Claire Gute   Consumer  United States        Henderson    Kentucky   \n",
      "2  Darrin Van Huff  Corporate  United States      Los Angeles  California   \n",
      "3   Sean O'Donnell   Consumer  United States  Fort Lauderdale     Florida   \n",
      "4   Sean O'Donnell   Consumer  United States  Fort Lauderdale     Florida   \n",
      "5  Brosina Hoffman   Consumer  United States      Los Angeles  California   \n",
      "6  Brosina Hoffman   Consumer  United States      Los Angeles  California   \n",
      "7  Brosina Hoffman   Consumer  United States      Los Angeles  California   \n",
      "8  Brosina Hoffman   Consumer  United States      Los Angeles  California   \n",
      "9  Brosina Hoffman   Consumer  United States      Los Angeles  California   \n",
      "\n",
      "   Postal Code Region       Product ID         Category Sub-Category  \\\n",
      "0      42420.0  South  FUR-BO-10001798        Furniture    Bookcases   \n",
      "1      42420.0  South  FUR-CH-10000454        Furniture       Chairs   \n",
      "2      90036.0   West  OFF-LA-10000240  Office Supplies       Labels   \n",
      "3      33311.0  South  FUR-TA-10000577        Furniture       Tables   \n",
      "4      33311.0  South  OFF-ST-10000760  Office Supplies      Storage   \n",
      "5      90032.0   West  FUR-FU-10001487        Furniture  Furnishings   \n",
      "6      90032.0   West  OFF-AR-10002833  Office Supplies          Art   \n",
      "7      90032.0   West  TEC-PH-10002275       Technology       Phones   \n",
      "8      90032.0   West  OFF-BI-10003910  Office Supplies      Binders   \n",
      "9      90032.0   West  OFF-AP-10002892  Office Supplies   Appliances   \n",
      "\n",
      "                                        Product Name     Sales  \n",
      "0                  Bush Somerset Collection Bookcase  261.9600  \n",
      "1  Hon Deluxe Fabric Upholstered Stacking Chairs,...  731.9400  \n",
      "2  Self-Adhesive Address Labels for Typewriters b...   14.6200  \n",
      "3      Bretford CR4500 Series Slim Rectangular Table  957.5775  \n",
      "4                     Eldon Fold 'N Roll Cart System   22.3680  \n",
      "5  Eldon Expressions Wood and Plastic Desk Access...   48.8600  \n",
      "6                                         Newell 322    7.2800  \n",
      "7                     Mitel 5320 IP Phone VoIP phone  907.1520  \n",
      "8  DXL Angle-View Binders with Locking Rings by S...   18.5040  \n",
      "9                   Belkin F5C206VTEL 6 Outlet Surge  114.9000  \n"
     ]
    }
   ],
   "source": [
    "print(df.head(10))"
   ]
  },
  {
   "cell_type": "code",
   "execution_count": 15,
   "id": "72cea94d",
   "metadata": {},
   "outputs": [
    {
     "data": {
      "text/plain": [
       "count     9800.000000\n",
       "mean       230.769059\n",
       "std        626.651875\n",
       "min          0.444000\n",
       "25%         17.248000\n",
       "50%         54.490000\n",
       "75%        210.605000\n",
       "max      22638.480000\n",
       "Name: Sales, dtype: float64"
      ]
     },
     "execution_count": 15,
     "metadata": {},
     "output_type": "execute_result"
    }
   ],
   "source": [
    "df['Sales'].describe()\n"
   ]
  },
  {
   "cell_type": "code",
   "execution_count": 16,
   "id": "bcb9c1a0",
   "metadata": {},
   "outputs": [
    {
     "name": "stdout",
     "output_type": "stream",
     "text": [
      "0       (-22.194, 4528.051]\n",
      "1       (-22.194, 4528.051]\n",
      "2       (-22.194, 4528.051]\n",
      "3       (-22.194, 4528.051]\n",
      "4       (-22.194, 4528.051]\n",
      "               ...         \n",
      "9795    (-22.194, 4528.051]\n",
      "9796    (-22.194, 4528.051]\n",
      "9797    (-22.194, 4528.051]\n",
      "9798    (-22.194, 4528.051]\n",
      "9799    (-22.194, 4528.051]\n",
      "Name: Sales_Bin_Width, Length: 9800, dtype: category\n",
      "Categories (5, interval[float64, right]): [(-22.194, 4528.051] < (4528.051, 9055.658] < (9055.658, 13583.266] < (13583.266, 18110.873] < (18110.873, 22638.48]]\n"
     ]
    }
   ],
   "source": [
    "bins = pd.cut(df['Sales'], bins=5)  # 5 equal-width bins\n",
    "df['Sales_Bin_Width'] = bins\n",
    "print(df[\"Sales_Bin_Width\"])"
   ]
  },
  {
   "cell_type": "code",
   "execution_count": 17,
   "id": "37ee5a57",
   "metadata": {},
   "outputs": [
    {
     "name": "stdout",
     "output_type": "stream",
     "text": [
      "0         (89.834, 283.92]\n",
      "1       (283.92, 22638.48]\n",
      "2          (13.827, 34.24]\n",
      "3       (283.92, 22638.48]\n",
      "4          (13.827, 34.24]\n",
      "               ...        \n",
      "9795       (0.443, 13.827]\n",
      "9796       (0.443, 13.827]\n",
      "9797      (89.834, 283.92]\n",
      "9798       (13.827, 34.24]\n",
      "9799       (0.443, 13.827]\n",
      "Name: Sales_Bin_Freq, Length: 9800, dtype: category\n",
      "Categories (5, interval[float64, right]): [(0.443, 13.827] < (13.827, 34.24] < (34.24, 89.834] < (89.834, 283.92] < (283.92, 22638.48]]\n"
     ]
    }
   ],
   "source": [
    "bins = pd.qcut(df['Sales'], q=5)  # 5 equal-frequency bins\n",
    "df['Sales_Bin_Freq'] = bins\n",
    "print(df[\"Sales_Bin_Freq\"])"
   ]
  },
  {
   "cell_type": "code",
   "execution_count": 18,
   "id": "df74fd02",
   "metadata": {},
   "outputs": [
    {
     "name": "stdout",
     "output_type": "stream",
     "text": [
      "Sales_Bin_Width\n",
      "(-22.194, 4528.051]       9773\n",
      "(4528.051, 9055.658]        19\n",
      "(9055.658, 13583.266]        5\n",
      "(13583.266, 18110.873]       2\n",
      "(18110.873, 22638.48]        1\n",
      "Name: count, dtype: int64\n",
      "Sales_Bin_Freq\n",
      "(0.443, 13.827]       1960\n",
      "(13.827, 34.24]       1962\n",
      "(34.24, 89.834]       1958\n",
      "(89.834, 283.92]      1961\n",
      "(283.92, 22638.48]    1959\n",
      "Name: count, dtype: int64\n"
     ]
    }
   ],
   "source": [
    "print(df['Sales_Bin_Width'].value_counts().sort_index())\n",
    "print(df['Sales_Bin_Freq'].value_counts().sort_index())"
   ]
  },
  {
   "cell_type": "code",
   "execution_count": 19,
   "id": "3ffb1c08",
   "metadata": {},
   "outputs": [],
   "source": [
    "scaler_minmax = MinMaxScaler()\n",
    "df['Sales_MinMax'] = scaler_minmax.fit_transform(df[['Sales']])\n",
    "\n",
    "scaler_standard = StandardScaler()\n",
    "df['Sales_Standard'] = scaler_standard.fit_transform(df[['Sales']])"
   ]
  },
  {
   "cell_type": "code",
   "execution_count": null,
   "id": "08b2683d",
   "metadata": {},
   "outputs": [
    {
     "data": {
      "text/html": [
       "<div>\n",
       "<style scoped>\n",
       "    .dataframe tbody tr th:only-of-type {\n",
       "        vertical-align: middle;\n",
       "    }\n",
       "\n",
       "    .dataframe tbody tr th {\n",
       "        vertical-align: top;\n",
       "    }\n",
       "\n",
       "    .dataframe thead th {\n",
       "        text-align: right;\n",
       "    }\n",
       "</style>\n",
       "<table border=\"1\" class=\"dataframe\">\n",
       "  <thead>\n",
       "    <tr style=\"text-align: right;\">\n",
       "      <th></th>\n",
       "      <th>Sales</th>\n",
       "      <th>Sales_MinMax</th>\n",
       "      <th>Sales_Standard</th>\n",
       "      <th>Sales_Bin_Width</th>\n",
       "      <th>Sales_Bin_Freq</th>\n",
       "    </tr>\n",
       "  </thead>\n",
       "  <tbody>\n",
       "    <tr>\n",
       "      <th>0</th>\n",
       "      <td>261.9600</td>\n",
       "      <td>0.011552</td>\n",
       "      <td>0.049776</td>\n",
       "      <td>(-22.194, 4528.051]</td>\n",
       "      <td>(89.834, 283.92]</td>\n",
       "    </tr>\n",
       "    <tr>\n",
       "      <th>1</th>\n",
       "      <td>731.9400</td>\n",
       "      <td>0.032313</td>\n",
       "      <td>0.799801</td>\n",
       "      <td>(-22.194, 4528.051]</td>\n",
       "      <td>(283.92, 22638.48]</td>\n",
       "    </tr>\n",
       "    <tr>\n",
       "      <th>2</th>\n",
       "      <td>14.6200</td>\n",
       "      <td>0.000626</td>\n",
       "      <td>-0.344944</td>\n",
       "      <td>(-22.194, 4528.051]</td>\n",
       "      <td>(13.827, 34.24]</td>\n",
       "    </tr>\n",
       "    <tr>\n",
       "      <th>3</th>\n",
       "      <td>957.5775</td>\n",
       "      <td>0.042280</td>\n",
       "      <td>1.159887</td>\n",
       "      <td>(-22.194, 4528.051]</td>\n",
       "      <td>(283.92, 22638.48]</td>\n",
       "    </tr>\n",
       "    <tr>\n",
       "      <th>4</th>\n",
       "      <td>22.3680</td>\n",
       "      <td>0.000968</td>\n",
       "      <td>-0.332580</td>\n",
       "      <td>(-22.194, 4528.051]</td>\n",
       "      <td>(13.827, 34.24]</td>\n",
       "    </tr>\n",
       "    <tr>\n",
       "      <th>5</th>\n",
       "      <td>48.8600</td>\n",
       "      <td>0.002139</td>\n",
       "      <td>-0.290302</td>\n",
       "      <td>(-22.194, 4528.051]</td>\n",
       "      <td>(34.24, 89.834]</td>\n",
       "    </tr>\n",
       "    <tr>\n",
       "      <th>6</th>\n",
       "      <td>7.2800</td>\n",
       "      <td>0.000302</td>\n",
       "      <td>-0.356658</td>\n",
       "      <td>(-22.194, 4528.051]</td>\n",
       "      <td>(0.443, 13.827]</td>\n",
       "    </tr>\n",
       "    <tr>\n",
       "      <th>7</th>\n",
       "      <td>907.1520</td>\n",
       "      <td>0.040052</td>\n",
       "      <td>1.079415</td>\n",
       "      <td>(-22.194, 4528.051]</td>\n",
       "      <td>(283.92, 22638.48]</td>\n",
       "    </tr>\n",
       "    <tr>\n",
       "      <th>8</th>\n",
       "      <td>18.5040</td>\n",
       "      <td>0.000798</td>\n",
       "      <td>-0.338746</td>\n",
       "      <td>(-22.194, 4528.051]</td>\n",
       "      <td>(13.827, 34.24]</td>\n",
       "    </tr>\n",
       "    <tr>\n",
       "      <th>9</th>\n",
       "      <td>114.9000</td>\n",
       "      <td>0.005056</td>\n",
       "      <td>-0.184911</td>\n",
       "      <td>(-22.194, 4528.051]</td>\n",
       "      <td>(89.834, 283.92]</td>\n",
       "    </tr>\n",
       "  </tbody>\n",
       "</table>\n",
       "</div>"
      ],
      "text/plain": [
       "      Sales  Sales_MinMax  Sales_Standard      Sales_Bin_Width  \\\n",
       "0  261.9600      0.011552        0.049776  (-22.194, 4528.051]   \n",
       "1  731.9400      0.032313        0.799801  (-22.194, 4528.051]   \n",
       "2   14.6200      0.000626       -0.344944  (-22.194, 4528.051]   \n",
       "3  957.5775      0.042280        1.159887  (-22.194, 4528.051]   \n",
       "4   22.3680      0.000968       -0.332580  (-22.194, 4528.051]   \n",
       "5   48.8600      0.002139       -0.290302  (-22.194, 4528.051]   \n",
       "6    7.2800      0.000302       -0.356658  (-22.194, 4528.051]   \n",
       "7  907.1520      0.040052        1.079415  (-22.194, 4528.051]   \n",
       "8   18.5040      0.000798       -0.338746  (-22.194, 4528.051]   \n",
       "9  114.9000      0.005056       -0.184911  (-22.194, 4528.051]   \n",
       "\n",
       "       Sales_Bin_Freq  \n",
       "0    (89.834, 283.92]  \n",
       "1  (283.92, 22638.48]  \n",
       "2     (13.827, 34.24]  \n",
       "3  (283.92, 22638.48]  \n",
       "4     (13.827, 34.24]  \n",
       "5     (34.24, 89.834]  \n",
       "6     (0.443, 13.827]  \n",
       "7  (283.92, 22638.48]  \n",
       "8     (13.827, 34.24]  \n",
       "9    (89.834, 283.92]  "
      ]
     },
     "execution_count": 20,
     "metadata": {},
     "output_type": "execute_result"
    }
   ],
   "source": [
    "df[['Sales','Sales_MinMax','Sales_Standard','Sales_Bin_Width','Sales_Bin_Freq']].head(10)"
   ]
  },
  {
   "cell_type": "code",
   "execution_count": 21,
   "id": "72dd45e6",
   "metadata": {},
   "outputs": [
    {
     "name": "stdout",
     "output_type": "stream",
     "text": [
      "         Order ID  Order Date   Ship Date       Ship Mode Customer ID  \\\n",
      "0  CA-2019-103800  2019-01-03  2019-01-07  Standard Class    DP-13000   \n",
      "1  CA-2019-112326  2019-01-04  2019-01-08  Standard Class    PO-19195   \n",
      "2  CA-2019-112326  2019-01-04  2019-01-08  Standard Class    PO-19195   \n",
      "3  CA-2019-112326  2019-01-04  2019-01-08  Standard Class    PO-19195   \n",
      "4  CA-2019-141817  2019-01-05  2019-01-12  Standard Class    MB-18085   \n",
      "5  CA-2019-167199  2019-01-06  2019-01-10  Standard Class    ME-17320   \n",
      "6  CA-2019-167199  2019-01-06  2019-01-10  Standard Class    ME-17320   \n",
      "7  CA-2019-167199  2019-01-06  2019-01-10  Standard Class    ME-17320   \n",
      "8  CA-2019-106054  2019-01-06  2019-01-07     First Class    JO-15145   \n",
      "9  CA-2019-167199  2019-01-06  2019-01-10  Standard Class    ME-17320   \n",
      "\n",
      "   Customer Name      Segment        Country          City         State  ...  \\\n",
      "0  Darren Powers     Consumer  United States       Houston         Texas  ...   \n",
      "1  Phillina Ober  Home Office  United States    Naperville      Illinois  ...   \n",
      "2  Phillina Ober  Home Office  United States    Naperville      Illinois  ...   \n",
      "3  Phillina Ober  Home Office  United States    Naperville      Illinois  ...   \n",
      "4     Mick Brown     Consumer  United States  Philadelphia  Pennsylvania  ...   \n",
      "5  Maria Etezadi  Home Office  United States     Henderson      Kentucky  ...   \n",
      "6  Maria Etezadi  Home Office  United States     Henderson      Kentucky  ...   \n",
      "7  Maria Etezadi  Home Office  United States     Henderson      Kentucky  ...   \n",
      "8  Jack O'Briant    Corporate  United States        Athens       Georgia  ...   \n",
      "9  Maria Etezadi  Home Office  United States     Henderson      Kentucky  ...   \n",
      "\n",
      "    Region       Product ID         Category Sub-Category  \\\n",
      "0  Central  OFF-PA-10000174  Office Supplies        Paper   \n",
      "1  Central  OFF-LA-10003223  Office Supplies       Labels   \n",
      "2  Central  OFF-ST-10002743  Office Supplies      Storage   \n",
      "3  Central  OFF-BI-10004094  Office Supplies      Binders   \n",
      "4     East  OFF-AR-10003478  Office Supplies          Art   \n",
      "5    South  OFF-AR-10001662  Office Supplies          Art   \n",
      "6    South  FUR-CH-10004063        Furniture       Chairs   \n",
      "7    South  OFF-BI-10004632  Office Supplies      Binders   \n",
      "8    South  OFF-AR-10002399  Office Supplies          Art   \n",
      "9    South  TEC-PH-10004977       Technology       Phones   \n",
      "\n",
      "                                        Product Name     Sales  Quantity  \\\n",
      "0  Message Book, Wirebound, Four 5 1/2\" X 4\" Form...    16.448         2   \n",
      "1                                          Avery 508    11.784         3   \n",
      "2                      SAFCO Boltless Steel Shelving   272.736         3   \n",
      "3         GBC Standard Plastic Binding Systems Combs     3.540         2   \n",
      "4  Avery Hi-Liter EverBold Pen Style Fluorescent ...    19.536         3   \n",
      "5            Rogers Handheld Barrel Pencil Sharpener     5.480         2   \n",
      "6            Global Deluxe High-Back Manager's Chair  2573.820         9   \n",
      "7                Ibico Hi-Tech Manual Binding System   609.980         2   \n",
      "8  Dixon Prang Watercolor Pencils, 10-Color Set w...    12.780         3   \n",
      "9                                        GE 30524EE4   391.980         2   \n",
      "\n",
      "   Discount    Profit  Profit Margin %  \n",
      "0       0.2    5.5512            33.75  \n",
      "1       0.2    4.2717            36.25  \n",
      "2       0.2  -64.7748           -23.75  \n",
      "3       0.8   -5.4870          -155.00  \n",
      "4       0.2    4.8840            25.00  \n",
      "5       0.0    1.4796            27.00  \n",
      "6       0.0  746.4078            29.00  \n",
      "7       0.0  274.4910            45.00  \n",
      "8       0.0    5.2398            41.00  \n",
      "9       0.0  113.6742            29.00  \n",
      "\n",
      "[10 rows x 21 columns]\n"
     ]
    }
   ],
   "source": [
    "df = pd.read_csv(\"data/superstore.csv\")\n",
    "print(df.head(10))"
   ]
  },
  {
   "cell_type": "code",
   "execution_count": null,
   "id": "2e87d66c",
   "metadata": {},
   "outputs": [],
   "source": []
  }
 ],
 "metadata": {
  "kernelspec": {
   "display_name": "Python 3",
   "language": "python",
   "name": "python3"
  },
  "language_info": {
   "codemirror_mode": {
    "name": "ipython",
    "version": 3
   },
   "file_extension": ".py",
   "mimetype": "text/x-python",
   "name": "python",
   "nbconvert_exporter": "python",
   "pygments_lexer": "ipython3",
   "version": "3.12.10"
  }
 },
 "nbformat": 4,
 "nbformat_minor": 5
}
