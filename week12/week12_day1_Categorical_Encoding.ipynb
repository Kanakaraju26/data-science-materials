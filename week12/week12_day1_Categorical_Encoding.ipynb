{
 "cells": [
  {
   "cell_type": "markdown",
   "id": "714ce754",
   "metadata": {},
   "source": [
    "# 1. What is today’s topic? (Categorical Encoding)\n",
    "\n",
    "- When we build ML models, they can’t directly understand text values (like \"Furniture\", \"Technology\", \"West\", \"Standard Class\").\n",
    "- They only work with numbers.\n",
    "\n",
    "<strong> Categorical Encoding </strong> = process of converting text columns (categorical variables) into numbers so ML algorithms can use them.\n",
    "\n",
    "##There are many ways, but two main ones:\n",
    "\n",
    "### Label Encoding\n",
    "\n",
    "- Each unique category gets a number.\n",
    "- Example:\n",
    "- Segment:\n",
    "- Consumer -> 0\n",
    "- Corporate -> 1\n",
    "- Home Office -> 2\n",
    "\n",
    "#### ⚠️ Problem: Creates a fake order (0 < 1 < 2), which can confuse ML.\n",
    "#### Usually used for ordinal data (like Education: High School < Graduate < PhD).\n",
    "\n",
    "### One-Hot Encoding\n",
    "\n",
    "- Creates new columns (dummy variables).\n",
    "- Example:\n",
    "<pre>\n",
    "Segment_Consumer | Segment_Corporate | Segment_Home Office\n",
    "1                | 0                 | 0\n",
    "0                | 1                 | 0\n",
    "0                | 0                 | 1\n",
    "</pre>\n",
    "\n",
    "#### No artificial order problem.\n",
    "#### Downside: Creates many columns if categories are large."
   ]
  },
  {
   "cell_type": "markdown",
   "id": "42d68586",
   "metadata": {},
   "source": [
    "## 1. One-Hot Encoding with Pandas (pd.get_dummies)\n",
    "\n",
    "### ✅ Pros\n",
    "\n",
    "Super simple, one line of code.\n",
    "Great for quick exploration & small datasets.\n",
    "Automatically integrates with Pandas DataFrame.\n",
    "\n",
    "### ❌ Cons\n",
    "\n",
    "Very basic — fewer customization options.\n",
    "Doesn’t remember the encoding for future / new data (no .fit() / .transform() logic).\n",
    "If you deploy a model, you need to manually make sure the new data has the same columns.\n",
    "👉 Best use case: Exploratory data analysis (EDA), quick experiments.\n",
    "\n",
    "## 2. One-Hot Encoding with Scikit-learn (OneHotEncoder)\n",
    "\n",
    "### ✅ Pros\n",
    "\n",
    "Standard in production ML pipelines.\n",
    "Has .fit() and .transform() methods → meaning you can train it once and apply it consistently to future data (critical for deployment).\n",
    "Can handle unseen categories (with handle_unknown='ignore').\n",
    "Works well with scikit-learn pipelines (which is how models are usually trained & deployed).\n",
    "\n",
    "### ❌ Cons\n",
    "\n",
    "Slightly more code to set up.\n",
    "Less convenient for quick inspection compared to Pandas.\n",
    "👉 Best use case: Training ML models, production pipelines, large datasets.\n",
    "\n",
    "## 3. What do real data scientists use?\n",
    "\n",
    "In real ML projects, sklearn.preprocessing.OneHotEncoder is the go-to choice ✅\n",
    "(because ML is not just about fitting once — you’ll need the same transformation at prediction/deployment time).\n",
    "In exploratory / learning phase, many data scientists (including me 😅) still use pd.get_dummies() because it’s quick, clean, and easy to visualize."
   ]
  },
  {
   "cell_type": "code",
   "execution_count": 3,
   "id": "a837ef49",
   "metadata": {},
   "outputs": [
    {
     "name": "stdout",
     "output_type": "stream",
     "text": [
      "<class 'pandas.core.frame.DataFrame'>\n",
      "RangeIndex: 9800 entries, 0 to 9799\n",
      "Data columns (total 18 columns):\n",
      " #   Column         Non-Null Count  Dtype  \n",
      "---  ------         --------------  -----  \n",
      " 0   Row ID         9800 non-null   int64  \n",
      " 1   Order ID       9800 non-null   object \n",
      " 2   Order Date     9800 non-null   object \n",
      " 3   Ship Date      9800 non-null   object \n",
      " 4   Ship Mode      9800 non-null   object \n",
      " 5   Customer ID    9800 non-null   object \n",
      " 6   Customer Name  9800 non-null   object \n",
      " 7   Segment        9800 non-null   object \n",
      " 8   Country        9800 non-null   object \n",
      " 9   City           9800 non-null   object \n",
      " 10  State          9800 non-null   object \n",
      " 11  Postal Code    9789 non-null   float64\n",
      " 12  Region         9800 non-null   object \n",
      " 13  Product ID     9800 non-null   object \n",
      " 14  Category       9800 non-null   object \n",
      " 15  Sub-Category   9800 non-null   object \n",
      " 16  Product Name   9800 non-null   object \n",
      " 17  Sales          9800 non-null   float64\n",
      "dtypes: float64(2), int64(1), object(15)\n",
      "memory usage: 1.3+ MB\n",
      "None\n"
     ]
    }
   ],
   "source": [
    "import pandas as pd\n",
    "from sklearn.preprocessing import LabelEncoder, OneHotEncoder\n",
    "\n",
    "df = pd.read_csv(\"data/Sales.csv\")\n",
    "print(df.info())"
   ]
  },
  {
   "cell_type": "code",
   "execution_count": 2,
   "id": "1b662e21",
   "metadata": {},
   "outputs": [
    {
     "name": "stdout",
     "output_type": "stream",
     "text": [
      "Index(['Order ID', 'Order Date', 'Ship Date', 'Ship Mode', 'Customer ID',\n",
      "       'Customer Name', 'Segment', 'Country', 'City', 'State', 'Region',\n",
      "       'Product ID', 'Category', 'Sub-Category', 'Product Name'],\n",
      "      dtype='object')\n"
     ]
    }
   ],
   "source": [
    "# Step 1: Check categorical columns\n",
    "print(df.select_dtypes(include='object').columns)"
   ]
  },
  {
   "cell_type": "code",
   "execution_count": 6,
   "id": "1eff92a8",
   "metadata": {},
   "outputs": [
    {
     "name": "stdout",
     "output_type": "stream",
     "text": [
      "        Ship Mode  Ship Mode_LE\n",
      "0    Second Class             2\n",
      "1    Second Class             2\n",
      "2    Second Class             2\n",
      "3  Standard Class             3\n",
      "4  Standard Class             3\n",
      "['First Class' 'Same Day' 'Second Class' 'Standard Class']\n"
     ]
    }
   ],
   "source": [
    "# Step 2: Label Encoding (example: Ship Mode)\n",
    "le = LabelEncoder()\n",
    "df['Ship Mode_LE'] = le.fit_transform(df['Ship Mode'])\n",
    "print(df[['Ship Mode', 'Ship Mode_LE']].head())\n",
    "print(le.classes_)"
   ]
  },
  {
   "cell_type": "code",
   "execution_count": null,
   "id": "2dfc83f2",
   "metadata": {},
   "outputs": [
    {
     "name": "stdout",
     "output_type": "stream",
     "text": [
      "   Row ID        Order ID  Order Date   Ship Date       Ship Mode Customer ID  \\\n",
      "0       1  CA-2017-152156  08/11/2017  11/11/2017    Second Class    CG-12520   \n",
      "1       2  CA-2017-152156  08/11/2017  11/11/2017    Second Class    CG-12520   \n",
      "2       3  CA-2017-138688  12/06/2017  16/06/2017    Second Class    DV-13045   \n",
      "3       4  US-2016-108966  11/10/2016  18/10/2016  Standard Class    SO-20335   \n",
      "4       5  US-2016-108966  11/10/2016  18/10/2016  Standard Class    SO-20335   \n",
      "\n",
      "     Customer Name        Country             City       State  ...  Region  \\\n",
      "0      Claire Gute  United States        Henderson    Kentucky  ...   South   \n",
      "1      Claire Gute  United States        Henderson    Kentucky  ...   South   \n",
      "2  Darrin Van Huff  United States      Los Angeles  California  ...    West   \n",
      "3   Sean O'Donnell  United States  Fort Lauderdale     Florida  ...   South   \n",
      "4   Sean O'Donnell  United States  Fort Lauderdale     Florida  ...   South   \n",
      "\n",
      "        Product ID         Category Sub-Category  \\\n",
      "0  FUR-BO-10001798        Furniture    Bookcases   \n",
      "1  FUR-CH-10000454        Furniture       Chairs   \n",
      "2  OFF-LA-10000240  Office Supplies       Labels   \n",
      "3  FUR-TA-10000577        Furniture       Tables   \n",
      "4  OFF-ST-10000760  Office Supplies      Storage   \n",
      "\n",
      "                                        Product Name     Sales  Ship Mode_LE  \\\n",
      "0                  Bush Somerset Collection Bookcase  261.9600             2   \n",
      "1  Hon Deluxe Fabric Upholstered Stacking Chairs,...  731.9400             2   \n",
      "2  Self-Adhesive Address Labels for Typewriters b...   14.6200             2   \n",
      "3      Bretford CR4500 Series Slim Rectangular Table  957.5775             3   \n",
      "4                     Eldon Fold 'N Roll Cart System   22.3680             3   \n",
      "\n",
      "   Segment_Consumer  Segment_Corporate  Segment_Home Office  \n",
      "0                 1                  0                    0  \n",
      "1                 1                  0                    0  \n",
      "2                 0                  1                    0  \n",
      "3                 1                  0                    0  \n",
      "4                 1                  0                    0  \n",
      "\n",
      "[5 rows x 21 columns]\n"
     ]
    }
   ],
   "source": [
    "# One-Hot Encoding using pandas\n",
    "df_ohe = pd.get_dummies(df, columns=['Segment'], dtype=int)\n",
    "print(df_ohe.head())"
   ]
  },
  {
   "cell_type": "code",
   "execution_count": 14,
   "id": "0927b0bb",
   "metadata": {},
   "outputs": [
    {
     "name": "stdout",
     "output_type": "stream",
     "text": [
      "   Segment_Consumer  Segment_Corporate  Segment_Home Office\n",
      "0                 1                  0                    0\n",
      "1                 1                  0                    0\n",
      "2                 0                  1                    0\n",
      "3                 1                  0                    0\n",
      "4                 1                  0                    0\n"
     ]
    }
   ],
   "source": [
    "# Step 4: One-Hot Encoding using sklearn\n",
    "ohe = OneHotEncoder(sparse_output=False)\n",
    "encoded = ohe.fit_transform(df[['Segment']])\n",
    "encoded_df = pd.DataFrame(encoded, columns=ohe.get_feature_names_out(['Segment']),dtype=int)\n",
    "print(encoded_df.head())"
   ]
  },
  {
   "cell_type": "code",
   "execution_count": null,
   "id": "1b6133e4",
   "metadata": {},
   "outputs": [],
   "source": []
  }
 ],
 "metadata": {
  "kernelspec": {
   "display_name": "Python 3",
   "language": "python",
   "name": "python3"
  },
  "language_info": {
   "codemirror_mode": {
    "name": "ipython",
    "version": 3
   },
   "file_extension": ".py",
   "mimetype": "text/x-python",
   "name": "python",
   "nbconvert_exporter": "python",
   "pygments_lexer": "ipython3",
   "version": "3.12.10"
  }
 },
 "nbformat": 4,
 "nbformat_minor": 5
}
