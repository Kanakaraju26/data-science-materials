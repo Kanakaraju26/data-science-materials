{
 "cells": [
  {
   "cell_type": "markdown",
   "id": "d2b20327",
   "metadata": {},
   "source": [
    "# P-value\n",
    "- Imagine you toss a coin 10 times and get 9 heads. You might wonder: Is this coin fair or biased?\n",
    "The p-value is the probability of observing such extreme results (or more extreme) if the coin were actually fair.\n",
    "\n",
    "- If p-value is very small (e.g., 0.001), it means \"such an extreme result is very unlikely if the null hypothesis is true.\"\n",
    "\n",
    "- But it doesn’t prove the null is false or the alternative is true. It just says: this data would be rare if the null were correct.\n",
    "\n",
    "- <b>⚠️ Common mistake:</b> Thinking p < 0.05 means the hypothesis is 95% true. → Wrong. It’s just a measure of evidence against the null, not the truth probability."
   ]
  },
  {
   "cell_type": "markdown",
   "id": "1e75b199",
   "metadata": {},
   "source": [
    "# Confidence Interval (CI)\n",
    "A CI is like saying:\n",
    "- “We are 95% confident that the true average income lies between X and Y.”\n",
    "- It means if we repeated the experiment many times, 95% of those intervals would cover the true value.\n",
    "- It’s not a guarantee for one sample, it’s about the process."
   ]
  },
  {
   "cell_type": "code",
   "execution_count": 1,
   "id": "25dccc6c",
   "metadata": {},
   "outputs": [
    {
     "name": "stdout",
     "output_type": "stream",
     "text": [
      "<class 'pandas.core.frame.DataFrame'>\n",
      "RangeIndex: 32561 entries, 0 to 32560\n",
      "Data columns (total 15 columns):\n",
      " #   Column          Non-Null Count  Dtype \n",
      "---  ------          --------------  ----- \n",
      " 0   age             32561 non-null  int64 \n",
      " 1   workclass       32561 non-null  object\n",
      " 2   fnlwgt          32561 non-null  int64 \n",
      " 3   education       32561 non-null  object\n",
      " 4   education.num   32561 non-null  int64 \n",
      " 5   marital.status  32561 non-null  object\n",
      " 6   occupation      32561 non-null  object\n",
      " 7   relationship    32561 non-null  object\n",
      " 8   race            32561 non-null  object\n",
      " 9   sex             32561 non-null  object\n",
      " 10  capital.gain    32561 non-null  int64 \n",
      " 11  capital.loss    32561 non-null  int64 \n",
      " 12  hours.per.week  32561 non-null  int64 \n",
      " 13  native.country  32561 non-null  object\n",
      " 14  income          32561 non-null  object\n",
      "dtypes: int64(6), object(9)\n",
      "memory usage: 3.7+ MB\n",
      "None\n"
     ]
    }
   ],
   "source": [
    "import pandas as pd\n",
    "\n",
    "df = pd.read_csv(\"data/adult.csv\")\n",
    "print(df.info())"
   ]
  },
  {
   "cell_type": "code",
   "execution_count": 1,
   "id": "f9c1aa2e",
   "metadata": {},
   "outputs": [
    {
     "ename": "NameError",
     "evalue": "name 'df' is not defined",
     "output_type": "error",
     "traceback": [
      "\u001b[31m---------------------------------------------------------------------------\u001b[39m",
      "\u001b[31mNameError\u001b[39m                                 Traceback (most recent call last)",
      "\u001b[36mCell\u001b[39m\u001b[36m \u001b[39m\u001b[32mIn[1]\u001b[39m\u001b[32m, line 1\u001b[39m\n\u001b[32m----> \u001b[39m\u001b[32m1\u001b[39m group1 = \u001b[43mdf\u001b[49m[df[\u001b[33m\"\u001b[39m\u001b[33mincome\u001b[39m\u001b[33m\"\u001b[39m] == \u001b[33m\"\u001b[39m\u001b[33m >50K\u001b[39m\u001b[33m\"\u001b[39m][\u001b[33m\"\u001b[39m\u001b[33mage\u001b[39m\u001b[33m\"\u001b[39m]\n\u001b[32m      2\u001b[39m group2 = df[df[\u001b[33m\"\u001b[39m\u001b[33mincome\u001b[39m\u001b[33m\"\u001b[39m] == \u001b[33m\"\u001b[39m\u001b[33m <=50K\u001b[39m\u001b[33m\"\u001b[39m][\u001b[33m\"\u001b[39m\u001b[33mage\u001b[39m\u001b[33m\"\u001b[39m]\n\u001b[32m      4\u001b[39m obs_diff = group1.mean() - group2.mean()\n",
      "\u001b[31mNameError\u001b[39m: name 'df' is not defined"
     ]
    }
   ],
   "source": [
    "group1 = df[df[\"income\"] == \" >50K\"][\"age\"]\n",
    "group2 = df[df[\"income\"] == \" <=50K\"][\"age\"]\n",
    "\n",
    "obs_diff = group1.mean() - group2.mean()\n",
    "print(\"Observed mean age difference:\", obs_diff)"
   ]
  },
  {
   "cell_type": "code",
   "execution_count": null,
   "id": "b2a29ae9",
   "metadata": {},
   "outputs": [],
   "source": []
  }
 ],
 "metadata": {
  "kernelspec": {
   "display_name": "Python 3",
   "language": "python",
   "name": "python3"
  },
  "language_info": {
   "codemirror_mode": {
    "name": "ipython",
    "version": 3
   },
   "file_extension": ".py",
   "mimetype": "text/x-python",
   "name": "python",
   "nbconvert_exporter": "python",
   "pygments_lexer": "ipython3",
   "version": "3.12.10"
  }
 },
 "nbformat": 4,
 "nbformat_minor": 5
}
