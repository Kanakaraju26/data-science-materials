{
 "cells": [
  {
   "cell_type": "markdown",
   "id": "028b52df",
   "metadata": {},
   "source": [
    "## T-tests are a family of statistical tests used to see if the means (averages) of one or more groups are significantly different from each other.\n",
    "\n",
    "You’ll be doing:\n",
    "\n",
    "- a) One-sample t-test (ttest_1samp)\n",
    "Checks if the average of a single group is different from a known or hypothesized value.\n",
    "Example: Is the average age in our dataset different from 40 years?\n",
    "\n",
    "- b) Two-sample t-test (ttest_ind)\n",
    "Checks if two independent groups have different means.\n",
    "Example: Is the average salary (or hours per week) different for males vs females?\n",
    "\n",
    "“Independent” means one person’s data is not related to another person’s data in the other group.\n",
    "\n",
    "## Why it matters\n",
    "- This is a core statistical skill for data science because you’ll often:\n",
    "- Compare groups (A/B testing, marketing campaigns, product experiments)\n",
    "- Test if observed differences are random or meaningful"
   ]
  },
  {
   "cell_type": "code",
   "execution_count": 2,
   "id": "e912b733",
   "metadata": {},
   "outputs": [
    {
     "data": {
      "text/html": [
       "<div>\n",
       "<style scoped>\n",
       "    .dataframe tbody tr th:only-of-type {\n",
       "        vertical-align: middle;\n",
       "    }\n",
       "\n",
       "    .dataframe tbody tr th {\n",
       "        vertical-align: top;\n",
       "    }\n",
       "\n",
       "    .dataframe thead th {\n",
       "        text-align: right;\n",
       "    }\n",
       "</style>\n",
       "<table border=\"1\" class=\"dataframe\">\n",
       "  <thead>\n",
       "    <tr style=\"text-align: right;\">\n",
       "      <th></th>\n",
       "      <th>age</th>\n",
       "      <th>workclass</th>\n",
       "      <th>fnlwgt</th>\n",
       "      <th>education</th>\n",
       "      <th>education.num</th>\n",
       "      <th>marital.status</th>\n",
       "      <th>occupation</th>\n",
       "      <th>relationship</th>\n",
       "      <th>race</th>\n",
       "      <th>sex</th>\n",
       "      <th>capital.gain</th>\n",
       "      <th>capital.loss</th>\n",
       "      <th>hours.per.week</th>\n",
       "      <th>native.country</th>\n",
       "      <th>income</th>\n",
       "    </tr>\n",
       "  </thead>\n",
       "  <tbody>\n",
       "    <tr>\n",
       "      <th>0</th>\n",
       "      <td>90</td>\n",
       "      <td>?</td>\n",
       "      <td>77053</td>\n",
       "      <td>HS-grad</td>\n",
       "      <td>9</td>\n",
       "      <td>Widowed</td>\n",
       "      <td>?</td>\n",
       "      <td>Not-in-family</td>\n",
       "      <td>White</td>\n",
       "      <td>Female</td>\n",
       "      <td>0</td>\n",
       "      <td>4356</td>\n",
       "      <td>40</td>\n",
       "      <td>United-States</td>\n",
       "      <td>&lt;=50K</td>\n",
       "    </tr>\n",
       "    <tr>\n",
       "      <th>1</th>\n",
       "      <td>82</td>\n",
       "      <td>Private</td>\n",
       "      <td>132870</td>\n",
       "      <td>HS-grad</td>\n",
       "      <td>9</td>\n",
       "      <td>Widowed</td>\n",
       "      <td>Exec-managerial</td>\n",
       "      <td>Not-in-family</td>\n",
       "      <td>White</td>\n",
       "      <td>Female</td>\n",
       "      <td>0</td>\n",
       "      <td>4356</td>\n",
       "      <td>18</td>\n",
       "      <td>United-States</td>\n",
       "      <td>&lt;=50K</td>\n",
       "    </tr>\n",
       "    <tr>\n",
       "      <th>2</th>\n",
       "      <td>66</td>\n",
       "      <td>?</td>\n",
       "      <td>186061</td>\n",
       "      <td>Some-college</td>\n",
       "      <td>10</td>\n",
       "      <td>Widowed</td>\n",
       "      <td>?</td>\n",
       "      <td>Unmarried</td>\n",
       "      <td>Black</td>\n",
       "      <td>Female</td>\n",
       "      <td>0</td>\n",
       "      <td>4356</td>\n",
       "      <td>40</td>\n",
       "      <td>United-States</td>\n",
       "      <td>&lt;=50K</td>\n",
       "    </tr>\n",
       "    <tr>\n",
       "      <th>3</th>\n",
       "      <td>54</td>\n",
       "      <td>Private</td>\n",
       "      <td>140359</td>\n",
       "      <td>7th-8th</td>\n",
       "      <td>4</td>\n",
       "      <td>Divorced</td>\n",
       "      <td>Machine-op-inspct</td>\n",
       "      <td>Unmarried</td>\n",
       "      <td>White</td>\n",
       "      <td>Female</td>\n",
       "      <td>0</td>\n",
       "      <td>3900</td>\n",
       "      <td>40</td>\n",
       "      <td>United-States</td>\n",
       "      <td>&lt;=50K</td>\n",
       "    </tr>\n",
       "    <tr>\n",
       "      <th>4</th>\n",
       "      <td>41</td>\n",
       "      <td>Private</td>\n",
       "      <td>264663</td>\n",
       "      <td>Some-college</td>\n",
       "      <td>10</td>\n",
       "      <td>Separated</td>\n",
       "      <td>Prof-specialty</td>\n",
       "      <td>Own-child</td>\n",
       "      <td>White</td>\n",
       "      <td>Female</td>\n",
       "      <td>0</td>\n",
       "      <td>3900</td>\n",
       "      <td>40</td>\n",
       "      <td>United-States</td>\n",
       "      <td>&lt;=50K</td>\n",
       "    </tr>\n",
       "  </tbody>\n",
       "</table>\n",
       "</div>"
      ],
      "text/plain": [
       "   age workclass  fnlwgt     education  education.num marital.status  \\\n",
       "0   90         ?   77053       HS-grad              9        Widowed   \n",
       "1   82   Private  132870       HS-grad              9        Widowed   \n",
       "2   66         ?  186061  Some-college             10        Widowed   \n",
       "3   54   Private  140359       7th-8th              4       Divorced   \n",
       "4   41   Private  264663  Some-college             10      Separated   \n",
       "\n",
       "          occupation   relationship   race     sex  capital.gain  \\\n",
       "0                  ?  Not-in-family  White  Female             0   \n",
       "1    Exec-managerial  Not-in-family  White  Female             0   \n",
       "2                  ?      Unmarried  Black  Female             0   \n",
       "3  Machine-op-inspct      Unmarried  White  Female             0   \n",
       "4     Prof-specialty      Own-child  White  Female             0   \n",
       "\n",
       "   capital.loss  hours.per.week native.country income  \n",
       "0          4356              40  United-States  <=50K  \n",
       "1          4356              18  United-States  <=50K  \n",
       "2          4356              40  United-States  <=50K  \n",
       "3          3900              40  United-States  <=50K  \n",
       "4          3900              40  United-States  <=50K  "
      ]
     },
     "execution_count": 2,
     "metadata": {},
     "output_type": "execute_result"
    }
   ],
   "source": [
    "import pandas as pd\n",
    "from scipy import stats\n",
    "\n",
    "df = pd.read_csv(\"data/adult.csv\")\n",
    "df.head()"
   ]
  },
  {
   "cell_type": "code",
   "execution_count": 3,
   "id": "243057cf",
   "metadata": {},
   "outputs": [
    {
     "name": "stdout",
     "output_type": "stream",
     "text": [
      "One-sample t-test:\n",
      "T-statistic = 6.3930, P-value = 0.0000\n"
     ]
    }
   ],
   "source": [
    "\n",
    "# Hypothesized mean\n",
    "hyp_mean = 40  \n",
    "\n",
    "# Extract \"hours.per.week\"\n",
    "hours = df[\"hours.per.week\"]\n",
    "\n",
    "# One-sample t-test\n",
    "t_stat, p_val = stats.ttest_1samp(hours, hyp_mean)\n",
    "\n",
    "print(\"One-sample t-test:\")\n",
    "print(f\"T-statistic = {t_stat:.4f}, P-value = {p_val:.4f}\")"
   ]
  },
  {
   "cell_type": "markdown",
   "id": "016e1b6d",
   "metadata": {},
   "source": [
    "### The average hours per week in this dataset is significantly different from 40 hours. The difference is not likely due to random sampling — it’s real."
   ]
  },
  {
   "cell_type": "code",
   "execution_count": 4,
   "id": "7fccfe07",
   "metadata": {},
   "outputs": [
    {
     "name": "stdout",
     "output_type": "stream",
     "text": [
      "40.437455852092995\n"
     ]
    }
   ],
   "source": [
    "print(df[\"hours.per.week\"].mean())"
   ]
  },
  {
   "cell_type": "code",
   "execution_count": 5,
   "id": "0be0945b",
   "metadata": {},
   "outputs": [],
   "source": [
    "# The t-statistic measures:\n",
    "\n",
    "# 𝑡 = (sample mean − hypothesized mean) / standard error of the mean"
   ]
  },
  {
   "cell_type": "code",
   "execution_count": 7,
   "id": "017ad45d",
   "metadata": {},
   "outputs": [
    {
     "name": "stdout",
     "output_type": "stream",
     "text": [
      "\n",
      "Two-sample t-test (Male vs Female):\n",
      "T-statistic = 42.8820, P-value = 0.0000\n"
     ]
    }
   ],
   "source": [
    "# Split into male & female groups\n",
    "male_hours = df[df[\"sex\"] == \"Male\"][\"hours.per.week\"]\n",
    "female_hours = df[df[\"sex\"] == \"Female\"][\"hours.per.week\"]\n",
    "\n",
    "# Two-sample t-test\n",
    "t_stat2, p_val2 = stats.ttest_ind(male_hours, female_hours, equal_var=False)  # Welch's t-test\n",
    "\n",
    "print(\"\\nTwo-sample t-test (Male vs Female):\")\n",
    "print(f\"T-statistic = {t_stat2:.4f}, P-value = {p_val2:.4f}\")"
   ]
  },
  {
   "cell_type": "code",
   "execution_count": 8,
   "id": "b2e87b53",
   "metadata": {},
   "outputs": [
    {
     "name": "stdout",
     "output_type": "stream",
     "text": [
      "42.42808627810923 36.410361154953115\n"
     ]
    }
   ],
   "source": [
    "print(male_hours.mean(), female_hours.mean())"
   ]
  },
  {
   "cell_type": "code",
   "execution_count": null,
   "id": "d6d28f75",
   "metadata": {},
   "outputs": [],
   "source": [
    "    "
   ]
  }
 ],
 "metadata": {
  "kernelspec": {
   "display_name": "Python 3",
   "language": "python",
   "name": "python3"
  },
  "language_info": {
   "codemirror_mode": {
    "name": "ipython",
    "version": 3
   },
   "file_extension": ".py",
   "mimetype": "text/x-python",
   "name": "python",
   "nbconvert_exporter": "python",
   "pygments_lexer": "ipython3",
   "version": "3.12.10"
  }
 },
 "nbformat": 4,
 "nbformat_minor": 5
}
