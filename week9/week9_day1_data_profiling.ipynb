{
 "cells": [
  {
   "cell_type": "code",
   "execution_count": 18,
   "id": "905e508d",
   "metadata": {},
   "outputs": [],
   "source": [
    "import pandas as pd\n",
    "from ydata_profiling import ProfileReport"
   ]
  },
  {
   "cell_type": "code",
   "execution_count": 2,
   "id": "d1d61f04",
   "metadata": {},
   "outputs": [],
   "source": [
    "df = pd.read_csv(\"data/airlines_flights.csv\")"
   ]
  },
  {
   "cell_type": "code",
   "execution_count": 4,
   "id": "85ccf70f",
   "metadata": {},
   "outputs": [
    {
     "name": "stdout",
     "output_type": "stream",
     "text": [
      "<class 'pandas.core.frame.DataFrame'>\n",
      "RangeIndex: 300153 entries, 0 to 300152\n",
      "Data columns (total 12 columns):\n",
      " #   Column            Non-Null Count   Dtype  \n",
      "---  ------            --------------   -----  \n",
      " 0   index             300153 non-null  int64  \n",
      " 1   airline           300153 non-null  object \n",
      " 2   flight            300153 non-null  object \n",
      " 3   source_city       300153 non-null  object \n",
      " 4   departure_time    300153 non-null  object \n",
      " 5   stops             300153 non-null  object \n",
      " 6   arrival_time      300153 non-null  object \n",
      " 7   destination_city  300153 non-null  object \n",
      " 8   class             300153 non-null  object \n",
      " 9   duration          300153 non-null  float64\n",
      " 10  days_left         300153 non-null  int64  \n",
      " 11  price             300153 non-null  int64  \n",
      "dtypes: float64(1), int64(3), object(8)\n",
      "memory usage: 27.5+ MB\n",
      "None\n",
      "   index   airline   flight source_city departure_time stops   arrival_time  \\\n",
      "0      0  SpiceJet  SG-8709       Delhi        Evening  zero          Night   \n",
      "1      1  SpiceJet  SG-8157       Delhi  Early_Morning  zero        Morning   \n",
      "2      2   AirAsia   I5-764       Delhi  Early_Morning  zero  Early_Morning   \n",
      "3      3   Vistara   UK-995       Delhi        Morning  zero      Afternoon   \n",
      "4      4   Vistara   UK-963       Delhi        Morning  zero        Morning   \n",
      "\n",
      "  destination_city    class  duration  days_left  price  \n",
      "0           Mumbai  Economy      2.17          1   5953  \n",
      "1           Mumbai  Economy      2.33          1   5953  \n",
      "2           Mumbai  Economy      2.17          1   5956  \n",
      "3           Mumbai  Economy      2.25          1   5955  \n",
      "4           Mumbai  Economy      2.33          1   5955  \n"
     ]
    }
   ],
   "source": [
    "print(df.info())\n",
    "print(df.head())\n"
   ]
  },
  {
   "cell_type": "code",
   "execution_count": 8,
   "id": "3d2ed94c",
   "metadata": {},
   "outputs": [
    {
     "name": "stdout",
     "output_type": "stream",
     "text": [
      "index               0.0\n",
      "airline             0.0\n",
      "flight              0.0\n",
      "source_city         0.0\n",
      "departure_time      0.0\n",
      "stops               0.0\n",
      "arrival_time        0.0\n",
      "destination_city    0.0\n",
      "class               0.0\n",
      "duration            0.0\n",
      "days_left           0.0\n",
      "price               0.0\n",
      "dtype: float64\n",
      "index               0\n",
      "airline             0\n",
      "flight              0\n",
      "source_city         0\n",
      "departure_time      0\n",
      "stops               0\n",
      "arrival_time        0\n",
      "destination_city    0\n",
      "class               0\n",
      "duration            0\n",
      "days_left           0\n",
      "price               0\n",
      "dtype: int64\n"
     ]
    }
   ],
   "source": [
    "# % of nulls in each column\n",
    "print(df.isnull().mean() * 100)\n",
    "\n",
    "# # + of all nulls in a column\n",
    "print(df.isnull().sum())\n"
   ]
  },
  {
   "cell_type": "code",
   "execution_count": 9,
   "id": "4adb9ef3",
   "metadata": {},
   "outputs": [
    {
     "name": "stdout",
     "output_type": "stream",
     "text": [
      "index               300153\n",
      "airline                  6\n",
      "flight                1561\n",
      "source_city              6\n",
      "departure_time           6\n",
      "stops                    3\n",
      "arrival_time             6\n",
      "destination_city         6\n",
      "class                    2\n",
      "duration               476\n",
      "days_left               49\n",
      "price                12157\n",
      "dtype: int64\n",
      "Duplicates: 0\n"
     ]
    }
   ],
   "source": [
    "# Number of unique values per column\n",
    "print(df.nunique())\n",
    "\n",
    "# Check for duplicate rows\n",
    "print(\"Duplicates:\", df.duplicated().sum())"
   ]
  },
  {
   "cell_type": "code",
   "execution_count": 10,
   "id": "4901096b",
   "metadata": {},
   "outputs": [
    {
     "name": "stdout",
     "output_type": "stream",
     "text": [
      "index                 int64\n",
      "airline              object\n",
      "flight               object\n",
      "source_city          object\n",
      "departure_time       object\n",
      "stops                object\n",
      "arrival_time         object\n",
      "destination_city     object\n",
      "class                object\n",
      "duration            float64\n",
      "days_left             int64\n",
      "price                 int64\n",
      "dtype: object\n",
      "                index  airline  flight source_city departure_time   stops  \\\n",
      "count   300153.000000   300153  300153      300153         300153  300153   \n",
      "unique            NaN        6    1561           6              6       3   \n",
      "top               NaN  Vistara  UK-706       Delhi        Morning     one   \n",
      "freq              NaN   127859    3235       61343          71146  250863   \n",
      "mean    150076.000000      NaN     NaN         NaN            NaN     NaN   \n",
      "std      86646.852011      NaN     NaN         NaN            NaN     NaN   \n",
      "min          0.000000      NaN     NaN         NaN            NaN     NaN   \n",
      "25%      75038.000000      NaN     NaN         NaN            NaN     NaN   \n",
      "50%     150076.000000      NaN     NaN         NaN            NaN     NaN   \n",
      "75%     225114.000000      NaN     NaN         NaN            NaN     NaN   \n",
      "max     300152.000000      NaN     NaN         NaN            NaN     NaN   \n",
      "\n",
      "       arrival_time destination_city    class       duration      days_left  \\\n",
      "count        300153           300153   300153  300153.000000  300153.000000   \n",
      "unique            6                6        2            NaN            NaN   \n",
      "top           Night           Mumbai  Economy            NaN            NaN   \n",
      "freq          91538            59097   206666            NaN            NaN   \n",
      "mean            NaN              NaN      NaN      12.221021      26.004751   \n",
      "std             NaN              NaN      NaN       7.191997      13.561004   \n",
      "min             NaN              NaN      NaN       0.830000       1.000000   \n",
      "25%             NaN              NaN      NaN       6.830000      15.000000   \n",
      "50%             NaN              NaN      NaN      11.250000      26.000000   \n",
      "75%             NaN              NaN      NaN      16.170000      38.000000   \n",
      "max             NaN              NaN      NaN      49.830000      49.000000   \n",
      "\n",
      "                price  \n",
      "count   300153.000000  \n",
      "unique            NaN  \n",
      "top               NaN  \n",
      "freq              NaN  \n",
      "mean     20889.660523  \n",
      "std      22697.767366  \n",
      "min       1105.000000  \n",
      "25%       4783.000000  \n",
      "50%       7425.000000  \n",
      "75%      42521.000000  \n",
      "max     123071.000000  \n"
     ]
    }
   ],
   "source": [
    "# Data types\n",
    "print(df.dtypes)\n",
    "\n",
    "# Summary statistics for all columns (including objects)\n",
    "print(df.describe(include=\"all\"))"
   ]
  },
  {
   "cell_type": "code",
   "execution_count": 19,
   "id": "21a252e1",
   "metadata": {},
   "outputs": [
    {
     "name": "stderr",
     "output_type": "stream",
     "text": [
      "100%|██████████| 12/12 [00:05<00:00,  2.38it/s]5<00:03,  2.13it/s, Describe variable: price]        \n",
      "Summarize dataset: 100%|██████████| 37/37 [00:11<00:00,  3.29it/s, Completed]                   \n",
      "Generate report structure: 100%|██████████| 1/1 [00:03<00:00,  3.53s/it]\n",
      "Render HTML: 100%|██████████| 1/1 [00:01<00:00,  1.45s/it]\n",
      "Export report to file: 100%|██████████| 1/1 [00:00<00:00, 181.05it/s]\n"
     ]
    }
   ],
   "source": [
    "# profile = ProfileReport(df, title=\"Pandas Profiling Report\")\n",
    "# profile.to_file(\"eda_report.html\")"
   ]
  },
  {
   "cell_type": "code",
   "execution_count": null,
   "id": "d7007562",
   "metadata": {},
   "outputs": [],
   "source": []
  }
 ],
 "metadata": {
  "kernelspec": {
   "display_name": "Python 3",
   "language": "python",
   "name": "python3"
  },
  "language_info": {
   "codemirror_mode": {
    "name": "ipython",
    "version": 3
   },
   "file_extension": ".py",
   "mimetype": "text/x-python",
   "name": "python",
   "nbconvert_exporter": "python",
   "pygments_lexer": "ipython3",
   "version": "3.12.10"
  }
 },
 "nbformat": 4,
 "nbformat_minor": 5
}
