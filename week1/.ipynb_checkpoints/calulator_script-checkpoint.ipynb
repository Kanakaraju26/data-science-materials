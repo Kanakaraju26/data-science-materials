{
 "cells": [
  {
   "cell_type": "markdown",
   "id": "609414a4-809b-450d-b39a-04f624192ebe",
   "metadata": {},
   "source": [
    "# Calculator script "
   ]
  },
  {
   "cell_type": "markdown",
   "id": "6c39c812-d19f-42bf-9fe4-399e8a004aad",
   "metadata": {
    "jp-MarkdownHeadingCollapsed": true
   },
   "source": [
    "##  The main objective of this mini project is to demostrate the normal caluator function like \n",
    "\n",
    "- addition, \n",
    "- subtraction,\n",
    "- division,\n",
    "- multiplication\n",
    "  "
   ]
  },
  {
   "cell_type": "markdown",
   "id": "71c16424-f802-432d-ace4-043b1ae1da4f",
   "metadata": {},
   "source": [
    "## so the main logic goes like i will take 3 input two for operator and one for operation and based on operation i will do operation to operators "
   ]
  },
  {
   "cell_type": "markdown",
   "id": "18f4f431-bb4a-4b5e-92d8-8262f34e6148",
   "metadata": {},
   "source": [
    "## - Taking the inputs"
   ]
  },
  {
   "cell_type": "code",
   "execution_count": 37,
   "id": "3ed05da4-c9ea-4be5-9ffb-f61821e38082",
   "metadata": {},
   "outputs": [
    {
     "name": "stdin",
     "output_type": "stream",
     "text": [
      "Enter the input 1  5\n",
      "Enter the input 2  5\n",
      "Enter the input for operation +,-,*,/  *\n"
     ]
    }
   ],
   "source": [
    "i1 = int(input(\"Enter the input 1 \"))\n",
    "i2 = int(input(\"Enter the input 2 \"))\n",
    "o = str(input(\"Enter the input for operation +,-,*,/ \"))"
   ]
  },
  {
   "cell_type": "markdown",
   "id": "11f7f40a-bc99-428f-a062-82e4ea3afee3",
   "metadata": {},
   "source": [
    "## Writing the main logic "
   ]
  },
  {
   "cell_type": "code",
   "execution_count": 39,
   "id": "aca6b609-91b1-4da8-9704-560a2eb5bbd2",
   "metadata": {},
   "outputs": [
    {
     "name": "stdout",
     "output_type": "stream",
     "text": [
      "25\n"
     ]
    }
   ],
   "source": [
    "if o == \"+\":\n",
    "    print(i1+i2)\n",
    "elif o == \"-\":\n",
    "    print(i2-i1)\n",
    "elif o == \"*\":\n",
    "    print(i1*i2)\n",
    "elif o == \"/\":\n",
    "    print(i1/i2)\n",
    "else:\n",
    "    print(\"Not valid operation\")"
   ]
  },
  {
   "cell_type": "code",
   "execution_count": null,
   "id": "65b7e84d-25a0-4e17-9a31-a38a24a7c51b",
   "metadata": {},
   "outputs": [],
   "source": []
  }
 ],
 "metadata": {
  "kernelspec": {
   "display_name": "Python [conda env:base] *",
   "language": "python",
   "name": "conda-base-py"
  },
  "language_info": {
   "codemirror_mode": {
    "name": "ipython",
    "version": 3
   },
   "file_extension": ".py",
   "mimetype": "text/x-python",
   "name": "python",
   "nbconvert_exporter": "python",
   "pygments_lexer": "ipython3",
   "version": "3.12.7"
  }
 },
 "nbformat": 4,
 "nbformat_minor": 5
}
