{
 "cells": [
  {
   "cell_type": "code",
   "execution_count": 23,
   "id": "73f8e40e-b8a3-4071-ad6d-3d382b26a6d8",
   "metadata": {},
   "outputs": [
    {
     "name": "stdin",
     "output_type": "stream",
     "text": [
      "enter rock(r) paper(p) scissor(s) to play the game p\n"
     ]
    },
    {
     "name": "stdout",
     "output_type": "stream",
     "text": [
      "bot selected $ paper\n",
      "Bot won!!\n"
     ]
    },
    {
     "name": "stdin",
     "output_type": "stream",
     "text": [
      "Want to play more y/n y\n",
      "enter rock(r) paper(p) scissor(s) to play the game r\n"
     ]
    },
    {
     "name": "stdout",
     "output_type": "stream",
     "text": [
      "bot selected $ paper\n",
      "Bot won!!\n"
     ]
    },
    {
     "name": "stdin",
     "output_type": "stream",
     "text": [
      "Want to play more y/n y\n",
      "enter rock(r) paper(p) scissor(s) to play the game s\n"
     ]
    },
    {
     "name": "stdout",
     "output_type": "stream",
     "text": [
      "bot selected $ paper\n",
      "player won!!\n"
     ]
    },
    {
     "name": "stdin",
     "output_type": "stream",
     "text": [
      "Want to play more y/n n\n"
     ]
    }
   ],
   "source": [
    "import numpy as np\n",
    "while True:\n",
    "    i = np.array([\"rock\",\"paper\",\"scissor\"])\n",
    "    m = np.random.choice(i)\n",
    "    n = str(input(\"enter rock(r) paper(p) scissor(s) to play the game\"))\n",
    "    print(\"bot selected $\",m)\n",
    "    if n==\"r\" and m==\"scissor\":\n",
    "        print(\"player won!!\")\n",
    "    elif n==\"s\" and m==\"paper\":\n",
    "        print(\"player won!!\")\n",
    "    elif n==\"p\" and m==\"rock\":\n",
    "        print(\"player won!!\")\n",
    "    elif n == \"r\" and m == \"rock\") or (n == \"p\" and m == \"paper\") or (n == \"s\" and m == \"scissor\"):\n",
    "        print(\"It's a draw!\")\n",
    "    else: \n",
    "        print(\"Bot won!!\")\n",
    "\n",
    "    a = str(input(\"Want to play more y/n\"))\n",
    "    if a!=\"y\":\n",
    "        break"
   ]
  },
  {
   "cell_type": "code",
   "execution_count": null,
   "id": "2e407912-40f5-4252-ae7a-774f25ac8de7",
   "metadata": {},
   "outputs": [],
   "source": []
  }
 ],
 "metadata": {
  "kernelspec": {
   "display_name": "Python [conda env:base] *",
   "language": "python",
   "name": "conda-base-py"
  },
  "language_info": {
   "codemirror_mode": {
    "name": "ipython",
    "version": 3
   },
   "file_extension": ".py",
   "mimetype": "text/x-python",
   "name": "python",
   "nbconvert_exporter": "python",
   "pygments_lexer": "ipython3",
   "version": "3.12.7"
  }
 },
 "nbformat": 4,
 "nbformat_minor": 5
}
