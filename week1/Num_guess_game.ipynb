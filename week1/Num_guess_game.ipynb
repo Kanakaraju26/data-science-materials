{
 "cells": [
  {
   "cell_type": "code",
   "execution_count": null,
   "id": "421f2875-8e02-43cd-a875-e15198d0e5f5",
   "metadata": {},
   "outputs": [],
   "source": [
    "import random\n",
    "\n",
    "i = random.randint(1,10)\n",
    "n = int(input(\"Enter number for 1 to 10\"))\n",
    "if i==n:\n",
    "    print(\"congrats you have guessed it right\")\n",
    "else:\n",
    "    print(i)\n",
    "    print(\"Better luck next time\")"
   ]
  }
 ],
 "metadata": {
  "kernelspec": {
   "display_name": "Python [conda env:base] *",
   "language": "python",
   "name": "conda-base-py"
  },
  "language_info": {
   "codemirror_mode": {
    "name": "ipython",
    "version": 3
   },
   "file_extension": ".py",
   "mimetype": "text/x-python",
   "name": "python",
   "nbconvert_exporter": "python",
   "pygments_lexer": "ipython3",
   "version": "3.12.7"
  }
 },
 "nbformat": 4,
 "nbformat_minor": 5
}
