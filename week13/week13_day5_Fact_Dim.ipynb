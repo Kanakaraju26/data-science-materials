{
 "cells": [
  {
   "cell_type": "markdown",
   "id": "3450b590",
   "metadata": {},
   "source": [
    "<!-- ,Unnamed: 0,Text,Sentiment,Timestamp,User,Platform,Hashtags,Retweets,Likes,Country,Year,Month,Day,Hour\n",
    "\n",
    "Fact:\n",
    "Time stamp\n",
    "Day\n",
    "Year\n",
    "Month\n",
    "Hour\n",
    "\n",
    "Dim\n",
    "Platform\n",
    "Country\n",
    "Sentiment\n",
    " -->\n"
   ]
  },
  {
   "cell_type": "code",
   "execution_count": 1,
   "id": "e77d27db",
   "metadata": {},
   "outputs": [],
   "source": [
    "import pandas as pd"
   ]
  },
  {
   "cell_type": "markdown",
   "id": "a658a89e",
   "metadata": {},
   "source": [
    "| **Fact Table Columns**      | **Dimension Table Columns** |\n",
    "| --------------------------- | --------------------------- |\n",
    "| Retweets                    | Platform                    |\n",
    "| Likes                       | Country                     |\n",
    "| User                        | Sentiment                   |\n",
    "| Timestamp (as FK → DateKey) | Year                        |\n",
    "|                             | Month                       |\n",
    "|                             | Day                         |\n",
    "|                             | Hour                        |\n"
   ]
  },
  {
   "cell_type": "markdown",
   "id": "40c7b256",
   "metadata": {},
   "source": [
    "## ✅ Fact Table rules\n",
    "\n",
    "- Not only numbers — a Fact table contains:\n",
    "- Measures (numeric values) → e.g., Retweets, Likes\n",
    "- Foreign Keys → that link to Dimension tables (e.g., UserID, PlatformID, DateKey, SentimentID, CountryID)\n",
    "- So facts aren’t “only numbers” — they also store references to dimensions.\n",
    "\n",
    "## ✅ Dimension Table rules\n",
    "\n",
    "- Dimensions contain descriptive attributes.\n",
    "- This includes text (like Country, Platform, Sentiment) AND time breakdowns (Year, Month, Day, Hour).\n",
    "- Date/Time attributes almost always go into a Date Dimension."
   ]
  }
 ],
 "metadata": {
  "kernelspec": {
   "display_name": "Python 3",
   "language": "python",
   "name": "python3"
  },
  "language_info": {
   "codemirror_mode": {
    "name": "ipython",
    "version": 3
   },
   "file_extension": ".py",
   "mimetype": "text/x-python",
   "name": "python",
   "nbconvert_exporter": "python",
   "pygments_lexer": "ipython3",
   "version": "3.12.10"
  }
 },
 "nbformat": 4,
 "nbformat_minor": 5
}
