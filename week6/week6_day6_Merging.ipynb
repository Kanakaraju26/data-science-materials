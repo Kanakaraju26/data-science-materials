{
 "cells": [
  {
   "cell_type": "code",
   "execution_count": 2,
   "id": "eff4ce44-321f-4f57-b705-74d3944af7e7",
   "metadata": {},
   "outputs": [],
   "source": [
    "import pandas as pd"
   ]
  },
  {
   "cell_type": "code",
   "execution_count": 3,
   "id": "c4c8cde0",
   "metadata": {},
   "outputs": [],
   "source": [
    "emp = pd.read_csv(\"data/employees.csv\")\n",
    "dep = pd.read_csv(\"data/departments.csv\")"
   ]
  },
  {
   "cell_type": "code",
   "execution_count": 6,
   "id": "968535f8",
   "metadata": {},
   "outputs": [
    {
     "name": "stdout",
     "output_type": "stream",
     "text": [
      "   emp_id emp_name  dept_id\n",
      "0     101     John      1.0\n",
      "1     102    Alice      2.0\n",
      "2     103      Bob      1.0\n",
      "3     104      Eva      3.0\n",
      "4     105     Mike      NaN\n"
     ]
    }
   ],
   "source": [
    "print(emp)"
   ]
  },
  {
   "cell_type": "code",
   "execution_count": 7,
   "id": "ab099aab",
   "metadata": {},
   "outputs": [
    {
     "name": "stdout",
     "output_type": "stream",
     "text": [
      "   dept_id    dept_name\n",
      "0        1           HR\n",
      "1        2      Finance\n",
      "2        3  Engineering\n",
      "3        4    Marketing\n"
     ]
    }
   ],
   "source": [
    "print(dep)"
   ]
  },
  {
   "cell_type": "code",
   "execution_count": 4,
   "id": "4e4d6cc1",
   "metadata": {},
   "outputs": [
    {
     "name": "stdout",
     "output_type": "stream",
     "text": [
      "   emp_id emp_name  dept_id    dept_name\n",
      "0     101     John      1.0           HR\n",
      "1     102    Alice      2.0      Finance\n",
      "2     103      Bob      1.0           HR\n",
      "3     104      Eva      3.0  Engineering\n"
     ]
    }
   ],
   "source": [
    "inner_join = pd.merge(emp,dep,on=\"dept_id\",how=\"inner\")\n",
    "print(inner_join)"
   ]
  },
  {
   "cell_type": "code",
   "execution_count": 8,
   "id": "055723cb",
   "metadata": {},
   "outputs": [
    {
     "name": "stdout",
     "output_type": "stream",
     "text": [
      "   emp_id emp_name  dept_id    dept_name\n",
      "0     101     John      1.0           HR\n",
      "1     102    Alice      2.0      Finance\n",
      "2     103      Bob      1.0           HR\n",
      "3     104      Eva      3.0  Engineering\n",
      "4     105     Mike      NaN          NaN\n"
     ]
    }
   ],
   "source": [
    "left_join = pd.merge(emp,dep,on=\"dept_id\",how=\"left\")\n",
    "print(left_join)"
   ]
  },
  {
   "cell_type": "code",
   "execution_count": 9,
   "id": "09cedd65",
   "metadata": {},
   "outputs": [
    {
     "name": "stdout",
     "output_type": "stream",
     "text": [
      "   emp_id emp_name  dept_id    dept_name\n",
      "0   101.0     John      1.0           HR\n",
      "1   103.0      Bob      1.0           HR\n",
      "2   102.0    Alice      2.0      Finance\n",
      "3   104.0      Eva      3.0  Engineering\n",
      "4     NaN      NaN      4.0    Marketing\n"
     ]
    }
   ],
   "source": [
    "right_join = pd.merge(emp,dep,on=\"dept_id\",how=\"right\")\n",
    "print(right_join)"
   ]
  },
  {
   "cell_type": "code",
   "execution_count": null,
   "id": "1959aa02",
   "metadata": {},
   "outputs": [],
   "source": []
  }
 ],
 "metadata": {
  "kernelspec": {
   "display_name": "Python 3",
   "language": "python",
   "name": "python3"
  },
  "language_info": {
   "codemirror_mode": {
    "name": "ipython",
    "version": 3
   },
   "file_extension": ".py",
   "mimetype": "text/x-python",
   "name": "python",
   "nbconvert_exporter": "python",
   "pygments_lexer": "ipython3",
   "version": "3.12.10"
  }
 },
 "nbformat": 4,
 "nbformat_minor": 5
}
