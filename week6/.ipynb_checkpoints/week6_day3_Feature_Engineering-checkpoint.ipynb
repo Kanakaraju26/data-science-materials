{
 "cells": [
  {
   "cell_type": "code",
   "execution_count": 5,
   "id": "78088b67-945b-4443-a91f-92a7b6da326b",
   "metadata": {},
   "outputs": [],
   "source": [
    "import pandas as pd"
   ]
  },
  {
   "cell_type": "code",
   "execution_count": 6,
   "id": "05824e57",
   "metadata": {},
   "outputs": [],
   "source": [
    "df = pd.read_csv(\"C:\\\\Users\\\\Home\\\\Documents\\\\data science\\\\week6\\\\data\\\\cleanedNetflix.csv\")"
   ]
  },
  {
   "cell_type": "code",
   "execution_count": 7,
   "id": "9d4c7d0e",
   "metadata": {},
   "outputs": [
    {
     "name": "stdout",
     "output_type": "stream",
     "text": [
      "   Unnamed: 0 show_id     type                             title  \\\n",
      "0           0      s1    Movie              Dick Johnson Is Dead   \n",
      "1           1      s2  TV Show                     Blood & Water   \n",
      "2           2      s3  TV Show                         Ganglands   \n",
      "3           3      s4  TV Show             Jailbirds New Orleans   \n",
      "4           4      s5  TV Show                      Kota Factory   \n",
      "5           5      s6  TV Show                     Midnight Mass   \n",
      "6           6      s7    Movie  My Little Pony: A New Generation   \n",
      "7           7      s8    Movie                           Sankofa   \n",
      "8           8      s9  TV Show     The Great British Baking Show   \n",
      "9           9     s10    Movie                      The Starling   \n",
      "\n",
      "                        director  \\\n",
      "0                Kirsten Johnson   \n",
      "1                        Unknown   \n",
      "2                Julien Leclercq   \n",
      "3                        Unknown   \n",
      "4                        Unknown   \n",
      "5                  Mike Flanagan   \n",
      "6  Robert Cullen, José Luis Ucha   \n",
      "7                   Haile Gerima   \n",
      "8                Andy Devonshire   \n",
      "9                 Theodore Melfi   \n",
      "\n",
      "                                                cast  \\\n",
      "0                                      Not Available   \n",
      "1  Ama Qamata, Khosi Ngema, Gail Mabalane, Thaban...   \n",
      "2  Sami Bouajila, Tracy Gotoas, Samuel Jouy, Nabi...   \n",
      "3                                      Not Available   \n",
      "4  Mayur More, Jitendra Kumar, Ranjan Raj, Alam K...   \n",
      "5  Kate Siegel, Zach Gilford, Hamish Linklater, H...   \n",
      "6  Vanessa Hudgens, Kimiko Glenn, James Marsden, ...   \n",
      "7  Kofi Ghanaba, Oyafunmike Ogunlano, Alexandra D...   \n",
      "8  Mel Giedroyc, Sue Perkins, Mary Berry, Paul Ho...   \n",
      "9  Melissa McCarthy, Chris O'Dowd, Kevin Kline, T...   \n",
      "\n",
      "                                             country          date_added  \\\n",
      "0                                      United States  September 25, 2021   \n",
      "1                                       South Africa  September 24, 2021   \n",
      "2                                            Unknown  September 24, 2021   \n",
      "3                                            Unknown  September 24, 2021   \n",
      "4                                              India  September 24, 2021   \n",
      "5                                            Unknown  September 24, 2021   \n",
      "6                                            Unknown  September 24, 2021   \n",
      "7  United States, Ghana, Burkina Faso, United Kin...  September 24, 2021   \n",
      "8                                     United Kingdom  September 24, 2021   \n",
      "9                                      United States  September 24, 2021   \n",
      "\n",
      "   release_year rating   duration  \\\n",
      "0          2020  PG-13     90 min   \n",
      "1          2021  TV-MA  2 Seasons   \n",
      "2          2021  TV-MA   1 Season   \n",
      "3          2021  TV-MA   1 Season   \n",
      "4          2021  TV-MA  2 Seasons   \n",
      "5          2021  TV-MA   1 Season   \n",
      "6          2021     PG     91 min   \n",
      "7          1993  TV-MA    125 min   \n",
      "8          2021  TV-14  9 Seasons   \n",
      "9          2021  PG-13    104 min   \n",
      "\n",
      "                                           listed_in  \\\n",
      "0                                      Documentaries   \n",
      "1    International TV Shows, TV Dramas, TV Mysteries   \n",
      "2  Crime TV Shows, International TV Shows, TV Act...   \n",
      "3                             Docuseries, Reality TV   \n",
      "4  International TV Shows, Romantic TV Shows, TV ...   \n",
      "5                 TV Dramas, TV Horror, TV Mysteries   \n",
      "6                           Children & Family Movies   \n",
      "7   Dramas, Independent Movies, International Movies   \n",
      "8                       British TV Shows, Reality TV   \n",
      "9                                   Comedies, Dramas   \n",
      "\n",
      "                                         description  \n",
      "0  As her father nears the end of his life, filmm...  \n",
      "1  After crossing paths at a party, a Cape Town t...  \n",
      "2  To protect his family from a powerful drug lor...  \n",
      "3  Feuds, flirtations and toilet talk go down amo...  \n",
      "4  In a city of coaching centers known to train I...  \n",
      "5  The arrival of a charismatic young priest brin...  \n",
      "6  Equestria's divided. But a bright-eyed hero be...  \n",
      "7  On a photo shoot in Ghana, an American model s...  \n",
      "8  A talented batch of amateur bakers face off in...  \n",
      "9  A woman adjusting to life after a loss contend...  \n"
     ]
    }
   ],
   "source": [
    "print(df.head(10))"
   ]
  },
  {
   "cell_type": "code",
   "execution_count": 8,
   "id": "805eeabf",
   "metadata": {},
   "outputs": [
    {
     "name": "stdout",
     "output_type": "stream",
     "text": [
      "Unnamed: 0      0\n",
      "show_id         0\n",
      "type            0\n",
      "title           0\n",
      "director        0\n",
      "cast            0\n",
      "country         0\n",
      "date_added      0\n",
      "release_year    0\n",
      "rating          0\n",
      "duration        0\n",
      "listed_in       0\n",
      "description     0\n",
      "dtype: int64\n"
     ]
    }
   ],
   "source": [
    "print(df.isnull().sum())"
   ]
  },
  {
   "cell_type": "code",
   "execution_count": 9,
   "id": "4b2c40d2",
   "metadata": {},
   "outputs": [],
   "source": [
    "def get_age_group(year):\n",
    "    if year >= 2015:\n",
    "        return 'Recent'\n",
    "    elif year >= 2000:\n",
    "        return 'Modern'\n",
    "    elif year >= 1980:\n",
    "        return 'Classic'\n",
    "    else:\n",
    "        return 'Old'"
   ]
  },
  {
   "cell_type": "code",
   "execution_count": 10,
   "id": "0f70f6d0",
   "metadata": {},
   "outputs": [],
   "source": [
    "df['age_group'] = df['release_year'].apply(get_age_group)"
   ]
  },
  {
   "cell_type": "code",
   "execution_count": 12,
   "id": "138fe271",
   "metadata": {},
   "outputs": [
    {
     "name": "stdout",
     "output_type": "stream",
     "text": [
      "<class 'pandas.core.frame.DataFrame'>\n",
      "RangeIndex: 8807 entries, 0 to 8806\n",
      "Data columns (total 14 columns):\n",
      " #   Column        Non-Null Count  Dtype \n",
      "---  ------        --------------  ----- \n",
      " 0   Unnamed: 0    8807 non-null   int64 \n",
      " 1   show_id       8807 non-null   object\n",
      " 2   type          8807 non-null   object\n",
      " 3   title         8807 non-null   object\n",
      " 4   director      8807 non-null   object\n",
      " 5   cast          8807 non-null   object\n",
      " 6   country       8807 non-null   object\n",
      " 7   date_added    8807 non-null   object\n",
      " 8   release_year  8807 non-null   int64 \n",
      " 9   rating        8807 non-null   object\n",
      " 10  duration      8807 non-null   object\n",
      " 11  listed_in     8807 non-null   object\n",
      " 12  description   8807 non-null   object\n",
      " 13  age_group     8807 non-null   object\n",
      "dtypes: int64(2), object(12)\n",
      "memory usage: 963.4+ KB\n",
      "None\n"
     ]
    }
   ],
   "source": [
    "print(df.info())"
   ]
  },
  {
   "cell_type": "code",
   "execution_count": 14,
   "id": "3d6d194f",
   "metadata": {},
   "outputs": [],
   "source": [
    "df['duration_mins'] = df['duration'].str.extract(r'(\\d+)').astype(float)"
   ]
  },
  {
   "cell_type": "code",
   "execution_count": 15,
   "id": "75a642b8",
   "metadata": {},
   "outputs": [
    {
     "name": "stdout",
     "output_type": "stream",
     "text": [
      "0        90.0\n",
      "1         2.0\n",
      "2         1.0\n",
      "3         1.0\n",
      "4         2.0\n",
      "        ...  \n",
      "8802    158.0\n",
      "8803      2.0\n",
      "8804     88.0\n",
      "8805     88.0\n",
      "8806    111.0\n",
      "Name: duration_mins, Length: 8807, dtype: float64\n"
     ]
    }
   ],
   "source": [
    "print(df[\"duration_mins\"])"
   ]
  },
  {
   "cell_type": "code",
   "execution_count": 16,
   "id": "af26fa2a",
   "metadata": {},
   "outputs": [],
   "source": [
    "movies_df = df[df[\"type\"]==\"Movie\"].copy()\n",
    "movies_df['duration_mins'] = movies_df['duration'].str.extract(r'(\\d+)').astype(float)"
   ]
  },
  {
   "cell_type": "code",
   "execution_count": 20,
   "id": "28eecd70",
   "metadata": {},
   "outputs": [
    {
     "name": "stdout",
     "output_type": "stream",
     "text": [
      "Average duration of movies: 99.58 minutes\n",
      "max duration of movies: 312.00 minutes\n",
      "min duration of movies: 3.00 minutes\n"
     ]
    }
   ],
   "source": [
    "average_dur = movies_df[\"duration_mins\"].mean()\n",
    "max_dur = movies_df[\"duration_mins\"].max()\n",
    "min_dur = movies_df[\"duration_mins\"].min()\n",
    "\n",
    "print(f\"Average duration of movies: {average_dur:.2f} minutes\")\n",
    "print(f\"max duration of movies: {max_dur:.2f} minutes\")\n",
    "print(f\"min duration of movies: {min_dur:.2f} minutes\")\n"
   ]
  },
  {
   "cell_type": "code",
   "execution_count": 21,
   "id": "ca6663f5",
   "metadata": {},
   "outputs": [
    {
     "name": "stdout",
     "output_type": "stream",
     "text": [
      "<class 'pandas.core.frame.DataFrame'>\n",
      "RangeIndex: 8807 entries, 0 to 8806\n",
      "Data columns (total 15 columns):\n",
      " #   Column         Non-Null Count  Dtype  \n",
      "---  ------         --------------  -----  \n",
      " 0   Unnamed: 0     8807 non-null   int64  \n",
      " 1   show_id        8807 non-null   object \n",
      " 2   type           8807 non-null   object \n",
      " 3   title          8807 non-null   object \n",
      " 4   director       8807 non-null   object \n",
      " 5   cast           8807 non-null   object \n",
      " 6   country        8807 non-null   object \n",
      " 7   date_added     8807 non-null   object \n",
      " 8   release_year   8807 non-null   int64  \n",
      " 9   rating         8807 non-null   object \n",
      " 10  duration       8807 non-null   object \n",
      " 11  listed_in      8807 non-null   object \n",
      " 12  description    8807 non-null   object \n",
      " 13  age_group      8807 non-null   object \n",
      " 14  duration_mins  8804 non-null   float64\n",
      "dtypes: float64(1), int64(2), object(12)\n",
      "memory usage: 1.0+ MB\n",
      "None\n"
     ]
    }
   ],
   "source": [
    "print(df.info())"
   ]
  },
  {
   "cell_type": "code",
   "execution_count": 22,
   "id": "05c4433a",
   "metadata": {},
   "outputs": [],
   "source": [
    "df['is_movie'] = df['type'].apply(lambda x: 1 if x == 'Movie' else 0)"
   ]
  },
  {
   "cell_type": "code",
   "execution_count": 23,
   "id": "4b30a5a3",
   "metadata": {},
   "outputs": [
    {
     "name": "stdout",
     "output_type": "stream",
     "text": [
      "0       1\n",
      "1       0\n",
      "2       0\n",
      "3       0\n",
      "4       0\n",
      "       ..\n",
      "8802    1\n",
      "8803    0\n",
      "8804    1\n",
      "8805    1\n",
      "8806    1\n",
      "Name: is_movie, Length: 8807, dtype: int64\n"
     ]
    }
   ],
   "source": [
    "print(df[\"is_movie\"])"
   ]
  },
  {
   "cell_type": "code",
   "execution_count": 24,
   "id": "9b718003",
   "metadata": {},
   "outputs": [
    {
     "name": "stdout",
     "output_type": "stream",
     "text": [
      "0       2020\n",
      "1       2020\n",
      "2       2020\n",
      "3       2020\n",
      "4       2020\n",
      "        ... \n",
      "8802    2000\n",
      "8803    2010\n",
      "8804    2000\n",
      "8805    2000\n",
      "8806    2010\n",
      "Name: release_decade, Length: 8807, dtype: int64\n"
     ]
    }
   ],
   "source": [
    "df['release_decade'] = (df['release_year'] // 10) * 10\n",
    "print(df[\"release_decade\"])"
   ]
  },
  {
   "cell_type": "code",
   "execution_count": 29,
   "id": "40aea364",
   "metadata": {},
   "outputs": [
    {
     "name": "stdout",
     "output_type": "stream",
     "text": [
      "1990\n",
      "9\n"
     ]
    }
   ],
   "source": [
    "print((1999//10)*10)\n",
    "print((2019%10))"
   ]
  },
  {
   "cell_type": "code",
   "execution_count": 30,
   "id": "3f1b95d9",
   "metadata": {},
   "outputs": [],
   "source": [
    "df['release_decade'] = (df['release_year'] // 10) * 10"
   ]
  },
  {
   "cell_type": "code",
   "execution_count": 31,
   "id": "703af9fe",
   "metadata": {},
   "outputs": [
    {
     "name": "stdout",
     "output_type": "stream",
     "text": [
      "<class 'pandas.core.frame.DataFrame'>\n",
      "RangeIndex: 8807 entries, 0 to 8806\n",
      "Data columns (total 17 columns):\n",
      " #   Column          Non-Null Count  Dtype  \n",
      "---  ------          --------------  -----  \n",
      " 0   Unnamed: 0      8807 non-null   int64  \n",
      " 1   show_id         8807 non-null   object \n",
      " 2   type            8807 non-null   object \n",
      " 3   title           8807 non-null   object \n",
      " 4   director        8807 non-null   object \n",
      " 5   cast            8807 non-null   object \n",
      " 6   country         8807 non-null   object \n",
      " 7   date_added      8807 non-null   object \n",
      " 8   release_year    8807 non-null   int64  \n",
      " 9   rating          8807 non-null   object \n",
      " 10  duration        8807 non-null   object \n",
      " 11  listed_in       8807 non-null   object \n",
      " 12  description     8807 non-null   object \n",
      " 13  age_group       8807 non-null   object \n",
      " 14  duration_mins   8804 non-null   float64\n",
      " 15  is_movie        8807 non-null   int64  \n",
      " 16  release_decade  8807 non-null   int64  \n",
      "dtypes: float64(1), int64(4), object(12)\n",
      "memory usage: 1.1+ MB\n",
      "None\n"
     ]
    }
   ],
   "source": [
    "print(df.info())"
   ]
  },
  {
   "cell_type": "code",
   "execution_count": 32,
   "id": "851489aa",
   "metadata": {},
   "outputs": [],
   "source": [
    "df = pd.get_dummies(df, columns=['rating', 'type'], drop_first=True)"
   ]
  },
  {
   "cell_type": "code",
   "execution_count": 33,
   "id": "cd3a9a1c",
   "metadata": {},
   "outputs": [
    {
     "name": "stdout",
     "output_type": "stream",
     "text": [
      "<class 'pandas.core.frame.DataFrame'>\n",
      "RangeIndex: 8807 entries, 0 to 8806\n",
      "Data columns (total 32 columns):\n",
      " #   Column           Non-Null Count  Dtype  \n",
      "---  ------           --------------  -----  \n",
      " 0   Unnamed: 0       8807 non-null   int64  \n",
      " 1   show_id          8807 non-null   object \n",
      " 2   title            8807 non-null   object \n",
      " 3   director         8807 non-null   object \n",
      " 4   cast             8807 non-null   object \n",
      " 5   country          8807 non-null   object \n",
      " 6   date_added       8807 non-null   object \n",
      " 7   release_year     8807 non-null   int64  \n",
      " 8   duration         8807 non-null   object \n",
      " 9   listed_in        8807 non-null   object \n",
      " 10  description      8807 non-null   object \n",
      " 11  age_group        8807 non-null   object \n",
      " 12  duration_mins    8804 non-null   float64\n",
      " 13  is_movie         8807 non-null   int64  \n",
      " 14  release_decade   8807 non-null   int64  \n",
      " 15  rating_74 min    8807 non-null   bool   \n",
      " 16  rating_84 min    8807 non-null   bool   \n",
      " 17  rating_G         8807 non-null   bool   \n",
      " 18  rating_NC-17     8807 non-null   bool   \n",
      " 19  rating_NR        8807 non-null   bool   \n",
      " 20  rating_PG        8807 non-null   bool   \n",
      " 21  rating_PG-13     8807 non-null   bool   \n",
      " 22  rating_R         8807 non-null   bool   \n",
      " 23  rating_TV-14     8807 non-null   bool   \n",
      " 24  rating_TV-G      8807 non-null   bool   \n",
      " 25  rating_TV-MA     8807 non-null   bool   \n",
      " 26  rating_TV-PG     8807 non-null   bool   \n",
      " 27  rating_TV-Y      8807 non-null   bool   \n",
      " 28  rating_TV-Y7     8807 non-null   bool   \n",
      " 29  rating_TV-Y7-FV  8807 non-null   bool   \n",
      " 30  rating_UR        8807 non-null   bool   \n",
      " 31  type_TV Show     8807 non-null   bool   \n",
      "dtypes: bool(17), float64(1), int64(4), object(10)\n",
      "memory usage: 1.2+ MB\n",
      "None\n"
     ]
    }
   ],
   "source": [
    "print(df.info())"
   ]
  },
  {
   "cell_type": "code",
   "execution_count": 35,
   "id": "369d83bd",
   "metadata": {},
   "outputs": [
    {
     "name": "stdout",
     "output_type": "stream",
     "text": [
      "0      2021-09-25\n",
      "1      2021-09-24\n",
      "2      2021-09-24\n",
      "3      2021-09-24\n",
      "4      2021-09-24\n",
      "          ...    \n",
      "8802   2019-11-20\n",
      "8803   2019-07-01\n",
      "8804   2019-11-01\n",
      "8805   2020-01-11\n",
      "8806   2019-03-02\n",
      "Name: date_added, Length: 8807, dtype: datetime64[ns]\n"
     ]
    }
   ],
   "source": [
    "df['date_added'] = pd.to_datetime(df['date_added'].str.strip(), format='%B %d, %Y')\n",
    "print(df[\"date_added\"])"
   ]
  },
  {
   "cell_type": "code",
   "execution_count": 36,
   "id": "1fc35d3c",
   "metadata": {},
   "outputs": [],
   "source": [
    "df['added_year'] = df['date_added'].dt.year\n",
    "df['added_month'] = df['date_added'].dt.month\n",
    "df['added_dayofweek'] = df['date_added'].dt.dayofweek  \n"
   ]
  },
  {
   "cell_type": "code",
   "execution_count": 37,
   "id": "ecc6093d",
   "metadata": {},
   "outputs": [
    {
     "name": "stdout",
     "output_type": "stream",
     "text": [
      "0       2021\n",
      "1       2021\n",
      "2       2021\n",
      "3       2021\n",
      "4       2021\n",
      "        ... \n",
      "8802    2019\n",
      "8803    2019\n",
      "8804    2019\n",
      "8805    2020\n",
      "8806    2019\n",
      "Name: added_year, Length: 8807, dtype: int32 0        9\n",
      "1        9\n",
      "2        9\n",
      "3        9\n",
      "4        9\n",
      "        ..\n",
      "8802    11\n",
      "8803     7\n",
      "8804    11\n",
      "8805     1\n",
      "8806     3\n",
      "Name: added_month, Length: 8807, dtype: int32 0       5\n",
      "1       4\n",
      "2       4\n",
      "3       4\n",
      "4       4\n",
      "       ..\n",
      "8802    2\n",
      "8803    0\n",
      "8804    4\n",
      "8805    5\n",
      "8806    5\n",
      "Name: added_dayofweek, Length: 8807, dtype: int32\n"
     ]
    }
   ],
   "source": [
    "print(df['added_year'], df[\"added_month\"], df[\"added_dayofweek\"])"
   ]
  },
  {
   "cell_type": "code",
   "execution_count": 38,
   "id": "cc7814a9",
   "metadata": {},
   "outputs": [
    {
     "name": "stdout",
     "output_type": "stream",
     "text": [
      "0        1\n",
      "1        0\n",
      "2        0\n",
      "3        0\n",
      "4        0\n",
      "        ..\n",
      "8802    12\n",
      "8803     1\n",
      "8804    10\n",
      "8805    14\n",
      "8806     4\n",
      "Name: added_delay, Length: 8807, dtype: int64\n"
     ]
    }
   ],
   "source": [
    "df['added_delay'] = df['added_year'] - df['release_year']\n",
    "print(df[\"added_delay\"])"
   ]
  },
  {
   "cell_type": "code",
   "execution_count": 46,
   "id": "8914dd2f",
   "metadata": {},
   "outputs": [],
   "source": [
    "df = df.rename(columns={\n",
    "    'Unnamed: 0':'sr_no'\n",
    "})"
   ]
  },
  {
   "cell_type": "code",
   "execution_count": 47,
   "id": "b4ac4883",
   "metadata": {},
   "outputs": [
    {
     "name": "stdout",
     "output_type": "stream",
     "text": [
      "<class 'pandas.core.frame.DataFrame'>\n",
      "RangeIndex: 8807 entries, 0 to 8806\n",
      "Data columns (total 36 columns):\n",
      " #   Column           Non-Null Count  Dtype         \n",
      "---  ------           --------------  -----         \n",
      " 0   sr_no            8807 non-null   int64         \n",
      " 1   show_id          8807 non-null   object        \n",
      " 2   title            8807 non-null   object        \n",
      " 3   director         8807 non-null   object        \n",
      " 4   cast             8807 non-null   object        \n",
      " 5   country          8807 non-null   object        \n",
      " 6   date_added       8807 non-null   datetime64[ns]\n",
      " 7   release_year     8807 non-null   int64         \n",
      " 8   duration         8807 non-null   object        \n",
      " 9   listed_in        8807 non-null   object        \n",
      " 10  description      8807 non-null   object        \n",
      " 11  age_group        8807 non-null   object        \n",
      " 12  duration_mins    8804 non-null   float64       \n",
      " 13  is_movie         8807 non-null   int64         \n",
      " 14  release_decade   8807 non-null   int64         \n",
      " 15  rating_74 min    8807 non-null   bool          \n",
      " 16  rating_84 min    8807 non-null   bool          \n",
      " 17  rating_G         8807 non-null   bool          \n",
      " 18  rating_NC-17     8807 non-null   bool          \n",
      " 19  rating_NR        8807 non-null   bool          \n",
      " 20  rating_PG        8807 non-null   bool          \n",
      " 21  rating_PG-13     8807 non-null   bool          \n",
      " 22  rating_R         8807 non-null   bool          \n",
      " 23  rating_TV-14     8807 non-null   bool          \n",
      " 24  rating_TV-G      8807 non-null   bool          \n",
      " 25  rating_TV-MA     8807 non-null   bool          \n",
      " 26  rating_TV-PG     8807 non-null   bool          \n",
      " 27  rating_TV-Y      8807 non-null   bool          \n",
      " 28  rating_TV-Y7     8807 non-null   bool          \n",
      " 29  rating_TV-Y7-FV  8807 non-null   bool          \n",
      " 30  rating_UR        8807 non-null   bool          \n",
      " 31  type_TV Show     8807 non-null   bool          \n",
      " 32  added_year       8807 non-null   int32         \n",
      " 33  added_month      8807 non-null   int32         \n",
      " 34  added_dayofweek  8807 non-null   int32         \n",
      " 35  added_delay      8807 non-null   int64         \n",
      "dtypes: bool(17), datetime64[ns](1), float64(1), int32(3), int64(5), object(9)\n",
      "memory usage: 1.3+ MB\n",
      "None\n"
     ]
    }
   ],
   "source": [
    "print(df.info())"
   ]
  },
  {
   "cell_type": "code",
   "execution_count": 48,
   "id": "b791962c",
   "metadata": {},
   "outputs": [
    {
     "name": "stdout",
     "output_type": "stream",
     "text": [
      "   sr_no show_id                  title         director  \\\n",
      "0      0      s1   Dick Johnson Is Dead  Kirsten Johnson   \n",
      "1      1      s2          Blood & Water          Unknown   \n",
      "2      2      s3              Ganglands  Julien Leclercq   \n",
      "3      3      s4  Jailbirds New Orleans          Unknown   \n",
      "4      4      s5           Kota Factory          Unknown   \n",
      "\n",
      "                                                cast        country  \\\n",
      "0                                      Not Available  United States   \n",
      "1  Ama Qamata, Khosi Ngema, Gail Mabalane, Thaban...   South Africa   \n",
      "2  Sami Bouajila, Tracy Gotoas, Samuel Jouy, Nabi...        Unknown   \n",
      "3                                      Not Available        Unknown   \n",
      "4  Mayur More, Jitendra Kumar, Ranjan Raj, Alam K...          India   \n",
      "\n",
      "  date_added  release_year   duration  \\\n",
      "0 2021-09-25          2020     90 min   \n",
      "1 2021-09-24          2021  2 Seasons   \n",
      "2 2021-09-24          2021   1 Season   \n",
      "3 2021-09-24          2021   1 Season   \n",
      "4 2021-09-24          2021  2 Seasons   \n",
      "\n",
      "                                           listed_in  ... rating_TV-PG  \\\n",
      "0                                      Documentaries  ...        False   \n",
      "1    International TV Shows, TV Dramas, TV Mysteries  ...        False   \n",
      "2  Crime TV Shows, International TV Shows, TV Act...  ...        False   \n",
      "3                             Docuseries, Reality TV  ...        False   \n",
      "4  International TV Shows, Romantic TV Shows, TV ...  ...        False   \n",
      "\n",
      "  rating_TV-Y  rating_TV-Y7  rating_TV-Y7-FV  rating_UR  type_TV Show  \\\n",
      "0       False         False            False      False         False   \n",
      "1       False         False            False      False          True   \n",
      "2       False         False            False      False          True   \n",
      "3       False         False            False      False          True   \n",
      "4       False         False            False      False          True   \n",
      "\n",
      "   added_year  added_month  added_dayofweek  added_delay  \n",
      "0        2021            9                5            1  \n",
      "1        2021            9                4            0  \n",
      "2        2021            9                4            0  \n",
      "3        2021            9                4            0  \n",
      "4        2021            9                4            0  \n",
      "\n",
      "[5 rows x 36 columns]\n"
     ]
    }
   ],
   "source": [
    "print(df.head(5))"
   ]
  },
  {
   "cell_type": "code",
   "execution_count": 49,
   "id": "852b3234",
   "metadata": {},
   "outputs": [],
   "source": [
    "df.to_csv(\"data/day3_cleaned_dataset.csv\")"
   ]
  },
  {
   "cell_type": "code",
   "execution_count": null,
   "id": "d6c3d16e",
   "metadata": {},
   "outputs": [],
   "source": []
  }
 ],
 "metadata": {
  "kernelspec": {
   "display_name": "Python [conda env:base] *",
   "language": "python",
   "name": "conda-base-py"
  },
  "language_info": {
   "codemirror_mode": {
    "name": "ipython",
    "version": 3
   },
   "file_extension": ".py",
   "mimetype": "text/x-python",
   "name": "python",
   "nbconvert_exporter": "python",
   "pygments_lexer": "ipython3",
   "version": "3.12.7"
  }
 },
 "nbformat": 4,
 "nbformat_minor": 5
}
