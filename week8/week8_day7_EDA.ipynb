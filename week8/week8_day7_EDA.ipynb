{
 "cells": [
  {
   "cell_type": "code",
   "execution_count": 2,
   "id": "dced0ede",
   "metadata": {},
   "outputs": [],
   "source": [
    "import pandas as pd"
   ]
  },
  {
   "cell_type": "code",
   "execution_count": 3,
   "id": "b77acd10",
   "metadata": {},
   "outputs": [],
   "source": [
    "dfi = pd.read_csv(\"data/2018-2010_import.csv\")\n",
    "dfe = pd.read_csv(\"data/2018-2010_export.csv\")"
   ]
  },
  {
   "cell_type": "code",
   "execution_count": 5,
   "id": "a38d5ce0",
   "metadata": {},
   "outputs": [
    {
     "name": "stdout",
     "output_type": "stream",
     "text": [
      "<class 'pandas.core.frame.DataFrame'>\n",
      "RangeIndex: 76124 entries, 0 to 76123\n",
      "Data columns (total 5 columns):\n",
      " #   Column     Non-Null Count  Dtype  \n",
      "---  ------     --------------  -----  \n",
      " 0   HSCode     76124 non-null  int64  \n",
      " 1   Commodity  76124 non-null  object \n",
      " 2   value      64536 non-null  float64\n",
      " 3   country    76124 non-null  object \n",
      " 4   year       76124 non-null  int64  \n",
      "dtypes: float64(1), int64(2), object(2)\n",
      "memory usage: 2.9+ MB\n",
      "None\n",
      "<class 'pandas.core.frame.DataFrame'>\n",
      "RangeIndex: 137023 entries, 0 to 137022\n",
      "Data columns (total 5 columns):\n",
      " #   Column     Non-Null Count   Dtype  \n",
      "---  ------     --------------   -----  \n",
      " 0   HSCode     137023 non-null  int64  \n",
      " 1   Commodity  137023 non-null  object \n",
      " 2   value      122985 non-null  float64\n",
      " 3   country    137023 non-null  object \n",
      " 4   year       137023 non-null  int64  \n",
      "dtypes: float64(1), int64(2), object(2)\n",
      "memory usage: 5.2+ MB\n",
      "None\n"
     ]
    }
   ],
   "source": [
    "print(dfi.info())\n",
    "print(dfe.info())"
   ]
  },
  {
   "cell_type": "code",
   "execution_count": 6,
   "id": "fd643c0a",
   "metadata": {},
   "outputs": [
    {
     "name": "stdout",
     "output_type": "stream",
     "text": [
      "HSCode           0\n",
      "Commodity        0\n",
      "value        11588\n",
      "country          0\n",
      "year             0\n",
      "dtype: int64\n",
      "HSCode           0\n",
      "Commodity        0\n",
      "value        14038\n",
      "country          0\n",
      "year             0\n",
      "dtype: int64\n"
     ]
    }
   ],
   "source": [
    "print(dfi.isnull().sum())\n",
    "print(dfe.isnull().sum())"
   ]
  },
  {
   "cell_type": "code",
   "execution_count": null,
   "id": "9a402957",
   "metadata": {},
   "outputs": [],
   "source": [
    "dfi_clean = dfi.dropna()\n",
    "dfe_clean = dfe.dropna()"
   ]
  },
  {
   "cell_type": "code",
   "execution_count": 8,
   "id": "6488c45f",
   "metadata": {},
   "outputs": [
    {
     "name": "stdout",
     "output_type": "stream",
     "text": [
      "HSCode       0\n",
      "Commodity    0\n",
      "value        0\n",
      "country      0\n",
      "year         0\n",
      "dtype: int64\n",
      "HSCode       0\n",
      "Commodity    0\n",
      "value        0\n",
      "country      0\n",
      "year         0\n",
      "dtype: int64\n"
     ]
    }
   ],
   "source": [
    "print(dfi_clean.isnull().sum())\n",
    "print(dfe_clean.isnull().sum())"
   ]
  },
  {
   "cell_type": "code",
   "execution_count": 9,
   "id": "eb2c3b83",
   "metadata": {},
   "outputs": [
    {
     "name": "stdout",
     "output_type": "stream",
     "text": [
      "<class 'pandas.core.frame.DataFrame'>\n",
      "Index: 64536 entries, 0 to 76120\n",
      "Data columns (total 5 columns):\n",
      " #   Column     Non-Null Count  Dtype  \n",
      "---  ------     --------------  -----  \n",
      " 0   HSCode     64536 non-null  int64  \n",
      " 1   Commodity  64536 non-null  object \n",
      " 2   value      64536 non-null  float64\n",
      " 3   country    64536 non-null  object \n",
      " 4   year       64536 non-null  int64  \n",
      "dtypes: float64(1), int64(2), object(2)\n",
      "memory usage: 3.0+ MB\n",
      "<class 'pandas.core.frame.DataFrame'>\n",
      "Index: 122985 entries, 0 to 137022\n",
      "Data columns (total 5 columns):\n",
      " #   Column     Non-Null Count   Dtype  \n",
      "---  ------     --------------   -----  \n",
      " 0   HSCode     122985 non-null  int64  \n",
      " 1   Commodity  122985 non-null  object \n",
      " 2   value      122985 non-null  float64\n",
      " 3   country    122985 non-null  object \n",
      " 4   year       122985 non-null  int64  \n",
      "dtypes: float64(1), int64(2), object(2)\n",
      "memory usage: 5.6+ MB\n"
     ]
    }
   ],
   "source": [
    "# Check structure and types\n",
    "dfi_clean.info()\n",
    "dfe_clean.info()\n"
   ]
  },
  {
   "cell_type": "code",
   "execution_count": 10,
   "id": "5631b361",
   "metadata": {},
   "outputs": [
    {
     "name": "stdout",
     "output_type": "stream",
     "text": [
      "   year      value\n",
      "0  2010  369762.25\n",
      "1  2011  489311.81\n",
      "2  2012  490730.07\n",
      "3  2013  450192.99\n",
      "4  2014  448026.63\n",
      "5  2015  412537.53\n",
      "6  2016  384350.29\n",
      "7  2017  465574.02\n",
      "8  2018  514071.33\n",
      "   year      value\n",
      "0  2010  249801.18\n",
      "1  2011  305948.28\n",
      "2  2012  300384.32\n",
      "3  2013  314388.61\n",
      "4  2014  310321.02\n",
      "5  2015  262274.30\n",
      "6  2016  275835.27\n",
      "7  2017  303507.85\n",
      "8  2018  330058.64\n"
     ]
    }
   ],
   "source": [
    "import_yearly = dfi_clean.groupby('year')['value'].sum().reset_index()\n",
    "export_yearly = dfe_clean.groupby('year')['value'].sum().reset_index()\n",
    "print(import_yearly)\n",
    "print(export_yearly)"
   ]
  },
  {
   "cell_type": "code",
   "execution_count": 12,
   "id": "7eca2817",
   "metadata": {},
   "outputs": [
    {
     "name": "stdout",
     "output_type": "stream",
     "text": [
      "country\n",
      "CHINA P RP     532177.51\n",
      "U ARAB EMTS    256286.08\n",
      "SAUDI ARAB     241554.99\n",
      "U S A          219276.66\n",
      "SWITZERLAND    206729.03\n",
      "IRAQ           142476.32\n",
      "INDONESIA      128164.40\n",
      "KOREA RP       121143.58\n",
      "GERMANY        119664.64\n",
      "AUSTRALIA      115598.98\n",
      "Name: value, dtype: float64\n",
      "country\n",
      "U S A          360609.57\n",
      "U ARAB EMTS    289374.88\n",
      "CHINA P RP     121806.00\n",
      "HONG KONG      115693.35\n",
      "SINGAPORE      101679.70\n",
      "U K             79942.61\n",
      "GERMANY         68855.45\n",
      "NETHERLAND      66581.17\n",
      "SAUDI ARAB      65995.99\n",
      "UNSPECIFIED     62259.89\n",
      "Name: value, dtype: float64\n"
     ]
    }
   ],
   "source": [
    "top_import_countries = dfi_clean.groupby('country')['value'].sum()\\\n",
    "                                      .sort_values(ascending=False).head(10)\n",
    "top_export_countries = dfe_clean.groupby('country')['value'].sum()\\\n",
    "                                      .sort_values(ascending=False).head(10)\n",
    "\n",
    "print(top_import_countries)\n",
    "print(top_export_countries)"
   ]
  },
  {
   "cell_type": "code",
   "execution_count": 13,
   "id": "55c5078a",
   "metadata": {},
   "outputs": [
    {
     "name": "stdout",
     "output_type": "stream",
     "text": [
      "Commodity\n",
      "MINERAL FUELS, MINERAL OILS AND PRODUCTS OF THEIR DISTILLATION; BITUMINOUS SUBSTANCES; MINERAL WAXES.                                                     434594.81\n",
      "NATURAL OR CULTURED PEARLS,PRECIOUS OR SEMIPRECIOUS STONES,PRE.METALS,CLAD WITH PRE.METAL AND ARTCLS THEREOF;IMIT.JEWLRY;COIN.                            383341.86\n",
      "VEHICLES OTHER THAN RAILWAY OR TRAMWAY ROLLING STOCK, AND PARTS AND ACCESSORIES THEREOF.                                                                  124502.75\n",
      "NUCLEAR REACTORS, BOILERS, MACHINERY AND MECHANICAL APPLIANCES; PARTS THEREOF.                                                                            123810.69\n",
      "ORGANIC CHEMICALS                                                                                                                                         113008.98\n",
      "PHARMACEUTICAL PRODUCTS                                                                                                                                   101792.69\n",
      "ELECTRICAL MACHINERY AND EQUIPMENT AND PARTS THEREOF; SOUND RECORDERS AND REPRODUCERS, TELEVISION IMAGE AND SOUND RECORDERS AND REPRODUCERS,AND PARTS.     89819.84\n",
      "IRON AND STEEL                                                                                                                                             76597.96\n",
      "ARTICLES OF APPAREL AND CLOTHING ACCESSORIES, NOT KNITTED OR CROCHETED.                                                                                    75122.06\n",
      "COTTON.                                                                                                                                                    71284.27\n",
      "Name: value, dtype: float64\n",
      "Commodity\n",
      "MINERAL FUELS, MINERAL OILS AND PRODUCTS OF THEIR DISTILLATION; BITUMINOUS SUBSTANCES; MINERAL WAXES.                                                     434594.81\n",
      "NATURAL OR CULTURED PEARLS,PRECIOUS OR SEMIPRECIOUS STONES,PRE.METALS,CLAD WITH PRE.METAL AND ARTCLS THEREOF;IMIT.JEWLRY;COIN.                            383341.86\n",
      "VEHICLES OTHER THAN RAILWAY OR TRAMWAY ROLLING STOCK, AND PARTS AND ACCESSORIES THEREOF.                                                                  124502.75\n",
      "NUCLEAR REACTORS, BOILERS, MACHINERY AND MECHANICAL APPLIANCES; PARTS THEREOF.                                                                            123810.69\n",
      "ORGANIC CHEMICALS                                                                                                                                         113008.98\n",
      "PHARMACEUTICAL PRODUCTS                                                                                                                                   101792.69\n",
      "ELECTRICAL MACHINERY AND EQUIPMENT AND PARTS THEREOF; SOUND RECORDERS AND REPRODUCERS, TELEVISION IMAGE AND SOUND RECORDERS AND REPRODUCERS,AND PARTS.     89819.84\n",
      "IRON AND STEEL                                                                                                                                             76597.96\n",
      "ARTICLES OF APPAREL AND CLOTHING ACCESSORIES, NOT KNITTED OR CROCHETED.                                                                                    75122.06\n",
      "COTTON.                                                                                                                                                    71284.27\n",
      "Name: value, dtype: float64\n"
     ]
    }
   ],
   "source": [
    "top_import_commodities = dfi_clean.groupby('Commodity')['value'].sum()\\\n",
    "                                        .sort_values(ascending=False).head(10)\n",
    "\n",
    "top_export_commodities = dfe_clean.groupby('Commodity')['value'].sum()\\\n",
    "                                        .sort_values(ascending=False).head(10)\n",
    "\n",
    "print(top_export_commodities)\n",
    "print(top_export_commodities)"
   ]
  },
  {
   "cell_type": "code",
   "execution_count": null,
   "id": "d0e28945",
   "metadata": {},
   "outputs": [],
   "source": []
  }
 ],
 "metadata": {
  "kernelspec": {
   "display_name": "Python 3",
   "language": "python",
   "name": "python3"
  },
  "language_info": {
   "codemirror_mode": {
    "name": "ipython",
    "version": 3
   },
   "file_extension": ".py",
   "mimetype": "text/x-python",
   "name": "python",
   "nbconvert_exporter": "python",
   "pygments_lexer": "ipython3",
   "version": "3.12.10"
  }
 },
 "nbformat": 4,
 "nbformat_minor": 5
}
