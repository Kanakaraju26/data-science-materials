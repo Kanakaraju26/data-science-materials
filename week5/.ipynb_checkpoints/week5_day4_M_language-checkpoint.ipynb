{
 "cells": [
  {
   "cell_type": "markdown",
   "id": "4742046f-3034-4f91-af40-dcb030e66f5a",
   "metadata": {},
   "source": [
    "# Introduction to M language"
   ]
  },
  {
   "cell_type": "markdown",
   "id": "c4f0b09a",
   "metadata": {},
   "source": [
    "##### In Power BI, the M language, or Power Query M formula language, is a data transformation language used behind the scenes in Power Query Editor. It's like a scripting language that allows you to clean, shape, and combine data from various sources. Think of it as the engine that powers the data loading and transformation steps you perform in Power Query "
   ]
  },
  {
   "cell_type": "markdown",
   "id": "e49b4f09",
   "metadata": {},
   "source": [
    "## Code"
   ]
  },
  {
   "cell_type": "markdown",
   "id": "35e6c25e",
   "metadata": {},
   "source": [
    "#### so we are going to understand basic of M language through a code snippet"
   ]
  },
  {
   "cell_type": "markdown",
   "id": "534529b3",
   "metadata": {},
   "source": [
    "<pre> <strong> let\n",
    "    Source = Excel.Workbook(File.Contents(\"C:\\Users\\Home\\Documents\\data science\\week5\\data\\employee_salaries.xlsx\"), null, true),\n",
    "    Sheet1_Sheet = Source{[Item=\"Sheet1\",Kind=\"Sheet\"]}[Data],\n",
    "    #\"Promoted Headers\" = Table.PromoteHeaders(Sheet1_Sheet, [PromoteAllScalars=true]),\n",
    "    #\"Changed Type\" = Table.TransformColumnTypes(#\"Promoted Headers\",{{\"Employee ID\", Int64.Type}, {\"Name\", type text}, {\"Dept\", type text}, {\"Jan\", Int64.Type}, {\"Feb\", Int64.Type}, {\"Mar\", Int64.Type}})\n",
    "in\n",
    "    #\"Changed Type\" </Strong> </pre>"
   ]
  },
  {
   "cell_type": "markdown",
   "id": "cd4ee626",
   "metadata": {},
   "source": [
    "### ✅ Overall Structure of M Code"
   ]
  },
  {
   "cell_type": "markdown",
   "id": "b88865c6",
   "metadata": {},
   "source": [
    "<pre> let\n",
    "    // Step 1\n",
    "    Name1 = Expression1,\n",
    "    // Step 2\n",
    "    Name2 = Expression2,\n",
    "    ...\n",
    "in\n",
    "    FinalName\n",
    "\n",
    "let block: Declares a sequence of steps, each binding a name to a value.\n",
    "in: Defines which step/result will be returned at the end (usually the last step).\n",
    "</pre>\n"
   ]
  },
  {
   "cell_type": "markdown",
   "id": "89b26336",
   "metadata": {},
   "source": [
    "### Step 1"
   ]
  },
  {
   "cell_type": "markdown",
   "id": "bab77b5e",
   "metadata": {},
   "source": [
    "<Strong> Source = Excel.Workbook(File.Contents(\"C:\\Users\\Home\\Documents\\data science\\week5\\data\\employee_salaries.xlsx\"), null, true), </strong>\n",
    "\n",
    "<pre>\n",
    "File.Contents(...): Reads the binary content of the Excel file.\n",
    "Excel.Workbook(...): Converts that content into a table of sheets, tables, and ranges.\n",
    "null and true are optional parameters:\n",
    "null: No specific delimiter for structured data.\n",
    "true: Indicates to detect data types automatically.\n",
    "</pre>"
   ]
  },
  {
   "cell_type": "markdown",
   "id": "cfb8897a",
   "metadata": {},
   "source": [
    "### Step 2"
   ]
  },
  {
   "cell_type": "markdown",
   "id": "b03d07f7",
   "metadata": {},
   "source": [
    "<strong> Sheet1_Sheet = Source{[Item=\"Sheet1\",Kind=\"Sheet\"]}[Data], </strong>\n",
    "\n",
    "<pre>\n",
    "This extracts the data from the \"Sheet1\" object in the workbook.\n",
    "{[Item=\"Sheet1\",Kind=\"Sheet\"]} is a record selector that filters for the sheet named \"Sheet1\".\n",
    "[Data] extracts the actual table data inside that sheet.\n",
    "</pre>"
   ]
  },
  {
   "cell_type": "markdown",
   "id": "7d6ff972",
   "metadata": {},
   "source": [
    "### Step 3"
   ]
  },
  {
   "cell_type": "markdown",
   "id": "fcaedb10",
   "metadata": {},
   "source": [
    "<strong> #\"Promoted Headers\" = Table.PromoteHeaders(Sheet1_Sheet, [PromoteAllScalars=true]), </strong>\n",
    "\n",
    "<pre>\n",
    "Table.PromoteHeaders(...): Converts the first row of data into column headers.\n",
    "PromoteAllScalars=true: Promotes even values that look like text or numbers, not just lists.\n",
    "</pre>"
   ]
  },
  {
   "cell_type": "markdown",
   "id": "541d7f3a",
   "metadata": {},
   "source": [
    "### Step 4"
   ]
  },
  {
   "cell_type": "markdown",
   "id": "e7072d10",
   "metadata": {},
   "source": [
    "<pre><Strong>#\"Changed Type\" = Table.TransformColumnTypes(#\"Promoted Headers\", {\n",
    "    {\"Employee ID\", Int64.Type}, \n",
    "    {\"Name\", type text}, \n",
    "    {\"Dept\", type text}, \n",
    "    {\"Jan\", Int64.Type}, \n",
    "    {\"Feb\", Int64.Type}, \n",
    "    {\"Mar\", Int64.Type}\n",
    "}),\n",
    "</strong></pre>\n",
    "\n",
    "\n",
    "<pre>\n",
    "Table.TransformColumnTypes(...): Explicitly assigns data types to columns.\n",
    "Each pair in the list ({...}) maps a column name to a type:\n",
    "Int64.Type: Whole number.\n",
    "type text: Text/string.\n",
    "</pre>"
   ]
  },
  {
   "cell_type": "markdown",
   "id": "7c3d52c3",
   "metadata": {},
   "source": [
    "### Step 5"
   ]
  },
  {
   "cell_type": "markdown",
   "id": "f0378146",
   "metadata": {},
   "source": [
    "<strong>in\n",
    "    #\"Changed Type\"\n",
    "</strong>\n",
    "\n",
    "Returns the last transformed table as the final result."
   ]
  },
  {
   "cell_type": "markdown",
   "id": "5ba0a613",
   "metadata": {},
   "source": [
    "## <Strong><i>Now we will see some basic useful Operation</i></strong>"
   ]
  },
  {
   "cell_type": "markdown",
   "id": "1e184926",
   "metadata": {},
   "source": [
    "<Strong><pre>\n",
    "| Rank | Function Name              | Description                                                           |\n",
    "| ---- | -------------------------- | --------------------------------------------------------------------- |\n",
    "| 1️⃣  | `Table.SelectRows`         | Filters rows in a table based on a condition.                         |\n",
    "| 2️⃣  | `Table.AddColumn`          | Adds a new column to a table with calculated values.                  |\n",
    "| 3️⃣  | `Table.transformColumn`    | Applies a function to transform one or more columns.                 |\n",
    "| 4️⃣  | `Table.Sort`               | Sorts a table by one or more columns.                                 |\n",
    "| 5️⃣  | `Record.Field`             | Retrieves the value of a field from a record.                         |\n",
    "| 6️⃣  | `Text.Replace`             | Replaces occurrences of a substring in a text string.                 |\n",
    "| 7️⃣  | `List.Transform`           | Applies a function to each item in a list.                            |\n",
    "| 8️⃣  | `Text.Upper`               | Changing type casting to upper case                                   |\n",
    "| 9️⃣  | `Text.Lower`               | Changing type casting to Lower case                                   |\n",
    "| 🔟   | `Table.Distinct`          | Removes duplicate rows.                                            |\n",
    "\n",
    "\n",
    "</pre></strong>\n"
   ]
  },
  {
   "cell_type": "markdown",
   "id": "17c7ad0d",
   "metadata": {},
   "source": [
    "<pre>Table.SelectRows(table, each condition)\n",
    "\n",
    "For Selecting any rows<pre>"
   ]
  },
  {
   "cell_type": "markdown",
   "id": "a1a95e31",
   "metadata": {},
   "source": [
    "<pre>\n",
    "Table.AddColumn(table, columnName, each expression)\n",
    "\n",
    "For Adding any column </pre>"
   ]
  },
  {
   "cell_type": "markdown",
   "id": "ea79645f",
   "metadata": {},
   "source": [
    "<pre> \n",
    "Table.TransformColumns(table, { {columnName, transformationFunction} })\n",
    "\n",
    "To transform any column"
   ]
  },
  {
   "cell_type": "markdown",
   "id": "b74bed70",
   "metadata": {},
   "source": [
    "<pre>\n",
    "Table.Sort(table, { {columnName, Order.Ascending or Order.Descending} })\n",
    "\n",
    "For Sorting any column </pre>"
   ]
  },
  {
   "cell_type": "markdown",
   "id": "8ab9d6ab",
   "metadata": {},
   "source": [
    "<pre>\n",
    "TablRecord.Field(record, fieldName)\n",
    "\n",
    "For reteriving any record </pre>"
   ]
  },
  {
   "cell_type": "markdown",
   "id": "48a334ed",
   "metadata": {},
   "source": [
    "<pre>\n",
    "Text.Replace(text, oldText, newText)\n",
    "\n",
    "For replacing any text </pre>"
   ]
  },
  {
   "cell_type": "markdown",
   "id": "dd366e96",
   "metadata": {},
   "source": [
    "<pre>\n",
    "List.Transform(list, each expression)\n",
    "\n",
    "For to create a column </pre>"
   ]
  },
  {
   "cell_type": "markdown",
   "id": "6fd70905",
   "metadata": {},
   "source": [
    "<pre>\n",
    "Text.Upper(text)\n",
    "\n",
    "For to upper case any give text </pre>"
   ]
  },
  {
   "cell_type": "markdown",
   "id": "435fdf55",
   "metadata": {},
   "source": [
    "<pre>\n",
    "Text.Lower(text)\n",
    "\n",
    "For to lower case any given text </pre>"
   ]
  },
  {
   "cell_type": "markdown",
   "id": "70e008b2",
   "metadata": {},
   "source": [
    "<pre>\n",
    "Table.Distinct(table)\n",
    "\n",
    "For to remove duplicate rows </pre>"
   ]
  }
 ],
 "metadata": {
  "kernelspec": {
   "display_name": "Python [conda env:base] *",
   "language": "python",
   "name": "conda-base-py"
  },
  "language_info": {
   "codemirror_mode": {
    "name": "ipython",
    "version": 3
   },
   "file_extension": ".py",
   "mimetype": "text/x-python",
   "name": "python",
   "nbconvert_exporter": "python",
   "pygments_lexer": "ipython3",
   "version": "3.12.7"
  }
 },
 "nbformat": 4,
 "nbformat_minor": 5
}
