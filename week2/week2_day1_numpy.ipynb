{
 "cells": [
  {
   "cell_type": "code",
   "execution_count": 3,
   "id": "2bdb2806-2f91-44ef-aeea-ec432e8a9e4e",
   "metadata": {},
   "outputs": [],
   "source": [
    "import numpy as np"
   ]
  },
  {
   "cell_type": "code",
   "execution_count": 4,
   "id": "77fddf3c-d8e8-4511-b5a5-fd09fd77e426",
   "metadata": {},
   "outputs": [],
   "source": [
    "ln = np.array([1,2,3,4,5,6])"
   ]
  },
  {
   "cell_type": "code",
   "execution_count": 5,
   "id": "db03dc5a-a592-4de6-82fa-4bc022efe255",
   "metadata": {},
   "outputs": [],
   "source": [
    "ln = np.zeros((3,2))"
   ]
  },
  {
   "cell_type": "code",
   "execution_count": 6,
   "id": "8767630d-8d68-4e64-bee8-cd401ea45cec",
   "metadata": {},
   "outputs": [],
   "source": [
    "ln = np.ones((3,3))"
   ]
  },
  {
   "cell_type": "code",
   "execution_count": 7,
   "id": "0902fe58-550f-453b-89b1-68ab63508b3b",
   "metadata": {},
   "outputs": [],
   "source": [
    "ln = np.arange(0,101,10)"
   ]
  },
  {
   "cell_type": "code",
   "execution_count": 8,
   "id": "1be1bfd6-fd82-4e09-8ac3-7fdd48e04fc0",
   "metadata": {},
   "outputs": [],
   "source": [
    "#ln = np.where(ln%2==0) "
   ]
  },
  {
   "cell_type": "code",
   "execution_count": 9,
   "id": "f5d9b324-e404-4a7e-89fc-772d54cdd19d",
   "metadata": {},
   "outputs": [],
   "source": [
    "ln = np.linspace(0, 10, 12)"
   ]
  },
  {
   "cell_type": "code",
   "execution_count": 10,
   "id": "3ccaf4ef-ae0e-4e08-b1da-a0365d0afc2c",
   "metadata": {},
   "outputs": [],
   "source": [
    "#for i in ln:\n",
    "#   print(i*2)"
   ]
  },
  {
   "cell_type": "code",
   "execution_count": 11,
   "id": "b8989b11-4c7c-4037-a876-1691a0d237dd",
   "metadata": {},
   "outputs": [],
   "source": [
    "ln = np.eye(4)"
   ]
  },
  {
   "cell_type": "code",
   "execution_count": 12,
   "id": "f3de3b01-eeb5-4c5b-beb9-9166e63779e5",
   "metadata": {},
   "outputs": [
    {
     "name": "stdout",
     "output_type": "stream",
     "text": [
      "[1 2 9 2 5 7 3 5 7 9 1 3]\n",
      "[1 2 9 2 5 7 3 5 7 9 1 3]\n"
     ]
    }
   ],
   "source": [
    "ln = np.array([[1,2,9],[2,5,7],[3,5,7],[9,1,3]])\n",
    "print(ln.ravel())\n",
    "print(ln.flatten())"
   ]
  },
  {
   "cell_type": "code",
   "execution_count": 13,
   "id": "05fd3707-50ce-45b3-a61b-7193c7346526",
   "metadata": {},
   "outputs": [
    {
     "name": "stdout",
     "output_type": "stream",
     "text": [
      "[2 3 4]\n",
      "[0 1 2]\n",
      "[2 4 6]\n",
      "[0.25 0.5  0.75]\n",
      "[4 6 8]\n"
     ]
    }
   ],
   "source": [
    "ln = np.array([1,2,3])\n",
    "an = np.array([3,4,5])\n",
    "print(ln+1)\n",
    "print(ln-1)\n",
    "print(ln*2)\n",
    "print(ln/4)\n",
    "print(ln+an)"
   ]
  },
  {
   "cell_type": "code",
   "execution_count": 14,
   "id": "36a8da60-7c07-47ed-be11-bef6f501df6c",
   "metadata": {},
   "outputs": [
    {
     "name": "stdout",
     "output_type": "stream",
     "text": [
      "[False False False False  True]\n",
      "[5]\n"
     ]
    }
   ],
   "source": [
    "ln = np.array([0,0,3,0,5])\n",
    "mask = ln > 3\n",
    "print(mask)\n",
    "print(ln[mask])"
   ]
  },
  {
   "cell_type": "code",
   "execution_count": 15,
   "id": "c2c22e55-bfdd-433f-9039-372387b04668",
   "metadata": {},
   "outputs": [
    {
     "ename": "IndexError",
     "evalue": "too many indices for array: array is 1-dimensional, but 2 were indexed",
     "output_type": "error",
     "traceback": [
      "\u001b[1;31m---------------------------------------------------------------------------\u001b[0m",
      "\u001b[1;31mIndexError\u001b[0m                                Traceback (most recent call last)",
      "Cell \u001b[1;32mIn[15], line 1\u001b[0m\n\u001b[1;32m----> 1\u001b[0m \u001b[38;5;28mprint\u001b[39m(ln[\u001b[38;5;241m0\u001b[39m,\u001b[38;5;241m1\u001b[39m])\n",
      "\u001b[1;31mIndexError\u001b[0m: too many indices for array: array is 1-dimensional, but 2 were indexed"
     ]
    }
   ],
   "source": [
    "print(ln[0,1])"
   ]
  },
  {
   "cell_type": "code",
   "execution_count": null,
   "id": "a3f8d4c8-cf97-49a6-9b66-bb9097485393",
   "metadata": {},
   "outputs": [],
   "source": []
  },
  {
   "cell_type": "code",
   "execution_count": null,
   "id": "88c41837",
   "metadata": {},
   "outputs": [],
   "source": []
  },
  {
   "cell_type": "code",
   "execution_count": null,
   "id": "ee6c2972",
   "metadata": {},
   "outputs": [],
   "source": []
  }
 ],
 "metadata": {
  "kernelspec": {
   "display_name": "base",
   "language": "python",
   "name": "python3"
  },
  "language_info": {
   "codemirror_mode": {
    "name": "ipython",
    "version": 3
   },
   "file_extension": ".py",
   "mimetype": "text/x-python",
   "name": "python",
   "nbconvert_exporter": "python",
   "pygments_lexer": "ipython3",
   "version": "3.12.7"
  }
 },
 "nbformat": 4,
 "nbformat_minor": 5
}
