{
 "cells": [
  {
   "cell_type": "code",
   "execution_count": 1,
   "id": "cf84e8ed-6615-46a3-99ab-e75b46d3ac8d",
   "metadata": {},
   "outputs": [],
   "source": [
    "import pandas as pd"
   ]
  },
  {
   "cell_type": "code",
   "execution_count": 2,
   "id": "8161441c",
   "metadata": {},
   "outputs": [],
   "source": [
    "dfexcel = pd.read_excel('C:\\\\Users\\\\Home\\\\Downloads\\\\Documents\\\\SampleData.xlsx')"
   ]
  },
  {
   "cell_type": "code",
   "execution_count": 4,
   "id": "3cff2f36",
   "metadata": {},
   "outputs": [
    {
     "name": "stdout",
     "output_type": "stream",
     "text": [
      "   PassengerId  Survived  Pclass  \\\n",
      "0            1         0       3   \n",
      "1            2         1       1   \n",
      "2            3         1       3   \n",
      "3            4         1       1   \n",
      "4            5         0       3   \n",
      "5            6         0       3   \n",
      "6            7         0       1   \n",
      "7            8         0       3   \n",
      "8            9         1       3   \n",
      "9           10         1       2   \n",
      "\n",
      "                                                Name     Sex   Age  SibSp  \\\n",
      "0                            Braund, Mr. Owen Harris    male  22.0      1   \n",
      "1  Cumings, Mrs. John Bradley (Florence Briggs Th...  female  38.0      1   \n",
      "2                             Heikkinen, Miss. Laina  female  26.0      0   \n",
      "3       Futrelle, Mrs. Jacques Heath (Lily May Peel)  female  35.0      1   \n",
      "4                           Allen, Mr. William Henry    male  35.0      0   \n",
      "5                                   Moran, Mr. James    male   NaN      0   \n",
      "6                            McCarthy, Mr. Timothy J    male  54.0      0   \n",
      "7                     Palsson, Master. Gosta Leonard    male   2.0      3   \n",
      "8  Johnson, Mrs. Oscar W (Elisabeth Vilhelmina Berg)  female  27.0      0   \n",
      "9                Nasser, Mrs. Nicholas (Adele Achem)  female  14.0      1   \n",
      "\n",
      "   Parch            Ticket     Fare  ... Unnamed: 16 Unnamed: 17  Unnamed: 18  \\\n",
      "0      0         A/5 21171   7.2500  ...         NaN         NaN          NaN   \n",
      "1      0          PC 17599  71.2833  ...         NaN         NaN          NaN   \n",
      "2      0  STON/O2. 3101282   7.9250  ...         NaN         NaN          NaN   \n",
      "3      0            113803  53.1000  ...         NaN         NaN          NaN   \n",
      "4      0            373450   8.0500  ...         NaN         NaN          NaN   \n",
      "5      0            330877   8.4583  ...         NaN         NaN          NaN   \n",
      "6      0             17463  51.8625  ...         NaN         NaN          NaN   \n",
      "7      1            349909  21.0750  ...         NaN         NaN          NaN   \n",
      "8      2            347742  11.1333  ...         NaN         NaN          NaN   \n",
      "9      0            237736  30.0708  ...         NaN         NaN          NaN   \n",
      "\n",
      "   Unnamed: 19  Unnamed: 20  Unnamed: 21  Unnamed: 22  Unnamed: 23  \\\n",
      "0          NaN          NaN          NaN          NaN          NaN   \n",
      "1          NaN          NaN          NaN          NaN          NaN   \n",
      "2          NaN          NaN          NaN          NaN          NaN   \n",
      "3          NaN          NaN          NaN          NaN          NaN   \n",
      "4          NaN          NaN          NaN          NaN          NaN   \n",
      "5          NaN          NaN          NaN          NaN          NaN   \n",
      "6          NaN          NaN          NaN          NaN          NaN   \n",
      "7          NaN          NaN          NaN          NaN          NaN   \n",
      "8          NaN          NaN          NaN          NaN          NaN   \n",
      "9          NaN          NaN          NaN          NaN          NaN   \n",
      "\n",
      "   Unnamed: 24  Unnamed: 25  \n",
      "0          NaN          NaN  \n",
      "1          NaN          NaN  \n",
      "2          NaN          NaN  \n",
      "3          NaN          NaN  \n",
      "4          NaN           We  \n",
      "5          NaN          NaN  \n",
      "6          NaN          NaN  \n",
      "7          NaN          NaN  \n",
      "8          NaN          NaN  \n",
      "9          NaN          NaN  \n",
      "\n",
      "[10 rows x 26 columns]\n"
     ]
    }
   ],
   "source": [
    "print(dfexcel.head(10))"
   ]
  },
  {
   "cell_type": "code",
   "execution_count": 7,
   "id": "7d823f54",
   "metadata": {},
   "outputs": [
    {
     "data": {
      "text/html": [
       "<div>\n",
       "<style scoped>\n",
       "    .dataframe tbody tr th:only-of-type {\n",
       "        vertical-align: middle;\n",
       "    }\n",
       "\n",
       "    .dataframe tbody tr th {\n",
       "        vertical-align: top;\n",
       "    }\n",
       "\n",
       "    .dataframe thead th {\n",
       "        text-align: right;\n",
       "    }\n",
       "</style>\n",
       "<table border=\"1\" class=\"dataframe\">\n",
       "  <thead>\n",
       "    <tr style=\"text-align: right;\">\n",
       "      <th></th>\n",
       "      <th>PassengerId</th>\n",
       "      <th>Survived</th>\n",
       "      <th>Pclass</th>\n",
       "      <th>Name</th>\n",
       "      <th>Sex</th>\n",
       "      <th>Age</th>\n",
       "      <th>SibSp</th>\n",
       "      <th>Parch</th>\n",
       "      <th>Ticket</th>\n",
       "      <th>Fare</th>\n",
       "      <th>...</th>\n",
       "      <th>Unnamed: 16</th>\n",
       "      <th>Unnamed: 17</th>\n",
       "      <th>Unnamed: 18</th>\n",
       "      <th>Unnamed: 19</th>\n",
       "      <th>Unnamed: 20</th>\n",
       "      <th>Unnamed: 21</th>\n",
       "      <th>Unnamed: 22</th>\n",
       "      <th>Unnamed: 23</th>\n",
       "      <th>Unnamed: 24</th>\n",
       "      <th>Unnamed: 25</th>\n",
       "    </tr>\n",
       "  </thead>\n",
       "  <tbody>\n",
       "    <tr>\n",
       "      <th>271</th>\n",
       "      <td>272</td>\n",
       "      <td>1</td>\n",
       "      <td>3</td>\n",
       "      <td>Tornquist, Mr. William Henry</td>\n",
       "      <td>male</td>\n",
       "      <td>25.0</td>\n",
       "      <td>0</td>\n",
       "      <td>0</td>\n",
       "      <td>LINE</td>\n",
       "      <td>0.0</td>\n",
       "      <td>...</td>\n",
       "      <td>NaN</td>\n",
       "      <td>NaN</td>\n",
       "      <td>NaN</td>\n",
       "      <td>NaN</td>\n",
       "      <td>NaN</td>\n",
       "      <td>NaN</td>\n",
       "      <td>NaN</td>\n",
       "      <td>NaN</td>\n",
       "      <td>NaN</td>\n",
       "      <td>NaN</td>\n",
       "    </tr>\n",
       "    <tr>\n",
       "      <th>597</th>\n",
       "      <td>598</td>\n",
       "      <td>0</td>\n",
       "      <td>3</td>\n",
       "      <td>Johnson, Mr. Alfred</td>\n",
       "      <td>male</td>\n",
       "      <td>49.0</td>\n",
       "      <td>0</td>\n",
       "      <td>0</td>\n",
       "      <td>LINE</td>\n",
       "      <td>0.0</td>\n",
       "      <td>...</td>\n",
       "      <td>NaN</td>\n",
       "      <td>NaN</td>\n",
       "      <td>NaN</td>\n",
       "      <td>NaN</td>\n",
       "      <td>NaN</td>\n",
       "      <td>NaN</td>\n",
       "      <td>NaN</td>\n",
       "      <td>NaN</td>\n",
       "      <td>NaN</td>\n",
       "      <td>NaN</td>\n",
       "    </tr>\n",
       "    <tr>\n",
       "      <th>302</th>\n",
       "      <td>303</td>\n",
       "      <td>0</td>\n",
       "      <td>3</td>\n",
       "      <td>Johnson, Mr. William Cahoone Jr</td>\n",
       "      <td>male</td>\n",
       "      <td>19.0</td>\n",
       "      <td>0</td>\n",
       "      <td>0</td>\n",
       "      <td>LINE</td>\n",
       "      <td>0.0</td>\n",
       "      <td>...</td>\n",
       "      <td>NaN</td>\n",
       "      <td>NaN</td>\n",
       "      <td>NaN</td>\n",
       "      <td>NaN</td>\n",
       "      <td>NaN</td>\n",
       "      <td>NaN</td>\n",
       "      <td>NaN</td>\n",
       "      <td>NaN</td>\n",
       "      <td>NaN</td>\n",
       "      <td>NaN</td>\n",
       "    </tr>\n",
       "    <tr>\n",
       "      <th>633</th>\n",
       "      <td>634</td>\n",
       "      <td>0</td>\n",
       "      <td>1</td>\n",
       "      <td>Parr, Mr. William Henry Marsh</td>\n",
       "      <td>male</td>\n",
       "      <td>NaN</td>\n",
       "      <td>0</td>\n",
       "      <td>0</td>\n",
       "      <td>112052</td>\n",
       "      <td>0.0</td>\n",
       "      <td>...</td>\n",
       "      <td>NaN</td>\n",
       "      <td>NaN</td>\n",
       "      <td>NaN</td>\n",
       "      <td>NaN</td>\n",
       "      <td>NaN</td>\n",
       "      <td>NaN</td>\n",
       "      <td>NaN</td>\n",
       "      <td>NaN</td>\n",
       "      <td>NaN</td>\n",
       "      <td>NaN</td>\n",
       "    </tr>\n",
       "    <tr>\n",
       "      <th>277</th>\n",
       "      <td>278</td>\n",
       "      <td>0</td>\n",
       "      <td>2</td>\n",
       "      <td>Parkes, Mr. Francis \"Frank\"</td>\n",
       "      <td>male</td>\n",
       "      <td>NaN</td>\n",
       "      <td>0</td>\n",
       "      <td>0</td>\n",
       "      <td>239853</td>\n",
       "      <td>0.0</td>\n",
       "      <td>...</td>\n",
       "      <td>NaN</td>\n",
       "      <td>NaN</td>\n",
       "      <td>NaN</td>\n",
       "      <td>NaN</td>\n",
       "      <td>NaN</td>\n",
       "      <td>NaN</td>\n",
       "      <td>NaN</td>\n",
       "      <td>NaN</td>\n",
       "      <td>NaN</td>\n",
       "      <td>NaN</td>\n",
       "    </tr>\n",
       "    <tr>\n",
       "      <th>413</th>\n",
       "      <td>414</td>\n",
       "      <td>0</td>\n",
       "      <td>2</td>\n",
       "      <td>Cunningham, Mr. Alfred Fleming</td>\n",
       "      <td>male</td>\n",
       "      <td>NaN</td>\n",
       "      <td>0</td>\n",
       "      <td>0</td>\n",
       "      <td>239853</td>\n",
       "      <td>0.0</td>\n",
       "      <td>...</td>\n",
       "      <td>NaN</td>\n",
       "      <td>NaN</td>\n",
       "      <td>NaN</td>\n",
       "      <td>NaN</td>\n",
       "      <td>NaN</td>\n",
       "      <td>NaN</td>\n",
       "      <td>NaN</td>\n",
       "      <td>NaN</td>\n",
       "      <td>NaN</td>\n",
       "      <td>NaN</td>\n",
       "    </tr>\n",
       "    <tr>\n",
       "      <th>674</th>\n",
       "      <td>675</td>\n",
       "      <td>0</td>\n",
       "      <td>2</td>\n",
       "      <td>Watson, Mr. Ennis Hastings</td>\n",
       "      <td>male</td>\n",
       "      <td>NaN</td>\n",
       "      <td>0</td>\n",
       "      <td>0</td>\n",
       "      <td>239856</td>\n",
       "      <td>0.0</td>\n",
       "      <td>...</td>\n",
       "      <td>NaN</td>\n",
       "      <td>NaN</td>\n",
       "      <td>NaN</td>\n",
       "      <td>NaN</td>\n",
       "      <td>NaN</td>\n",
       "      <td>NaN</td>\n",
       "      <td>NaN</td>\n",
       "      <td>NaN</td>\n",
       "      <td>NaN</td>\n",
       "      <td>NaN</td>\n",
       "    </tr>\n",
       "    <tr>\n",
       "      <th>263</th>\n",
       "      <td>264</td>\n",
       "      <td>0</td>\n",
       "      <td>1</td>\n",
       "      <td>Harrison, Mr. William</td>\n",
       "      <td>male</td>\n",
       "      <td>40.0</td>\n",
       "      <td>0</td>\n",
       "      <td>0</td>\n",
       "      <td>112059</td>\n",
       "      <td>0.0</td>\n",
       "      <td>...</td>\n",
       "      <td>NaN</td>\n",
       "      <td>NaN</td>\n",
       "      <td>NaN</td>\n",
       "      <td>NaN</td>\n",
       "      <td>NaN</td>\n",
       "      <td>NaN</td>\n",
       "      <td>NaN</td>\n",
       "      <td>NaN</td>\n",
       "      <td>NaN</td>\n",
       "      <td>NaN</td>\n",
       "    </tr>\n",
       "    <tr>\n",
       "      <th>466</th>\n",
       "      <td>467</td>\n",
       "      <td>0</td>\n",
       "      <td>2</td>\n",
       "      <td>Campbell, Mr. William</td>\n",
       "      <td>male</td>\n",
       "      <td>NaN</td>\n",
       "      <td>0</td>\n",
       "      <td>0</td>\n",
       "      <td>239853</td>\n",
       "      <td>0.0</td>\n",
       "      <td>...</td>\n",
       "      <td>NaN</td>\n",
       "      <td>NaN</td>\n",
       "      <td>NaN</td>\n",
       "      <td>NaN</td>\n",
       "      <td>NaN</td>\n",
       "      <td>NaN</td>\n",
       "      <td>NaN</td>\n",
       "      <td>NaN</td>\n",
       "      <td>NaN</td>\n",
       "      <td>NaN</td>\n",
       "    </tr>\n",
       "    <tr>\n",
       "      <th>732</th>\n",
       "      <td>733</td>\n",
       "      <td>0</td>\n",
       "      <td>2</td>\n",
       "      <td>Knight, Mr. Robert J</td>\n",
       "      <td>male</td>\n",
       "      <td>NaN</td>\n",
       "      <td>0</td>\n",
       "      <td>0</td>\n",
       "      <td>239855</td>\n",
       "      <td>0.0</td>\n",
       "      <td>...</td>\n",
       "      <td>NaN</td>\n",
       "      <td>NaN</td>\n",
       "      <td>NaN</td>\n",
       "      <td>NaN</td>\n",
       "      <td>NaN</td>\n",
       "      <td>NaN</td>\n",
       "      <td>NaN</td>\n",
       "      <td>NaN</td>\n",
       "      <td>NaN</td>\n",
       "      <td>NaN</td>\n",
       "    </tr>\n",
       "  </tbody>\n",
       "</table>\n",
       "<p>10 rows × 26 columns</p>\n",
       "</div>"
      ],
      "text/plain": [
       "     PassengerId  Survived  Pclass                             Name   Sex  \\\n",
       "271          272         1       3     Tornquist, Mr. William Henry  male   \n",
       "597          598         0       3              Johnson, Mr. Alfred  male   \n",
       "302          303         0       3  Johnson, Mr. William Cahoone Jr  male   \n",
       "633          634         0       1    Parr, Mr. William Henry Marsh  male   \n",
       "277          278         0       2      Parkes, Mr. Francis \"Frank\"  male   \n",
       "413          414         0       2   Cunningham, Mr. Alfred Fleming  male   \n",
       "674          675         0       2       Watson, Mr. Ennis Hastings  male   \n",
       "263          264         0       1            Harrison, Mr. William  male   \n",
       "466          467         0       2            Campbell, Mr. William  male   \n",
       "732          733         0       2             Knight, Mr. Robert J  male   \n",
       "\n",
       "      Age  SibSp  Parch  Ticket  Fare  ... Unnamed: 16 Unnamed: 17  \\\n",
       "271  25.0      0      0    LINE   0.0  ...         NaN         NaN   \n",
       "597  49.0      0      0    LINE   0.0  ...         NaN         NaN   \n",
       "302  19.0      0      0    LINE   0.0  ...         NaN         NaN   \n",
       "633   NaN      0      0  112052   0.0  ...         NaN         NaN   \n",
       "277   NaN      0      0  239853   0.0  ...         NaN         NaN   \n",
       "413   NaN      0      0  239853   0.0  ...         NaN         NaN   \n",
       "674   NaN      0      0  239856   0.0  ...         NaN         NaN   \n",
       "263  40.0      0      0  112059   0.0  ...         NaN         NaN   \n",
       "466   NaN      0      0  239853   0.0  ...         NaN         NaN   \n",
       "732   NaN      0      0  239855   0.0  ...         NaN         NaN   \n",
       "\n",
       "     Unnamed: 18  Unnamed: 19  Unnamed: 20  Unnamed: 21  Unnamed: 22  \\\n",
       "271          NaN          NaN          NaN          NaN          NaN   \n",
       "597          NaN          NaN          NaN          NaN          NaN   \n",
       "302          NaN          NaN          NaN          NaN          NaN   \n",
       "633          NaN          NaN          NaN          NaN          NaN   \n",
       "277          NaN          NaN          NaN          NaN          NaN   \n",
       "413          NaN          NaN          NaN          NaN          NaN   \n",
       "674          NaN          NaN          NaN          NaN          NaN   \n",
       "263          NaN          NaN          NaN          NaN          NaN   \n",
       "466          NaN          NaN          NaN          NaN          NaN   \n",
       "732          NaN          NaN          NaN          NaN          NaN   \n",
       "\n",
       "     Unnamed: 23  Unnamed: 24  Unnamed: 25  \n",
       "271          NaN          NaN          NaN  \n",
       "597          NaN          NaN          NaN  \n",
       "302          NaN          NaN          NaN  \n",
       "633          NaN          NaN          NaN  \n",
       "277          NaN          NaN          NaN  \n",
       "413          NaN          NaN          NaN  \n",
       "674          NaN          NaN          NaN  \n",
       "263          NaN          NaN          NaN  \n",
       "466          NaN          NaN          NaN  \n",
       "732          NaN          NaN          NaN  \n",
       "\n",
       "[10 rows x 26 columns]"
      ]
     },
     "execution_count": 7,
     "metadata": {},
     "output_type": "execute_result"
    }
   ],
   "source": [
    "dfexcel.sort_values(by='Fare').head(10)"
   ]
  },
  {
   "cell_type": "code",
   "execution_count": 8,
   "id": "e6c7f17f",
   "metadata": {},
   "outputs": [
    {
     "data": {
      "text/plain": [
       "Sex\n",
       "female    13966.6628\n",
       "male      14727.2865\n",
       "Name: Fare, dtype: float64"
      ]
     },
     "execution_count": 8,
     "metadata": {},
     "output_type": "execute_result"
    }
   ],
   "source": [
    "dfexcel.groupby(\"Sex\")[\"Fare\"].sum()"
   ]
  },
  {
   "cell_type": "code",
   "execution_count": 14,
   "id": "b980415e",
   "metadata": {},
   "outputs": [
    {
     "data": {
      "text/plain": [
       "Sex\n",
       "female    314\n",
       "male      577\n",
       "dtype: int64"
      ]
     },
     "execution_count": 14,
     "metadata": {},
     "output_type": "execute_result"
    }
   ],
   "source": [
    "dfexcel.groupby(\"Sex\").size()"
   ]
  },
  {
   "cell_type": "code",
   "execution_count": 16,
   "id": "bbc1e464",
   "metadata": {},
   "outputs": [
    {
     "name": "stdout",
     "output_type": "stream",
     "text": [
      "<class 'pandas.core.frame.DataFrame'>\n",
      "RangeIndex: 891 entries, 0 to 890\n",
      "Data columns (total 26 columns):\n",
      " #   Column       Non-Null Count  Dtype  \n",
      "---  ------       --------------  -----  \n",
      " 0   PassengerId  891 non-null    int64  \n",
      " 1   Survived     891 non-null    int64  \n",
      " 2   Pclass       891 non-null    int64  \n",
      " 3   Name         891 non-null    object \n",
      " 4   Sex          891 non-null    object \n",
      " 5   Age          714 non-null    float64\n",
      " 6   SibSp        891 non-null    int64  \n",
      " 7   Parch        891 non-null    int64  \n",
      " 8   Ticket       891 non-null    object \n",
      " 9   Fare         891 non-null    float64\n",
      " 10  Cabin        204 non-null    object \n",
      " 11  Embarked     889 non-null    object \n",
      " 12  Unnamed: 12  0 non-null      float64\n",
      " 13  Unnamed: 13  0 non-null      float64\n",
      " 14  Unnamed: 14  0 non-null      float64\n",
      " 15  Unnamed: 15  0 non-null      float64\n",
      " 16  Unnamed: 16  0 non-null      float64\n",
      " 17  Unnamed: 17  0 non-null      float64\n",
      " 18  Unnamed: 18  0 non-null      float64\n",
      " 19  Unnamed: 19  0 non-null      float64\n",
      " 20  Unnamed: 20  0 non-null      float64\n",
      " 21  Unnamed: 21  0 non-null      float64\n",
      " 22  Unnamed: 22  0 non-null      float64\n",
      " 23  Unnamed: 23  0 non-null      float64\n",
      " 24  Unnamed: 24  0 non-null      float64\n",
      " 25  Unnamed: 25  2 non-null      object \n",
      "dtypes: float64(15), int64(5), object(6)\n",
      "memory usage: 181.1+ KB\n"
     ]
    }
   ],
   "source": [
    "dfexcel.info()"
   ]
  },
  {
   "cell_type": "code",
   "execution_count": 17,
   "id": "b1491602",
   "metadata": {},
   "outputs": [],
   "source": [
    "dfexcel['Fare'] = dfexcel['Fare'].astype(int)"
   ]
  },
  {
   "cell_type": "code",
   "execution_count": 18,
   "id": "109d30ca",
   "metadata": {},
   "outputs": [
    {
     "name": "stdout",
     "output_type": "stream",
     "text": [
      "0       7\n",
      "1      71\n",
      "2       7\n",
      "3      53\n",
      "4       8\n",
      "       ..\n",
      "886    13\n",
      "887    30\n",
      "888    23\n",
      "889    30\n",
      "890     7\n",
      "Name: Fare, Length: 891, dtype: int32\n"
     ]
    }
   ],
   "source": [
    "print(dfexcel['Fare'])"
   ]
  },
  {
   "cell_type": "code",
   "execution_count": 22,
   "id": "bfcdf202",
   "metadata": {},
   "outputs": [
    {
     "data": {
      "text/plain": [
       "177"
      ]
     },
     "execution_count": 22,
     "metadata": {},
     "output_type": "execute_result"
    }
   ],
   "source": [
    "dfexcel['Age'].isnull().sum()"
   ]
  },
  {
   "cell_type": "code",
   "execution_count": 23,
   "id": "7c487c4f",
   "metadata": {},
   "outputs": [
    {
     "name": "stderr",
     "output_type": "stream",
     "text": [
      "C:\\Users\\Home\\AppData\\Local\\Temp\\ipykernel_23324\\3876551338.py:1: FutureWarning: A value is trying to be set on a copy of a DataFrame or Series through chained assignment using an inplace method.\n",
      "The behavior will change in pandas 3.0. This inplace method will never work because the intermediate object on which we are setting values always behaves as a copy.\n",
      "\n",
      "For example, when doing 'df[col].method(value, inplace=True)', try using 'df.method({col: value}, inplace=True)' or df[col] = df[col].method(value) instead, to perform the operation inplace on the original object.\n",
      "\n",
      "\n",
      "  dfexcel[\"Age\"].fillna(dfexcel[\"Age\"].mean(),inplace=True)\n"
     ]
    }
   ],
   "source": [
    "dfexcel[\"Age\"].fillna(dfexcel[\"Age\"].mean(),inplace=True)"
   ]
  },
  {
   "cell_type": "code",
   "execution_count": 24,
   "id": "bc9f8adb",
   "metadata": {},
   "outputs": [
    {
     "data": {
      "text/plain": [
       "0"
      ]
     },
     "execution_count": 24,
     "metadata": {},
     "output_type": "execute_result"
    }
   ],
   "source": [
    "dfexcel['Age'].isnull().sum()"
   ]
  },
  {
   "cell_type": "code",
   "execution_count": 25,
   "id": "b4c65cdd",
   "metadata": {},
   "outputs": [],
   "source": [
    "dfexcel.rename(columns={\"Sex\":\"Gender\",\"Fare\":\"Price\"},inplace=True)"
   ]
  },
  {
   "cell_type": "code",
   "execution_count": 26,
   "id": "32bff7bd",
   "metadata": {},
   "outputs": [
    {
     "name": "stdout",
     "output_type": "stream",
     "text": [
      "   PassengerId  Survived  Pclass  \\\n",
      "0            1         0       3   \n",
      "1            2         1       1   \n",
      "2            3         1       3   \n",
      "3            4         1       1   \n",
      "4            5         0       3   \n",
      "5            6         0       3   \n",
      "6            7         0       1   \n",
      "7            8         0       3   \n",
      "8            9         1       3   \n",
      "9           10         1       2   \n",
      "\n",
      "                                                Name  Gender        Age  \\\n",
      "0                            Braund, Mr. Owen Harris    male  22.000000   \n",
      "1  Cumings, Mrs. John Bradley (Florence Briggs Th...  female  38.000000   \n",
      "2                             Heikkinen, Miss. Laina  female  26.000000   \n",
      "3       Futrelle, Mrs. Jacques Heath (Lily May Peel)  female  35.000000   \n",
      "4                           Allen, Mr. William Henry    male  35.000000   \n",
      "5                                   Moran, Mr. James    male  29.699118   \n",
      "6                            McCarthy, Mr. Timothy J    male  54.000000   \n",
      "7                     Palsson, Master. Gosta Leonard    male   2.000000   \n",
      "8  Johnson, Mrs. Oscar W (Elisabeth Vilhelmina Berg)  female  27.000000   \n",
      "9                Nasser, Mrs. Nicholas (Adele Achem)  female  14.000000   \n",
      "\n",
      "   SibSp  Parch            Ticket  Price  ... Unnamed: 16 Unnamed: 17  \\\n",
      "0      1      0         A/5 21171      7  ...         NaN         NaN   \n",
      "1      1      0          PC 17599     71  ...         NaN         NaN   \n",
      "2      0      0  STON/O2. 3101282      7  ...         NaN         NaN   \n",
      "3      1      0            113803     53  ...         NaN         NaN   \n",
      "4      0      0            373450      8  ...         NaN         NaN   \n",
      "5      0      0            330877      8  ...         NaN         NaN   \n",
      "6      0      0             17463     51  ...         NaN         NaN   \n",
      "7      3      1            349909     21  ...         NaN         NaN   \n",
      "8      0      2            347742     11  ...         NaN         NaN   \n",
      "9      1      0            237736     30  ...         NaN         NaN   \n",
      "\n",
      "   Unnamed: 18  Unnamed: 19  Unnamed: 20  Unnamed: 21  Unnamed: 22  \\\n",
      "0          NaN          NaN          NaN          NaN          NaN   \n",
      "1          NaN          NaN          NaN          NaN          NaN   \n",
      "2          NaN          NaN          NaN          NaN          NaN   \n",
      "3          NaN          NaN          NaN          NaN          NaN   \n",
      "4          NaN          NaN          NaN          NaN          NaN   \n",
      "5          NaN          NaN          NaN          NaN          NaN   \n",
      "6          NaN          NaN          NaN          NaN          NaN   \n",
      "7          NaN          NaN          NaN          NaN          NaN   \n",
      "8          NaN          NaN          NaN          NaN          NaN   \n",
      "9          NaN          NaN          NaN          NaN          NaN   \n",
      "\n",
      "   Unnamed: 23  Unnamed: 24  Unnamed: 25  \n",
      "0          NaN          NaN          NaN  \n",
      "1          NaN          NaN          NaN  \n",
      "2          NaN          NaN          NaN  \n",
      "3          NaN          NaN          NaN  \n",
      "4          NaN          NaN           We  \n",
      "5          NaN          NaN          NaN  \n",
      "6          NaN          NaN          NaN  \n",
      "7          NaN          NaN          NaN  \n",
      "8          NaN          NaN          NaN  \n",
      "9          NaN          NaN          NaN  \n",
      "\n",
      "[10 rows x 26 columns]\n"
     ]
    }
   ],
   "source": [
    "print(dfexcel.head(10))"
   ]
  },
  {
   "cell_type": "code",
   "execution_count": 27,
   "id": "f516f5d8",
   "metadata": {},
   "outputs": [],
   "source": [
    "df1 = pd.DataFrame({\n",
    "    'ID': [101, 102, 103],\n",
    "    'Name': ['Alice', 'Bob', 'Charlie'],\n",
    "    'Dept': ['HR', 'IT', 'Finance']\n",
    "})\n",
    "\n",
    "df2 = pd.DataFrame({\n",
    "    'ID': [102, 103, 104],\n",
    "    'Salary': [50000, 60000, 70000]\n",
    "})"
   ]
  },
  {
   "cell_type": "code",
   "execution_count": 28,
   "id": "0d079098",
   "metadata": {},
   "outputs": [
    {
     "name": "stdout",
     "output_type": "stream",
     "text": [
      "    ID     Name     Dept\n",
      "0  101    Alice       HR\n",
      "1  102      Bob       IT\n",
      "2  103  Charlie  Finance\n",
      "    ID  Salary\n",
      "0  102   50000\n",
      "1  103   60000\n",
      "2  104   70000\n"
     ]
    }
   ],
   "source": [
    "print(df1)\n",
    "print(df2)"
   ]
  },
  {
   "cell_type": "code",
   "execution_count": 31,
   "id": "56573d24",
   "metadata": {},
   "outputs": [
    {
     "name": "stdout",
     "output_type": "stream",
     "text": [
      "    ID     Name     Dept   Salary\n",
      "0  101    Alice       HR      NaN\n",
      "1  102      Bob       IT      NaN\n",
      "2  103  Charlie  Finance      NaN\n",
      "0  102      NaN      NaN  50000.0\n",
      "1  103      NaN      NaN  60000.0\n",
      "2  104      NaN      NaN  70000.0\n"
     ]
    }
   ],
   "source": [
    "dfconcat = pd.concat([df1,df2],axis=0)\n",
    "print(dfconcat)"
   ]
  },
  {
   "cell_type": "code",
   "execution_count": 33,
   "id": "10f33c81",
   "metadata": {},
   "outputs": [
    {
     "name": "stdout",
     "output_type": "stream",
     "text": [
      "    ID     Name     Dept  Salary\n",
      "0  102      Bob       IT   50000\n",
      "1  103  Charlie  Finance   60000\n"
     ]
    }
   ],
   "source": [
    "dfmerge = pd.merge(df1,df2,on=\"ID\")\n",
    "print(dfmerge)"
   ]
  },
  {
   "cell_type": "code",
   "execution_count": 34,
   "id": "91023da4",
   "metadata": {},
   "outputs": [
    {
     "name": "stdout",
     "output_type": "stream",
     "text": [
      "    ID     Name     Dept   Salary\n",
      "0  101    Alice       HR      NaN\n",
      "1  102      Bob       IT  50000.0\n",
      "2  103  Charlie  Finance  60000.0\n"
     ]
    }
   ],
   "source": [
    "dfmerge = pd.merge(df1,df2,how=\"left\")\n",
    "print(dfmerge)"
   ]
  },
  {
   "cell_type": "code",
   "execution_count": 35,
   "id": "90ba1c1a",
   "metadata": {},
   "outputs": [
    {
     "name": "stdout",
     "output_type": "stream",
     "text": [
      "    ID     Name     Dept  Salary\n",
      "0  102      Bob       IT   50000\n",
      "1  103  Charlie  Finance   60000\n",
      "2  104      NaN      NaN   70000\n"
     ]
    }
   ],
   "source": [
    "dfmerge = pd.merge(df1,df2,how=\"right\")\n",
    "print(dfmerge)"
   ]
  },
  {
   "cell_type": "code",
   "execution_count": 36,
   "id": "eaade96e",
   "metadata": {},
   "outputs": [
    {
     "name": "stdout",
     "output_type": "stream",
     "text": [
      "    ID     Name     Dept  Salary\n",
      "0  102      Bob       IT   50000\n",
      "1  103  Charlie  Finance   60000\n"
     ]
    }
   ],
   "source": [
    "dfmerge = pd.merge(df1,df2,how=\"inner\")\n",
    "print(dfmerge)"
   ]
  },
  {
   "cell_type": "code",
   "execution_count": 37,
   "id": "c8e3abd5",
   "metadata": {},
   "outputs": [
    {
     "name": "stdout",
     "output_type": "stream",
     "text": [
      "    ID     Name     Dept   Salary\n",
      "0  101    Alice       HR      NaN\n",
      "1  102      Bob       IT  50000.0\n",
      "2  103  Charlie  Finance  60000.0\n",
      "3  104      NaN      NaN  70000.0\n"
     ]
    }
   ],
   "source": [
    "dfmerge = pd.merge(df1,df2,how=\"outer\")\n",
    "print(dfmerge)"
   ]
  },
  {
   "cell_type": "code",
   "execution_count": 42,
   "id": "a2ee285a",
   "metadata": {},
   "outputs": [
    {
     "ename": "ValueError",
     "evalue": "columns overlap but no suffix specified: Index(['ID'], dtype='object')",
     "output_type": "error",
     "traceback": [
      "\u001b[1;31m---------------------------------------------------------------------------\u001b[0m",
      "\u001b[1;31mValueError\u001b[0m                                Traceback (most recent call last)",
      "Cell \u001b[1;32mIn[42], line 1\u001b[0m\n\u001b[1;32m----> 1\u001b[0m df1\u001b[38;5;241m.\u001b[39mjoin(df2, how\u001b[38;5;241m=\u001b[39m\u001b[38;5;124m'\u001b[39m\u001b[38;5;124mleft\u001b[39m\u001b[38;5;124m'\u001b[39m)\n",
      "File \u001b[1;32mc:\\Users\\Home\\anaconda3\\Lib\\site-packages\\pandas\\core\\frame.py:10757\u001b[0m, in \u001b[0;36mDataFrame.join\u001b[1;34m(self, other, on, how, lsuffix, rsuffix, sort, validate)\u001b[0m\n\u001b[0;32m  10747\u001b[0m     \u001b[38;5;28;01mif\u001b[39;00m how \u001b[38;5;241m==\u001b[39m \u001b[38;5;124m\"\u001b[39m\u001b[38;5;124mcross\u001b[39m\u001b[38;5;124m\"\u001b[39m:\n\u001b[0;32m  10748\u001b[0m         \u001b[38;5;28;01mreturn\u001b[39;00m merge(\n\u001b[0;32m  10749\u001b[0m             \u001b[38;5;28mself\u001b[39m,\n\u001b[0;32m  10750\u001b[0m             other,\n\u001b[1;32m   (...)\u001b[0m\n\u001b[0;32m  10755\u001b[0m             validate\u001b[38;5;241m=\u001b[39mvalidate,\n\u001b[0;32m  10756\u001b[0m         )\n\u001b[1;32m> 10757\u001b[0m     \u001b[38;5;28;01mreturn\u001b[39;00m merge(\n\u001b[0;32m  10758\u001b[0m         \u001b[38;5;28mself\u001b[39m,\n\u001b[0;32m  10759\u001b[0m         other,\n\u001b[0;32m  10760\u001b[0m         left_on\u001b[38;5;241m=\u001b[39mon,\n\u001b[0;32m  10761\u001b[0m         how\u001b[38;5;241m=\u001b[39mhow,\n\u001b[0;32m  10762\u001b[0m         left_index\u001b[38;5;241m=\u001b[39mon \u001b[38;5;129;01mis\u001b[39;00m \u001b[38;5;28;01mNone\u001b[39;00m,\n\u001b[0;32m  10763\u001b[0m         right_index\u001b[38;5;241m=\u001b[39m\u001b[38;5;28;01mTrue\u001b[39;00m,\n\u001b[0;32m  10764\u001b[0m         suffixes\u001b[38;5;241m=\u001b[39m(lsuffix, rsuffix),\n\u001b[0;32m  10765\u001b[0m         sort\u001b[38;5;241m=\u001b[39msort,\n\u001b[0;32m  10766\u001b[0m         validate\u001b[38;5;241m=\u001b[39mvalidate,\n\u001b[0;32m  10767\u001b[0m     )\n\u001b[0;32m  10768\u001b[0m \u001b[38;5;28;01melse\u001b[39;00m:\n\u001b[0;32m  10769\u001b[0m     \u001b[38;5;28;01mif\u001b[39;00m on \u001b[38;5;129;01mis\u001b[39;00m \u001b[38;5;129;01mnot\u001b[39;00m \u001b[38;5;28;01mNone\u001b[39;00m:\n",
      "File \u001b[1;32mc:\\Users\\Home\\anaconda3\\Lib\\site-packages\\pandas\\core\\reshape\\merge.py:184\u001b[0m, in \u001b[0;36mmerge\u001b[1;34m(left, right, how, on, left_on, right_on, left_index, right_index, sort, suffixes, copy, indicator, validate)\u001b[0m\n\u001b[0;32m    169\u001b[0m \u001b[38;5;28;01melse\u001b[39;00m:\n\u001b[0;32m    170\u001b[0m     op \u001b[38;5;241m=\u001b[39m _MergeOperation(\n\u001b[0;32m    171\u001b[0m         left_df,\n\u001b[0;32m    172\u001b[0m         right_df,\n\u001b[1;32m   (...)\u001b[0m\n\u001b[0;32m    182\u001b[0m         validate\u001b[38;5;241m=\u001b[39mvalidate,\n\u001b[0;32m    183\u001b[0m     )\n\u001b[1;32m--> 184\u001b[0m     \u001b[38;5;28;01mreturn\u001b[39;00m op\u001b[38;5;241m.\u001b[39mget_result(copy\u001b[38;5;241m=\u001b[39mcopy)\n",
      "File \u001b[1;32mc:\\Users\\Home\\anaconda3\\Lib\\site-packages\\pandas\\core\\reshape\\merge.py:888\u001b[0m, in \u001b[0;36m_MergeOperation.get_result\u001b[1;34m(self, copy)\u001b[0m\n\u001b[0;32m    884\u001b[0m     \u001b[38;5;28mself\u001b[39m\u001b[38;5;241m.\u001b[39mleft, \u001b[38;5;28mself\u001b[39m\u001b[38;5;241m.\u001b[39mright \u001b[38;5;241m=\u001b[39m \u001b[38;5;28mself\u001b[39m\u001b[38;5;241m.\u001b[39m_indicator_pre_merge(\u001b[38;5;28mself\u001b[39m\u001b[38;5;241m.\u001b[39mleft, \u001b[38;5;28mself\u001b[39m\u001b[38;5;241m.\u001b[39mright)\n\u001b[0;32m    886\u001b[0m join_index, left_indexer, right_indexer \u001b[38;5;241m=\u001b[39m \u001b[38;5;28mself\u001b[39m\u001b[38;5;241m.\u001b[39m_get_join_info()\n\u001b[1;32m--> 888\u001b[0m result \u001b[38;5;241m=\u001b[39m \u001b[38;5;28mself\u001b[39m\u001b[38;5;241m.\u001b[39m_reindex_and_concat(\n\u001b[0;32m    889\u001b[0m     join_index, left_indexer, right_indexer, copy\u001b[38;5;241m=\u001b[39mcopy\n\u001b[0;32m    890\u001b[0m )\n\u001b[0;32m    891\u001b[0m result \u001b[38;5;241m=\u001b[39m result\u001b[38;5;241m.\u001b[39m__finalize__(\u001b[38;5;28mself\u001b[39m, method\u001b[38;5;241m=\u001b[39m\u001b[38;5;28mself\u001b[39m\u001b[38;5;241m.\u001b[39m_merge_type)\n\u001b[0;32m    893\u001b[0m \u001b[38;5;28;01mif\u001b[39;00m \u001b[38;5;28mself\u001b[39m\u001b[38;5;241m.\u001b[39mindicator:\n",
      "File \u001b[1;32mc:\\Users\\Home\\anaconda3\\Lib\\site-packages\\pandas\\core\\reshape\\merge.py:840\u001b[0m, in \u001b[0;36m_MergeOperation._reindex_and_concat\u001b[1;34m(self, join_index, left_indexer, right_indexer, copy)\u001b[0m\n\u001b[0;32m    837\u001b[0m left \u001b[38;5;241m=\u001b[39m \u001b[38;5;28mself\u001b[39m\u001b[38;5;241m.\u001b[39mleft[:]\n\u001b[0;32m    838\u001b[0m right \u001b[38;5;241m=\u001b[39m \u001b[38;5;28mself\u001b[39m\u001b[38;5;241m.\u001b[39mright[:]\n\u001b[1;32m--> 840\u001b[0m llabels, rlabels \u001b[38;5;241m=\u001b[39m _items_overlap_with_suffix(\n\u001b[0;32m    841\u001b[0m     \u001b[38;5;28mself\u001b[39m\u001b[38;5;241m.\u001b[39mleft\u001b[38;5;241m.\u001b[39m_info_axis, \u001b[38;5;28mself\u001b[39m\u001b[38;5;241m.\u001b[39mright\u001b[38;5;241m.\u001b[39m_info_axis, \u001b[38;5;28mself\u001b[39m\u001b[38;5;241m.\u001b[39msuffixes\n\u001b[0;32m    842\u001b[0m )\n\u001b[0;32m    844\u001b[0m \u001b[38;5;28;01mif\u001b[39;00m left_indexer \u001b[38;5;129;01mis\u001b[39;00m \u001b[38;5;129;01mnot\u001b[39;00m \u001b[38;5;28;01mNone\u001b[39;00m \u001b[38;5;129;01mand\u001b[39;00m \u001b[38;5;129;01mnot\u001b[39;00m is_range_indexer(left_indexer, \u001b[38;5;28mlen\u001b[39m(left)):\n\u001b[0;32m    845\u001b[0m     \u001b[38;5;66;03m# Pinning the index here (and in the right code just below) is not\u001b[39;00m\n\u001b[0;32m    846\u001b[0m     \u001b[38;5;66;03m#  necessary, but makes the `.take` more performant if we have e.g.\u001b[39;00m\n\u001b[0;32m    847\u001b[0m     \u001b[38;5;66;03m#  a MultiIndex for left.index.\u001b[39;00m\n\u001b[0;32m    848\u001b[0m     lmgr \u001b[38;5;241m=\u001b[39m left\u001b[38;5;241m.\u001b[39m_mgr\u001b[38;5;241m.\u001b[39mreindex_indexer(\n\u001b[0;32m    849\u001b[0m         join_index,\n\u001b[0;32m    850\u001b[0m         left_indexer,\n\u001b[1;32m   (...)\u001b[0m\n\u001b[0;32m    855\u001b[0m         use_na_proxy\u001b[38;5;241m=\u001b[39m\u001b[38;5;28;01mTrue\u001b[39;00m,\n\u001b[0;32m    856\u001b[0m     )\n",
      "File \u001b[1;32mc:\\Users\\Home\\anaconda3\\Lib\\site-packages\\pandas\\core\\reshape\\merge.py:2721\u001b[0m, in \u001b[0;36m_items_overlap_with_suffix\u001b[1;34m(left, right, suffixes)\u001b[0m\n\u001b[0;32m   2718\u001b[0m lsuffix, rsuffix \u001b[38;5;241m=\u001b[39m suffixes\n\u001b[0;32m   2720\u001b[0m \u001b[38;5;28;01mif\u001b[39;00m \u001b[38;5;129;01mnot\u001b[39;00m lsuffix \u001b[38;5;129;01mand\u001b[39;00m \u001b[38;5;129;01mnot\u001b[39;00m rsuffix:\n\u001b[1;32m-> 2721\u001b[0m     \u001b[38;5;28;01mraise\u001b[39;00m \u001b[38;5;167;01mValueError\u001b[39;00m(\u001b[38;5;124mf\u001b[39m\u001b[38;5;124m\"\u001b[39m\u001b[38;5;124mcolumns overlap but no suffix specified: \u001b[39m\u001b[38;5;132;01m{\u001b[39;00mto_rename\u001b[38;5;132;01m}\u001b[39;00m\u001b[38;5;124m\"\u001b[39m)\n\u001b[0;32m   2723\u001b[0m \u001b[38;5;28;01mdef\u001b[39;00m \u001b[38;5;21mrenamer\u001b[39m(x, suffix: \u001b[38;5;28mstr\u001b[39m \u001b[38;5;241m|\u001b[39m \u001b[38;5;28;01mNone\u001b[39;00m):\n\u001b[0;32m   2724\u001b[0m \u001b[38;5;250m    \u001b[39m\u001b[38;5;124;03m\"\"\"\u001b[39;00m\n\u001b[0;32m   2725\u001b[0m \u001b[38;5;124;03m    Rename the left and right indices.\u001b[39;00m\n\u001b[0;32m   2726\u001b[0m \n\u001b[1;32m   (...)\u001b[0m\n\u001b[0;32m   2737\u001b[0m \u001b[38;5;124;03m    x : renamed column name\u001b[39;00m\n\u001b[0;32m   2738\u001b[0m \u001b[38;5;124;03m    \"\"\"\u001b[39;00m\n",
      "\u001b[1;31mValueError\u001b[0m: columns overlap but no suffix specified: Index(['ID'], dtype='object')"
     ]
    }
   ],
   "source": [
    "df1.join(df2, how='left')  # Joins on index by default\n"
   ]
  },
  {
   "cell_type": "code",
   "execution_count": null,
   "id": "98d1438e",
   "metadata": {},
   "outputs": [],
   "source": []
  }
 ],
 "metadata": {
  "kernelspec": {
   "display_name": "base",
   "language": "python",
   "name": "python3"
  },
  "language_info": {
   "codemirror_mode": {
    "name": "ipython",
    "version": 3
   },
   "file_extension": ".py",
   "mimetype": "text/x-python",
   "name": "python",
   "nbconvert_exporter": "python",
   "pygments_lexer": "ipython3",
   "version": "3.12.7"
  }
 },
 "nbformat": 4,
 "nbformat_minor": 5
}
