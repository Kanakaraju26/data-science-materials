{
 "cells": [
  {
   "cell_type": "code",
   "execution_count": 2,
   "id": "3e51a65e-8008-4ea3-b3a8-6f380c55340b",
   "metadata": {},
   "outputs": [],
   "source": [
    "import pandas as pd"
   ]
  },
  {
   "cell_type": "code",
   "execution_count": 9,
   "id": "f4f9fee0-f5dd-41d1-9cd1-a123066c0b7e",
   "metadata": {},
   "outputs": [],
   "source": [
    "data1 = {'code':['BAN','BOM','HYD'],'place':['Bengaluru','Mumbai','Hyderabad'],'iplTeam':['RCB','MI','SRH']}"
   ]
  },
  {
   "cell_type": "code",
   "execution_count": 10,
   "id": "54503d33-e896-4e66-b89d-5124c5a3df27",
   "metadata": {},
   "outputs": [
    {
     "name": "stdout",
     "output_type": "stream",
     "text": [
      "{'code': ['BAN', 'BOM', 'HYD'], 'place': ['Bengaluru', 'Mumbai', 'Hyderabad'], 'iplTeam': ['RCB', 'MI', 'SRH']}\n"
     ]
    }
   ],
   "source": [
    "print(data1)"
   ]
  },
  {
   "cell_type": "code",
   "execution_count": 11,
   "id": "9e3a6573-210d-4eb9-a8b8-d90f1a54efc6",
   "metadata": {},
   "outputs": [],
   "source": [
    "data2 = [['Week','SUN','MON','TUE','WED','THU','FRI','SAT'],['Month','JAN','FEB','MAR','APR','MAY','JUN','JUL','AUG','SEP','OCT','NOV','DEC']]"
   ]
  },
  {
   "cell_type": "code",
   "execution_count": 12,
   "id": "3f879c1b-ebf6-42d7-9752-bddafc18c566",
   "metadata": {},
   "outputs": [
    {
     "name": "stdout",
     "output_type": "stream",
     "text": [
      "[['Week', 'SUN', 'MON', 'TUE', 'WED', 'THU', 'FRI', 'SAT'], ['Month', 'JAN', 'FEB', 'MAR', 'APR', 'MAY', 'JUN', 'JUL', 'AUG', 'SEP', 'OCT', 'NOV', 'DEC']]\n"
     ]
    }
   ],
   "source": [
    "print(data2)"
   ]
  },
  {
   "cell_type": "code",
   "execution_count": 13,
   "id": "089516e7-9caf-4b06-8064-9613b338eeb5",
   "metadata": {},
   "outputs": [],
   "source": [
    "df1 = pd.DataFrame(data1)\n",
    "df2 = pd.DataFrame(data2)\n"
   ]
  },
  {
   "cell_type": "code",
   "execution_count": 14,
   "id": "606440f5",
   "metadata": {},
   "outputs": [
    {
     "name": "stdout",
     "output_type": "stream",
     "text": [
      "  code      place iplTeam\n",
      "0  BAN  Bengaluru     RCB\n",
      "1  BOM     Mumbai      MI\n",
      "2  HYD  Hyderabad     SRH\n",
      "      0    1    2    3    4    5    6    7     8     9     10    11    12\n",
      "0   Week  SUN  MON  TUE  WED  THU  FRI  SAT  None  None  None  None  None\n",
      "1  Month  JAN  FEB  MAR  APR  MAY  JUN  JUL   AUG   SEP   OCT   NOV   DEC\n"
     ]
    }
   ],
   "source": [
    "print(df1)\n",
    "print(df2)"
   ]
  },
  {
   "cell_type": "code",
   "execution_count": null,
   "id": "41a3b787",
   "metadata": {},
   "outputs": [],
   "source": [
    "dfcsv = pd.read_csv('C:\\\\Users\\\\Home\\\\Downloads\\\\Documents\\\\games.csv')"
   ]
  },
  {
   "cell_type": "code",
   "execution_count": null,
   "id": "796f536e",
   "metadata": {},
   "outputs": [
    {
     "name": "stdout",
     "output_type": "stream",
     "text": [
      "0        white\n",
      "1        black\n",
      "2        white\n",
      "3        white\n",
      "4        white\n",
      "         ...  \n",
      "20053    white\n",
      "20054    black\n",
      "20055    white\n",
      "20056    white\n",
      "20057    black\n",
      "Name: winner, Length: 20058, dtype: object\n"
     ]
    }
   ],
   "source": [
    "print(dfcsv)"
   ]
  },
  {
   "cell_type": "code",
   "execution_count": 19,
   "id": "84426209",
   "metadata": {},
   "outputs": [],
   "source": [
    "dfjson = pd.read_json('C:\\\\Users\\\\Home\\\\Downloads\\\\Documents\\\\US_STATE_recipes.json')"
   ]
  },
  {
   "cell_type": "code",
   "execution_count": 22,
   "id": "9030fad6",
   "metadata": {},
   "outputs": [
    {
     "name": "stdout",
     "output_type": "stream",
     "text": [
      "                                                            0     \\\n",
      "Contient                                                  Africa   \n",
      "Country_State                                               None   \n",
      "cuisine                                                 Missouri   \n",
      "title                                    Ground Beef and Cabbage   \n",
      "URL            https://www.allrecipes.com/recipe/229324/groun...   \n",
      "rating                                                       4.5   \n",
      "total_time                                                    60   \n",
      "prep_time                                                     15   \n",
      "cook_time                                                     45   \n",
      "description    This ground beef and cabbage recipe combines l...   \n",
      "ingredients    [1 large head cabbage, finely chopped, 1 (14.5...   \n",
      "instructions   [Place cabbage, tomatoes with juice, onion, It...   \n",
      "nutrients      {'calories': '228 kcal', 'carbohydrateContent'...   \n",
      "serves                                                6 servings   \n",
      "\n",
      "                                                            1     \\\n",
      "Contient                                                  Africa   \n",
      "Country_State                                               None   \n",
      "cuisine                                                 Missouri   \n",
      "title                                Old Fashioned Peach Cobbler   \n",
      "URL            https://www.allrecipes.com/recipe/19897/old-fa...   \n",
      "rating                                                       4.6   \n",
      "total_time                                                   130   \n",
      "prep_time                                                     30   \n",
      "cook_time                                                     70   \n",
      "description    This old-fashioned peach cobbler recipe featur...   \n",
      "ingredients    [2.5 cups all-purpose flour, 4 tablespoons whi...   \n",
      "instructions   [Make crust: Sift together flour, 3 tablespoon...   \n",
      "nutrients      {'calories': '338 kcal', 'carbohydrateContent'...   \n",
      "serves                                               18 servings   \n",
      "\n",
      "                                                            2     \\\n",
      "Contient                                                  Africa   \n",
      "Country_State                                               None   \n",
      "cuisine                                                 Missouri   \n",
      "title                                  St. Louis Toasted Ravioli   \n",
      "URL            https://www.allrecipes.com/recipe/16907/st-lou...   \n",
      "rating                                                       4.5   \n",
      "total_time                                                    25   \n",
      "prep_time                                                     15   \n",
      "cook_time                                                     10   \n",
      "description    Toasted ravioli traces its roots to St. Louis....   \n",
      "ingredients    [1 (16 ounce) jar marinara sauce, 1 large egg,...   \n",
      "instructions   [Heat marinara sauce in a saucepan over medium...   \n",
      "nutrients      {'calories': '374 kcal', 'carbohydrateContent'...   \n",
      "serves                                                6 servings   \n",
      "\n",
      "                                                            3     \\\n",
      "Contient                                                  Africa   \n",
      "Country_State                                               None   \n",
      "cuisine                                                 Missouri   \n",
      "title                             Amish Friendship Bread Starter   \n",
      "URL            https://www.allrecipes.com/recipe/7063/amish-f...   \n",
      "rating                                                       4.7   \n",
      "total_time                                                 14440   \n",
      "prep_time                                                     30   \n",
      "cook_time                                                   None   \n",
      "description    Amish friendship bread starter is made with ye...   \n",
      "ingredients    [1 (.25 ounce) package active dry yeast, 0.25 ...   \n",
      "instructions   [Dissolve yeast in warm water in a small bowl;...   \n",
      "nutrients      {'calories': '34 kcal', 'carbohydrateContent':...   \n",
      "serves                                              120 servings   \n",
      "\n",
      "                                                            4     \\\n",
      "Contient                                                  Africa   \n",
      "Country_State                                               None   \n",
      "cuisine                                                 Missouri   \n",
      "title                               Simple Fried Morel Mushrooms   \n",
      "URL            https://www.allrecipes.com/recipe/220833/simpl...   \n",
      "rating                                                       4.7   \n",
      "total_time                                                    30   \n",
      "prep_time                                                     20   \n",
      "cook_time                                                     10   \n",
      "description    The rich, meaty flavor of fresh morel mushroom...   \n",
      "ingredients    [1 pound fresh morel mushrooms - dirt gently b...   \n",
      "instructions   [Place halved morel mushrooms in a large bowl;...   \n",
      "nutrients      {'calories': '185 kcal', 'carbohydrateContent'...   \n",
      "serves                                                4 servings   \n",
      "\n",
      "                                                            5     \\\n",
      "Contient                                                  Africa   \n",
      "Country_State                                               None   \n",
      "cuisine                                                 Missouri   \n",
      "title                                Big Al's K.C. Bar-B-Q Sauce   \n",
      "URL            https://www.allrecipes.com/recipe/44491/big-al...   \n",
      "rating                                                       4.8   \n",
      "total_time                                                    35   \n",
      "prep_time                                                     15   \n",
      "cook_time                                                     20   \n",
      "description    This is a Kansas City-style BBQ sauce recipe s...   \n",
      "ingredients    [2 cups ketchup, 2 cups tomato sauce, 1.25 cup...   \n",
      "instructions   [Mix together ketchup, tomato sauce, brown sug...   \n",
      "nutrients      {'calories': '46 kcal', 'carbohydrateContent':...   \n",
      "serves                                               48 servings   \n",
      "\n",
      "                                                            6     \\\n",
      "Contient                                                  Africa   \n",
      "Country_State                                               None   \n",
      "cuisine                                                 Missouri   \n",
      "title                                       Lemon Zucchini Bread   \n",
      "URL            https://www.allrecipes.com/recipe/58817/lemon-...   \n",
      "rating                                                       4.6   \n",
      "total_time                                                    60   \n",
      "prep_time                                                     15   \n",
      "cook_time                                                     45   \n",
      "description    Lemon zest adds a touch of summer to this swee...   \n",
      "ingredients    [1.5 cups shredded zucchini, 0.75 cup white su...   \n",
      "instructions   [Preheat oven to 325 degrees F (165 degrees C)...   \n",
      "nutrients      {'calories': '195 kcal', 'carbohydrateContent'...   \n",
      "serves                                               12 servings   \n",
      "\n",
      "                                                            7     \\\n",
      "Contient                                                  Africa   \n",
      "Country_State                                               None   \n",
      "cuisine                                                 Missouri   \n",
      "title                         Springfield Style Cashew Chicken I   \n",
      "URL            https://www.allrecipes.com/recipe/9009/springf...   \n",
      "rating                                                       4.4   \n",
      "total_time                                                    35   \n",
      "prep_time                                                     15   \n",
      "cook_time                                                     20   \n",
      "description    Fried chicken is topped with an Asian-style mi...   \n",
      "ingredients    [4 skinless, boneless chicken breasts, 2 cups ...   \n",
      "instructions   [Cut the chicken breasts into 1 inch pieces. I...   \n",
      "nutrients      {'calories': '652 kcal', 'carbohydrateContent'...   \n",
      "serves                                                6 servings   \n",
      "\n",
      "                                                            8     \\\n",
      "Contient                                                  Africa   \n",
      "Country_State                                               None   \n",
      "cuisine                                                 Missouri   \n",
      "title                                      Kansas City Ice Water   \n",
      "URL            https://www.allrecipes.com/recipe/51923/kansas...   \n",
      "rating                                                       4.5   \n",
      "total_time                                                     2   \n",
      "prep_time                                                      2   \n",
      "cook_time                                                   None   \n",
      "description    Citrus flavors are blended with gin and vodka....   \n",
      "ingredients    [1 fluid ounce gin, 1 fluid ounce vodka, 0.5 f...   \n",
      "instructions   [Combine the gin, vodka, lime juice, and tripl...   \n",
      "nutrients                                                     {}   \n",
      "serves                                                 1 serving   \n",
      "\n",
      "                                                            9     ...  \\\n",
      "Contient                                                  Africa  ...   \n",
      "Country_State                                               None  ...   \n",
      "cuisine                                                 Missouri  ...   \n",
      "title                                      St. Louis Pork Steaks  ...   \n",
      "URL            https://www.allrecipes.com/recipe/73669/st-lou...  ...   \n",
      "rating                                                       4.0  ...   \n",
      "total_time                                                    35  ...   \n",
      "prep_time                                                     10  ...   \n",
      "cook_time                                                     25  ...   \n",
      "description    Grilled pork steaks are juicy and tender in th...  ...   \n",
      "ingredients    [5 pork shoulder steaks, 0.125 teaspoon season...  ...   \n",
      "instructions   [Preheat an outdoor grill for medium-low heat ...  ...   \n",
      "nutrients      {'calories': '517 kcal', 'carbohydrateContent'...  ...   \n",
      "serves                                                5 servings  ...   \n",
      "\n",
      "                                                            3753  \\\n",
      "Contient                                                  Africa   \n",
      "Country_State                                               None   \n",
      "cuisine                                                  Montana   \n",
      "title                                        The Humble Shepherd   \n",
      "URL            https://www.allrecipes.com/recipe/76519/the-hu...   \n",
      "rating                                                       4.4   \n",
      "total_time                                                    80   \n",
      "prep_time                                                     30   \n",
      "cook_time                                                     50   \n",
      "description    A twist on the original shepherd's pie using g...   \n",
      "ingredients    [cooking spray, 1.5 pounds russet potatoes, pe...   \n",
      "instructions   [Preheat an oven to 350 degrees F (175 degrees...   \n",
      "nutrients      {'calories': '567 kcal', 'carbohydrateContent'...   \n",
      "serves                                                6 servings   \n",
      "\n",
      "                                                            3754  \\\n",
      "Contient                                                  Africa   \n",
      "Country_State                                               None   \n",
      "cuisine                                                  Montana   \n",
      "title                              Easy Slow Cooker Venison Stew   \n",
      "URL            https://www.allrecipes.com/recipe/32081/easy-s...   \n",
      "rating                                                       4.5   \n",
      "total_time                                                   490   \n",
      "prep_time                                                     10   \n",
      "cook_time                                                    480   \n",
      "description    An easy slow cooker stew made with venison and...   \n",
      "ingredients    [2 pounds venison stew meat, 1 (10.75 ounce) c...   \n",
      "instructions   [In a slow cooker, combine venison, cream of m...   \n",
      "nutrients      {'calories': '278 kcal', 'carbohydrateContent'...   \n",
      "serves                                                6 servings   \n",
      "\n",
      "                                                            3755  \\\n",
      "Contient                                                  Africa   \n",
      "Country_State                                               None   \n",
      "cuisine                                                  Montana   \n",
      "title                                   Fennel in Wine and Honey   \n",
      "URL            https://www.allrecipes.com/recipe/95546/fennel...   \n",
      "rating                                                       4.1   \n",
      "total_time                                                    60   \n",
      "prep_time                                                     15   \n",
      "cook_time                                                     45   \n",
      "description    A great side dish for fennel lovers, originall...   \n",
      "ingredients    [4 fennel bulbs, trimmed and quartered, 0.25 c...   \n",
      "instructions   [Place the fennel quarters in large deep skill...   \n",
      "nutrients      {'calories': '133 kcal', 'carbohydrateContent'...   \n",
      "serves                                                8 servings   \n",
      "\n",
      "                                                            3756  \\\n",
      "Contient                                                  Africa   \n",
      "Country_State                                               None   \n",
      "cuisine                                                  Montana   \n",
      "title          Spinach and Goat Cheese Salad with Beetroot Vi...   \n",
      "URL            https://www.allrecipes.com/recipe/46492/spinac...   \n",
      "rating                                                       4.7   \n",
      "total_time                                                    30   \n",
      "prep_time                                                     25   \n",
      "cook_time                                                      5   \n",
      "description    A beet vinaigrette is drizzled over baby spina...   \n",
      "ingredients    [1 cup walnuts, coarsely chopped, 2 tablespoon...   \n",
      "instructions   [In small saucepan over medium heat, cook and ...   \n",
      "nutrients      {'calories': '163 kcal', 'carbohydrateContent'...   \n",
      "serves                                               12 servings   \n",
      "\n",
      "                                                            3757  \\\n",
      "Contient                                                  Africa   \n",
      "Country_State                                               None   \n",
      "cuisine                                                  Montana   \n",
      "title                                Montana Russian Black Bread   \n",
      "URL            https://www.allrecipes.com/recipe/236547/monta...   \n",
      "rating                                                       4.0   \n",
      "total_time                                                   215   \n",
      "prep_time                                                     20   \n",
      "cook_time                                                     45   \n",
      "description    Black bread, made with dark beer, coffee, mola...   \n",
      "ingredients    [2.5 cups whole wheat bread flour, 1 cup rye f...   \n",
      "instructions   [Place whole wheat bread flour, rye flour, coc...   \n",
      "nutrients      {'calories': '241 kcal', 'carbohydrateContent'...   \n",
      "serves                                               10 servings   \n",
      "\n",
      "                                                            3758  \\\n",
      "Contient                                                  Africa   \n",
      "Country_State                                               None   \n",
      "cuisine                                                  Montana   \n",
      "title                                      Cracked Black Venison   \n",
      "URL            https://www.allrecipes.com/recipe/18774/cracke...   \n",
      "rating                                                       4.4   \n",
      "total_time                                                    70   \n",
      "prep_time                                                     10   \n",
      "cook_time                                                     60   \n",
      "description    Tasty and spicy, this is a simple venison stea...   \n",
      "ingredients    [2 (1/2 pound) venison steaks, 2 teaspoons cra...   \n",
      "instructions   [Season venison steaks with pepper and salt. M...   \n",
      "nutrients      {'calories': '151 kcal', 'carbohydrateContent'...   \n",
      "serves                                                4 servings   \n",
      "\n",
      "                                                            3759  \\\n",
      "Contient                                                  Africa   \n",
      "Country_State                                               None   \n",
      "cuisine                                                  Montana   \n",
      "title                                    Montana Spicy Bison Dip   \n",
      "URL            https://www.allrecipes.com/recipe/256810/monta...   \n",
      "rating                                                       4.3   \n",
      "total_time                                                    25   \n",
      "prep_time                                                     10   \n",
      "cook_time                                                     15   \n",
      "description    Kick off game day with this touchdown-worthy M...   \n",
      "ingredients    [1 pound ground bison, 0.5 cup chopped onion, ...   \n",
      "instructions   [Brown meat and onion in large skillet on medi...   \n",
      "nutrients      {'calories': '98 kcal', 'carbohydrateContent':...   \n",
      "serves                                               20 servings   \n",
      "\n",
      "                                                            3760  \\\n",
      "Contient                                                  Africa   \n",
      "Country_State                                               None   \n",
      "cuisine                                                  Montana   \n",
      "title             Grandpa Mack's Fifth-Generation Pancake Recipe   \n",
      "URL            https://www.allrecipes.com/recipe/279565/grand...   \n",
      "rating                                                       3.7   \n",
      "total_time                                                    25   \n",
      "prep_time                                                      5   \n",
      "cook_time                                                     20   \n",
      "description    This family-favorite pancake recipe has been s...   \n",
      "ingredients    [2 cups all-purpose flour, 2 tablespoons white...   \n",
      "instructions   [Mix flour, sugar, baking powder, and salt tog...   \n",
      "nutrients      {'calories': '241 kcal', 'carbohydrateContent'...   \n",
      "serves                                                9 servings   \n",
      "\n",
      "                                                            3761  \\\n",
      "Contient                                                  Africa   \n",
      "Country_State                                               None   \n",
      "cuisine                                                  Montana   \n",
      "title                               Couscous with Dried Cherries   \n",
      "URL            https://www.allrecipes.com/recipe/18273/cousco...   \n",
      "rating                                                       4.2   \n",
      "total_time                                                    20   \n",
      "prep_time                                                      5   \n",
      "cook_time                                                     10   \n",
      "description    My family loves couscous and this fruity varia...   \n",
      "ingredients    [1 cup chicken broth, 0.25 cup water, 0.25 cup...   \n",
      "instructions   [In a 2 quart saucepan, combine chicken broth,...   \n",
      "nutrients      {'calories': '243 kcal', 'carbohydrateContent'...   \n",
      "serves                                                4 servings   \n",
      "\n",
      "                                                            3762  \n",
      "Contient                                                  Africa  \n",
      "Country_State                                               None  \n",
      "cuisine                                                  Montana  \n",
      "title                                         Jo's Mountain Mush  \n",
      "URL            https://www.allrecipes.com/recipe/21272/jos-mo...  \n",
      "rating                                                       4.3  \n",
      "total_time                                                    25  \n",
      "prep_time                                                     10  \n",
      "cook_time                                                     15  \n",
      "description    A jumbled, filling breakfast created when I wa...  \n",
      "ingredients    [8 beef frankfurters, 3 red potatoes, cubed, 2...  \n",
      "instructions   [Coat a large skillet with non-stick cooking s...  \n",
      "nutrients      {'calories': '460 kcal', 'carbohydrateContent'...  \n",
      "serves                                                6 servings  \n",
      "\n",
      "[14 rows x 3763 columns]\n"
     ]
    }
   ],
   "source": [
    "print(dfjson)"
   ]
  },
  {
   "cell_type": "code",
   "execution_count": 64,
   "id": "8fd76efa",
   "metadata": {},
   "outputs": [],
   "source": [
    "dfexcel = pd.read_excel('C:\\\\Users\\\\Home\\\\Downloads\\\\Documents\\\\SampleData.xlsx')"
   ]
  },
  {
   "cell_type": "code",
   "execution_count": 65,
   "id": "e54e1576",
   "metadata": {},
   "outputs": [
    {
     "name": "stdout",
     "output_type": "stream",
     "text": [
      "     PassengerId  Survived  Pclass  \\\n",
      "0              1         0       3   \n",
      "1              2         1       1   \n",
      "2              3         1       3   \n",
      "3              4         1       1   \n",
      "4              5         0       3   \n",
      "..           ...       ...     ...   \n",
      "886          887         0       2   \n",
      "887          888         1       1   \n",
      "888          889         0       3   \n",
      "889          890         1       1   \n",
      "890          891         0       3   \n",
      "\n",
      "                                                  Name     Sex   Age  SibSp  \\\n",
      "0                              Braund, Mr. Owen Harris    male  22.0      1   \n",
      "1    Cumings, Mrs. John Bradley (Florence Briggs Th...  female  38.0      1   \n",
      "2                               Heikkinen, Miss. Laina  female  26.0      0   \n",
      "3         Futrelle, Mrs. Jacques Heath (Lily May Peel)  female  35.0      1   \n",
      "4                             Allen, Mr. William Henry    male  35.0      0   \n",
      "..                                                 ...     ...   ...    ...   \n",
      "886                              Montvila, Rev. Juozas    male  27.0      0   \n",
      "887                       Graham, Miss. Margaret Edith  female  19.0      0   \n",
      "888           Johnston, Miss. Catherine Helen \"Carrie\"  female   NaN      1   \n",
      "889                              Behr, Mr. Karl Howell    male  26.0      0   \n",
      "890                                Dooley, Mr. Patrick    male  32.0      0   \n",
      "\n",
      "     Parch            Ticket     Fare  ... Unnamed: 16 Unnamed: 17  \\\n",
      "0        0         A/5 21171   7.2500  ...         NaN         NaN   \n",
      "1        0          PC 17599  71.2833  ...         NaN         NaN   \n",
      "2        0  STON/O2. 3101282   7.9250  ...         NaN         NaN   \n",
      "3        0            113803  53.1000  ...         NaN         NaN   \n",
      "4        0            373450   8.0500  ...         NaN         NaN   \n",
      "..     ...               ...      ...  ...         ...         ...   \n",
      "886      0            211536  13.0000  ...         NaN         NaN   \n",
      "887      0            112053  30.0000  ...         NaN         NaN   \n",
      "888      2        W./C. 6607  23.4500  ...         NaN         NaN   \n",
      "889      0            111369  30.0000  ...         NaN         NaN   \n",
      "890      0            370376   7.7500  ...         NaN         NaN   \n",
      "\n",
      "     Unnamed: 18  Unnamed: 19  Unnamed: 20  Unnamed: 21  Unnamed: 22  \\\n",
      "0            NaN          NaN          NaN          NaN          NaN   \n",
      "1            NaN          NaN          NaN          NaN          NaN   \n",
      "2            NaN          NaN          NaN          NaN          NaN   \n",
      "3            NaN          NaN          NaN          NaN          NaN   \n",
      "4            NaN          NaN          NaN          NaN          NaN   \n",
      "..           ...          ...          ...          ...          ...   \n",
      "886          NaN          NaN          NaN          NaN          NaN   \n",
      "887          NaN          NaN          NaN          NaN          NaN   \n",
      "888          NaN          NaN          NaN          NaN          NaN   \n",
      "889          NaN          NaN          NaN          NaN          NaN   \n",
      "890          NaN          NaN          NaN          NaN          NaN   \n",
      "\n",
      "     Unnamed: 23  Unnamed: 24  Unnamed: 25  \n",
      "0            NaN          NaN          NaN  \n",
      "1            NaN          NaN          NaN  \n",
      "2            NaN          NaN          NaN  \n",
      "3            NaN          NaN          NaN  \n",
      "4            NaN          NaN           We  \n",
      "..           ...          ...          ...  \n",
      "886          NaN          NaN          NaN  \n",
      "887          NaN          NaN          NaN  \n",
      "888          NaN          NaN          NaN  \n",
      "889          NaN          NaN          NaN  \n",
      "890          NaN          NaN          NaN  \n",
      "\n",
      "[891 rows x 26 columns]\n"
     ]
    }
   ],
   "source": [
    "print(dfexcel)"
   ]
  },
  {
   "cell_type": "code",
   "execution_count": 25,
   "id": "7075bb08",
   "metadata": {},
   "outputs": [],
   "source": [
    "dfcity = pd.DataFrame(data1,index=['A','B','C'])"
   ]
  },
  {
   "cell_type": "code",
   "execution_count": 26,
   "id": "10c64ef0",
   "metadata": {},
   "outputs": [
    {
     "name": "stdout",
     "output_type": "stream",
     "text": [
      "  code      place iplTeam\n",
      "A  BAN  Bengaluru     RCB\n",
      "B  BOM     Mumbai      MI\n",
      "C  HYD  Hyderabad     SRH\n"
     ]
    }
   ],
   "source": [
    "print(dfcity)"
   ]
  },
  {
   "cell_type": "code",
   "execution_count": 28,
   "id": "356bb6e2",
   "metadata": {},
   "outputs": [
    {
     "name": "stdout",
     "output_type": "stream",
     "text": [
      "  code iplTeam\n",
      "A  BAN     RCB\n",
      "B  BOM      MI\n",
      "C  HYD     SRH\n"
     ]
    }
   ],
   "source": [
    "print(dfcity[[\"code\",'iplTeam']])"
   ]
  },
  {
   "cell_type": "code",
   "execution_count": 30,
   "id": "8bc32e93",
   "metadata": {},
   "outputs": [
    {
     "name": "stdout",
     "output_type": "stream",
     "text": [
      "code             BAN\n",
      "place      Bengaluru\n",
      "iplTeam          RCB\n",
      "Name: A, dtype: object\n"
     ]
    }
   ],
   "source": [
    "print(dfcity.loc['A'])"
   ]
  },
  {
   "cell_type": "code",
   "execution_count": 41,
   "id": "a9275f73",
   "metadata": {},
   "outputs": [
    {
     "name": "stdout",
     "output_type": "stream",
     "text": [
      "A    RCB\n",
      "B     MI\n",
      "C    SRH\n",
      "Name: iplTeam, dtype: object\n"
     ]
    }
   ],
   "source": [
    "print(dfcity.loc[:,'iplTeam'])"
   ]
  },
  {
   "cell_type": "code",
   "execution_count": null,
   "id": "a24c7b44",
   "metadata": {},
   "outputs": [],
   "source": [
    "dfcsv[\"Rating comparison\"] = dfcsv[\"white_rating\"].astype(str) + \" vs \" + dfcsv[\"black_rating\"].astype(str)"
   ]
  },
  {
   "cell_type": "code",
   "execution_count": null,
   "id": "3e7566f2",
   "metadata": {},
   "outputs": [
    {
     "name": "stdout",
     "output_type": "stream",
     "text": [
      "       white_rating  black_rating Rating comparison\n",
      "0              1500          1191      1500 vs 1191\n",
      "1              1322          1261      1322 vs 1261\n",
      "2              1496          1500      1496 vs 1500\n",
      "3              1439          1454      1439 vs 1454\n",
      "4              1523          1469      1523 vs 1469\n",
      "...             ...           ...               ...\n",
      "20053          1691          1220      1691 vs 1220\n",
      "20054          1233          1196      1233 vs 1196\n",
      "20055          1219          1286      1219 vs 1286\n",
      "20056          1360          1227      1360 vs 1227\n",
      "20057          1235          1339      1235 vs 1339\n",
      "\n",
      "[20058 rows x 3 columns]\n"
     ]
    }
   ],
   "source": [
    "print(dfcsv[[\"white_rating\",\"black_rating\",\"Rating comparison\"]])"
   ]
  },
  {
   "cell_type": "code",
   "execution_count": null,
   "id": "0d2360fe",
   "metadata": {},
   "outputs": [
    {
     "data": {
      "text/plain": [
       "211"
      ]
     },
     "execution_count": 63,
     "metadata": {},
     "output_type": "execute_result"
    }
   ],
   "source": [
    "# dfcsv.describe()         \n",
    "# dfcsv.info()             \n",
    "# dfcsv['turns'].mean()             \n",
    "# dfcsv['turns'].median()\n",
    "# dfcsv['turns'].sum()\n",
    "# dfcsv['turns'].min()\n",
    "# dfcsv['turns'].max()\n",
    "# dfcsv['turns'].count()            \n",
    "# dfcsv['turns'].nunique()"
   ]
  },
  {
   "cell_type": "code",
   "execution_count": 66,
   "id": "d5f63b20",
   "metadata": {},
   "outputs": [
    {
     "data": {
      "text/plain": [
       "0      M\n",
       "1      F\n",
       "2      F\n",
       "3      F\n",
       "4      M\n",
       "      ..\n",
       "886    M\n",
       "887    F\n",
       "888    F\n",
       "889    M\n",
       "890    M\n",
       "Name: Sex, Length: 891, dtype: object"
      ]
     },
     "execution_count": 66,
     "metadata": {},
     "output_type": "execute_result"
    }
   ],
   "source": [
    "dfexcel['Sex'].map({'male':'M',\"female\":\"F\"})"
   ]
  },
  {
   "cell_type": "code",
   "execution_count": 70,
   "id": "4e05a076",
   "metadata": {},
   "outputs": [
    {
     "data": {
      "text/plain": [
       "Sex\n",
       "female    314\n",
       "male      577\n",
       "dtype: int64"
      ]
     },
     "execution_count": 70,
     "metadata": {},
     "output_type": "execute_result"
    }
   ],
   "source": [
    "dfexcel.groupby('Sex').size()\n"
   ]
  },
  {
   "cell_type": "code",
   "execution_count": null,
   "id": "cc483ea4",
   "metadata": {},
   "outputs": [],
   "source": []
  }
 ],
 "metadata": {
  "kernelspec": {
   "display_name": "Python [conda env:base] *",
   "language": "python",
   "name": "conda-base-py"
  },
  "language_info": {
   "codemirror_mode": {
    "name": "ipython",
    "version": 3
   },
   "file_extension": ".py",
   "mimetype": "text/x-python",
   "name": "python",
   "nbconvert_exporter": "python",
   "pygments_lexer": "ipython3",
   "version": "3.12.7"
  }
 },
 "nbformat": 4,
 "nbformat_minor": 5
}
