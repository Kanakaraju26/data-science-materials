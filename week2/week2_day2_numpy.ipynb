{
 "cells": [
  {
   "cell_type": "code",
   "execution_count": 128,
   "id": "18cb0acf-abbb-4ea4-b390-7d835a25ece2",
   "metadata": {},
   "outputs": [],
   "source": [
    "import numpy as np"
   ]
  },
  {
   "cell_type": "code",
   "execution_count": 156,
   "id": "4ac17e36-d9a9-482f-9101-0be6b11290aa",
   "metadata": {},
   "outputs": [],
   "source": [
    "arr1 = np.array([[1,2,3],[4,5,6],[7,8,9]])"
   ]
  },
  {
   "cell_type": "code",
   "execution_count": 130,
   "id": "1d7ecfea-14f2-4916-ad32-8ffb109501bf",
   "metadata": {},
   "outputs": [],
   "source": [
    "arr2 = np.array([[9,8,7],[6,5,4],[3,2,1]])"
   ]
  },
  {
   "cell_type": "code",
   "execution_count": 131,
   "id": "b2a4714c-f798-4144-88a8-2a036e443244",
   "metadata": {},
   "outputs": [
    {
     "name": "stdout",
     "output_type": "stream",
     "text": [
      "10\n"
     ]
    }
   ],
   "source": [
    "print(np.max(arr1 + arr2))"
   ]
  },
  {
   "cell_type": "code",
   "execution_count": 132,
   "id": "bb47d098",
   "metadata": {},
   "outputs": [
    {
     "name": "stdout",
     "output_type": "stream",
     "text": [
      "[1 2 3 4 5 6 7 8 9]\n"
     ]
    }
   ],
   "source": [
    "print(arr1.ravel())"
   ]
  },
  {
   "cell_type": "code",
   "execution_count": 133,
   "id": "182fcd89",
   "metadata": {},
   "outputs": [
    {
     "name": "stdout",
     "output_type": "stream",
     "text": [
      "[1 2 3 4 5 6 7 8 9]\n"
     ]
    }
   ],
   "source": [
    "print(arr1.flatten())"
   ]
  },
  {
   "cell_type": "code",
   "execution_count": 134,
   "id": "228471cf",
   "metadata": {},
   "outputs": [
    {
     "name": "stdout",
     "output_type": "stream",
     "text": [
      "True\n"
     ]
    }
   ],
   "source": [
    "print(np.all(arr1))"
   ]
  },
  {
   "cell_type": "code",
   "execution_count": 135,
   "id": "d6044edb",
   "metadata": {},
   "outputs": [
    {
     "name": "stdout",
     "output_type": "stream",
     "text": [
      "[-48.  16.  23.  12. 146.]\n"
     ]
    }
   ],
   "source": [
    "print(np.random.randn(5).round(2)*100)"
   ]
  },
  {
   "cell_type": "code",
   "execution_count": 136,
   "id": "3e6f2fd6",
   "metadata": {},
   "outputs": [
    {
     "name": "stdout",
     "output_type": "stream",
     "text": [
      "[[7 8 9]\n",
      " [4 5 6]\n",
      " [1 2 3]]\n"
     ]
    }
   ],
   "source": [
    "print(np.random.permutation(arr1))"
   ]
  },
  {
   "cell_type": "code",
   "execution_count": 137,
   "id": "617fce91",
   "metadata": {},
   "outputs": [
    {
     "name": "stdout",
     "output_type": "stream",
     "text": [
      "None\n"
     ]
    }
   ],
   "source": [
    "print(np.random.shuffle(arr1))"
   ]
  },
  {
   "cell_type": "code",
   "execution_count": 138,
   "id": "035c6a82",
   "metadata": {},
   "outputs": [
    {
     "name": "stdout",
     "output_type": "stream",
     "text": [
      "[5 3 1 2 4]\n"
     ]
    }
   ],
   "source": [
    "ln = np.array([5,3,4,1,2])\n",
    "np.random.shuffle(ln)\n",
    "print(ln)"
   ]
  },
  {
   "cell_type": "code",
   "execution_count": 139,
   "id": "c48d1c67",
   "metadata": {},
   "outputs": [
    {
     "name": "stdout",
     "output_type": "stream",
     "text": [
      "[6 1 7 3 6]\n"
     ]
    }
   ],
   "source": [
    "print(np.random.choice(arr1.flatten(),size=5))"
   ]
  },
  {
   "cell_type": "code",
   "execution_count": 140,
   "id": "61bed000",
   "metadata": {},
   "outputs": [],
   "source": [
    "np.random.seed(42)"
   ]
  },
  {
   "cell_type": "code",
   "execution_count": 151,
   "id": "dd7571c2",
   "metadata": {},
   "outputs": [
    {
     "name": "stdout",
     "output_type": "stream",
     "text": [
      "[3]\n"
     ]
    }
   ],
   "source": [
    "print(np.random.randint(0,10,size=1))"
   ]
  },
  {
   "cell_type": "code",
   "execution_count": 165,
   "id": "29c287fa",
   "metadata": {},
   "outputs": [
    {
     "name": "stdout",
     "output_type": "stream",
     "text": [
      "2\n"
     ]
    }
   ],
   "source": [
    "arr3 = np.array([1,2,3])\n",
    "print(np.argmax(arr3))"
   ]
  },
  {
   "cell_type": "code",
   "execution_count": 168,
   "id": "a7e85968",
   "metadata": {},
   "outputs": [
    {
     "name": "stdout",
     "output_type": "stream",
     "text": [
      "[[[[0 0 0]\n",
      "   [0 0 0]]]\n",
      "\n",
      "\n",
      " [[[0 0 0]\n",
      "   [1 1 1]]]\n",
      "\n",
      "\n",
      " [[[0 1 2]\n",
      "   [0 1 2]]]]\n"
     ]
    }
   ],
   "source": [
    "print(np.indices(arr3))"
   ]
  },
  {
   "cell_type": "code",
   "execution_count": 169,
   "id": "452b9ae5",
   "metadata": {},
   "outputs": [
    {
     "name": "stdout",
     "output_type": "stream",
     "text": [
      "[[ 30  24  18]\n",
      " [ 84  69  54]\n",
      " [138 114  90]]\n"
     ]
    }
   ],
   "source": [
    "print(np.dot(arr1,arr2))"
   ]
  },
  {
   "cell_type": "code",
   "execution_count": 170,
   "id": "b946444a",
   "metadata": {},
   "outputs": [
    {
     "name": "stdout",
     "output_type": "stream",
     "text": [
      "[[ 9 16 21]\n",
      " [24 25 24]\n",
      " [21 16  9]]\n"
     ]
    }
   ],
   "source": [
    "print(arr1*arr2)"
   ]
  },
  {
   "cell_type": "code",
   "execution_count": 178,
   "id": "741ed3f6",
   "metadata": {},
   "outputs": [
    {
     "name": "stdout",
     "output_type": "stream",
     "text": [
      "-2\n"
     ]
    }
   ],
   "source": [
    "A = np.array([[1, 2], [3, 4]])\n",
    "print(round(np.linalg.det(A)))"
   ]
  },
  {
   "cell_type": "code",
   "execution_count": null,
   "id": "168636be",
   "metadata": {},
   "outputs": [],
   "source": []
  }
 ],
 "metadata": {
  "kernelspec": {
   "display_name": "Python [conda env:base] *",
   "language": "python",
   "name": "conda-base-py"
  },
  "language_info": {
   "codemirror_mode": {
    "name": "ipython",
    "version": 3
   },
   "file_extension": ".py",
   "mimetype": "text/x-python",
   "name": "python",
   "nbconvert_exporter": "python",
   "pygments_lexer": "ipython3",
   "version": "3.12.7"
  }
 },
 "nbformat": 4,
 "nbformat_minor": 5
}
