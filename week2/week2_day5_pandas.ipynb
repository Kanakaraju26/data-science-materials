{
 "cells": [
  {
   "cell_type": "code",
   "execution_count": 1,
   "id": "816e3c1d-7659-4394-b64e-4f319b8a0d4f",
   "metadata": {},
   "outputs": [],
   "source": [
    "import pandas as pd"
   ]
  },
  {
   "cell_type": "code",
   "execution_count": 24,
   "id": "2f53818b",
   "metadata": {},
   "outputs": [],
   "source": [
    "df = pd.DataFrame({\n",
    "    'ID': [101, 102, 103, 104, 105, 106, 107],\n",
    "    'Name': ['CH', 'KA', 'VE','DH','DE','AY','DH'],\n",
    "    'Dept': ['HR', 'IT', 'Finance','HR', 'IT', 'Finance','IT'],\n",
    "    'Salary': [50000, 60000, 70000, 57000, 80000, 55000, 58000]\n",
    "})"
   ]
  },
  {
   "cell_type": "code",
   "execution_count": null,
   "id": "4d8893ab",
   "metadata": {},
   "outputs": [
    {
     "name": "stdout",
     "output_type": "stream",
     "text": [
      "    ID Name     Dept  Salary\n",
      "0  101   CH       HR   50000\n",
      "1  102   KA       IT   60000\n",
      "2  103   VE  Finance   70000\n",
      "3  104   DH       HR   57000\n",
      "4  105   DE       IT   80000\n",
      "5  106   AY  Finance   55000\n",
      "6  107   DH       IT   58000\n"
     ]
    }
   ],
   "source": [
    "print(df) \n"
   ]
  },
  {
   "cell_type": "code",
   "execution_count": 26,
   "id": "a67815cd",
   "metadata": {},
   "outputs": [
    {
     "data": {
      "text/plain": [
       "Dept\n",
       "Finance    125000\n",
       "HR         107000\n",
       "IT         198000\n",
       "Name: Salary, dtype: int64"
      ]
     },
     "execution_count": 26,
     "metadata": {},
     "output_type": "execute_result"
    }
   ],
   "source": [
    "df.groupby(\"Dept\")[\"Salary\"].sum()"
   ]
  },
  {
   "cell_type": "code",
   "execution_count": 27,
   "id": "09a9b801",
   "metadata": {},
   "outputs": [
    {
     "data": {
      "text/plain": [
       "Dept\n",
       "Finance    2\n",
       "HR         2\n",
       "IT         3\n",
       "Name: Name, dtype: int64"
      ]
     },
     "execution_count": 27,
     "metadata": {},
     "output_type": "execute_result"
    }
   ],
   "source": [
    "df.groupby(\"Dept\")[\"Name\"].count()"
   ]
  },
  {
   "cell_type": "code",
   "execution_count": 28,
   "id": "7d8f5ab0",
   "metadata": {},
   "outputs": [
    {
     "data": {
      "text/plain": [
       "Dept\n",
       "Finance    62500.0\n",
       "HR         53500.0\n",
       "IT         66000.0\n",
       "Name: Salary, dtype: float64"
      ]
     },
     "execution_count": 28,
     "metadata": {},
     "output_type": "execute_result"
    }
   ],
   "source": [
    "df.groupby(\"Dept\")[\"Salary\"].mean()"
   ]
  },
  {
   "cell_type": "code",
   "execution_count": 39,
   "id": "703c42b8",
   "metadata": {},
   "outputs": [
    {
     "data": {
      "text/html": [
       "<div>\n",
       "<style scoped>\n",
       "    .dataframe tbody tr th:only-of-type {\n",
       "        vertical-align: middle;\n",
       "    }\n",
       "\n",
       "    .dataframe tbody tr th {\n",
       "        vertical-align: top;\n",
       "    }\n",
       "\n",
       "    .dataframe thead th {\n",
       "        text-align: right;\n",
       "    }\n",
       "</style>\n",
       "<table border=\"1\" class=\"dataframe\">\n",
       "  <thead>\n",
       "    <tr style=\"text-align: right;\">\n",
       "      <th></th>\n",
       "      <th>ID</th>\n",
       "      <th>Name</th>\n",
       "      <th>Dept</th>\n",
       "      <th>Salary</th>\n",
       "    </tr>\n",
       "  </thead>\n",
       "  <tbody>\n",
       "    <tr>\n",
       "      <th>2</th>\n",
       "      <td>103</td>\n",
       "      <td>VE</td>\n",
       "      <td>Finance</td>\n",
       "      <td>70000</td>\n",
       "    </tr>\n",
       "    <tr>\n",
       "      <th>3</th>\n",
       "      <td>104</td>\n",
       "      <td>DH</td>\n",
       "      <td>HR</td>\n",
       "      <td>57000</td>\n",
       "    </tr>\n",
       "    <tr>\n",
       "      <th>4</th>\n",
       "      <td>105</td>\n",
       "      <td>DE</td>\n",
       "      <td>IT</td>\n",
       "      <td>80000</td>\n",
       "    </tr>\n",
       "  </tbody>\n",
       "</table>\n",
       "</div>"
      ],
      "text/plain": [
       "    ID Name     Dept  Salary\n",
       "2  103   VE  Finance   70000\n",
       "3  104   DH       HR   57000\n",
       "4  105   DE       IT   80000"
      ]
     },
     "execution_count": 39,
     "metadata": {},
     "output_type": "execute_result"
    }
   ],
   "source": [
    "df.loc[df.groupby(\"Dept\")[\"Salary\"].idxmax()]"
   ]
  },
  {
   "cell_type": "code",
   "execution_count": 34,
   "id": "9ff9d1ac",
   "metadata": {},
   "outputs": [
    {
     "data": {
      "text/plain": [
       "Dept\n",
       "Finance    70000\n",
       "HR         57000\n",
       "IT         80000\n",
       "Name: Salary, dtype: int64"
      ]
     },
     "execution_count": 34,
     "metadata": {},
     "output_type": "execute_result"
    }
   ],
   "source": [
    "df.groupby(\"Dept\")[\"Salary\"].max()"
   ]
  },
  {
   "cell_type": "code",
   "execution_count": 40,
   "id": "e28b2ea7",
   "metadata": {},
   "outputs": [],
   "source": [
    "dfexcel = pd.read_excel('C:\\\\Users\\\\Home\\\\Downloads\\\\Documents\\\\SampleData.xlsx')"
   ]
  },
  {
   "cell_type": "code",
   "execution_count": 42,
   "id": "00befd5f",
   "metadata": {},
   "outputs": [
    {
     "data": {
      "text/plain": [
       "Pclass\n",
       "1    84.154687\n",
       "2    20.662183\n",
       "3    13.675550\n",
       "Name: Fare, dtype: float64"
      ]
     },
     "execution_count": 42,
     "metadata": {},
     "output_type": "execute_result"
    }
   ],
   "source": [
    "dfexcel.groupby(\"Pclass\")[\"Fare\"].mean()"
   ]
  },
  {
   "cell_type": "code",
   "execution_count": 46,
   "id": "6482fd98",
   "metadata": {},
   "outputs": [
    {
     "data": {
      "text/plain": [
       "Sex\n",
       "female    314\n",
       "male      577\n",
       "Name: Survived, dtype: int64"
      ]
     },
     "execution_count": 46,
     "metadata": {},
     "output_type": "execute_result"
    }
   ],
   "source": [
    "dfexcel.groupby(\"Sex\")[\"Survived\"].count()"
   ]
  },
  {
   "cell_type": "code",
   "execution_count": 51,
   "id": "470e3260",
   "metadata": {},
   "outputs": [
    {
     "data": {
      "text/plain": [
       "Pclass\n",
       "1    216\n",
       "2    184\n",
       "3    491\n",
       "Name: Sex, dtype: int64"
      ]
     },
     "execution_count": 51,
     "metadata": {},
     "output_type": "execute_result"
    }
   ],
   "source": [
    "dfexcel.groupby(\"Pclass\")[\"Sex\"].count()"
   ]
  },
  {
   "cell_type": "code",
   "execution_count": 48,
   "id": "62c25b76",
   "metadata": {},
   "outputs": [
    {
     "data": {
      "text/plain": [
       "Embarked\n",
       "C    168\n",
       "Q     77\n",
       "S    644\n",
       "Name: Sex, dtype: int64"
      ]
     },
     "execution_count": 48,
     "metadata": {},
     "output_type": "execute_result"
    }
   ],
   "source": [
    "dfexcel.groupby(\"Embarked\")[\"Sex\"].count()"
   ]
  },
  {
   "cell_type": "code",
   "execution_count": 53,
   "id": "35c22b39",
   "metadata": {},
   "outputs": [
    {
     "data": {
      "text/plain": [
       "Pclass\n",
       "1    122\n",
       "2    108\n",
       "3    347\n",
       "Name: Survived, dtype: int64"
      ]
     },
     "execution_count": 53,
     "metadata": {},
     "output_type": "execute_result"
    }
   ],
   "source": [
    "dfexcel[dfexcel[\"Sex\"] == \"male\"].groupby(\"Pclass\")[\"Survived\"].count()"
   ]
  },
  {
   "cell_type": "code",
   "execution_count": null,
   "id": "ae546d92",
   "metadata": {},
   "outputs": [],
   "source": []
  }
 ],
 "metadata": {
  "kernelspec": {
   "display_name": "base",
   "language": "python",
   "name": "python3"
  },
  "language_info": {
   "codemirror_mode": {
    "name": "ipython",
    "version": 3
   },
   "file_extension": ".py",
   "mimetype": "text/x-python",
   "name": "python",
   "nbconvert_exporter": "python",
   "pygments_lexer": "ipython3",
   "version": "3.12.7"
  }
 },
 "nbformat": 4,
 "nbformat_minor": 5
}
